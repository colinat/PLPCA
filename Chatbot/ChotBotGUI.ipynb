{
 "cells": [
  {
   "cell_type": "code",
   "execution_count": 24,
   "metadata": {},
   "outputs": [
    {
     "name": "stdout",
     "output_type": "stream",
     "text": [
      "\n",
      "dgfdg\n",
      "inside if dgfdg\n",
      "chatbot_response text :  dgfdg\n"
     ]
    }
   ],
   "source": [
    "def chatbot_response(text):\n",
    "    print(\"chatbot_response text : \", text)\n",
    "    #ints = predict_class(text, model)\n",
    "    #print(\"chatbot_response ints : \", ints)\n",
    "    #res = getResponse(ints, intents)\n",
    "    return \"response is on the way!!!\"\n",
    "\n",
    "#Creating GUI with tkinter\n",
    "import tkinter\n",
    "from tkinter import *\n",
    "\n",
    "def chatMsg(msg1, msg2):\n",
    "    ChatLog.config(state=NORMAL)\n",
    "    ChatLog.insert(END, \"You: \" + msg1 + '\\n\\n')\n",
    "    ChatLog.config(foreground=\"#442265\", font=(\"Verdana\", 12 ))\n",
    "    ChatLog.insert(END, \"Bot: \" + msg2 + '\\n\\n')\n",
    "    ChatLog.config(state=DISABLED)\n",
    "    ChatLog.yview(END)\n",
    "    \n",
    "def send():\n",
    "    msg = EntryBox.get(\"1.0\",'end-1c').strip()\n",
    "    print(msg)\n",
    "    EntryBox.delete(\"0.0\",END)\n",
    "    \n",
    "    if msg != '':\n",
    "        print(\"inside if\" , msg)\n",
    "        msg1 = msg\n",
    "        msg2 = chatbot_response(msg)\n",
    "        chatMsg(msg1, msg2)\n",
    "    else:\n",
    "        msg1 = msg\n",
    "        msg2 = \"Msg is blank!!!\"\n",
    "        chatMsg(msg1, msg2)    \n",
    "        \n",
    "        \n",
    "base = Tk()\n",
    "base.title(\"ChatBot\")\n",
    "base.geometry(\"400x500\")\n",
    "base.resizable(width=FALSE, height=FALSE)\n",
    "#Create Chat window\n",
    "ChatLog = Text(base, bd=0, bg=\"white\", height=\"8\", width=\"50\", font=\"Arial\",)\n",
    "ChatLog.config(state=DISABLED)\n",
    "#Bind scrollbar to Chat window\n",
    "scrollbar = Scrollbar(base, command=ChatLog.yview, cursor=\"heart\")\n",
    "ChatLog['yscrollcommand'] = scrollbar.set\n",
    "#Create Button to send message\n",
    "SendButton = Button(base, font=(\"Verdana\",12,'bold'), text=\"Send\", width=\"12\", height=5,\n",
    "                    bd=0, bg=\"#32de97\", activebackground=\"#3c9d9b\",fg='#ffffff',\n",
    "                    command= send )\n",
    "#Create the box to enter message\n",
    "EntryBox = Text(base, bd=0, bg=\"white\",width=\"29\", height=\"5\", font=\"Arial\")\n",
    "#EntryBox.bind(\"<Return>\", send)\n",
    "#Place all components on the screen\n",
    "scrollbar.place(x=376,y=6, height=386)\n",
    "ChatLog.place(x=6,y=6, height=386, width=370)\n",
    "EntryBox.place(x=128, y=401, height=90, width=265)\n",
    "EntryBox.config(foreground=\"#442265\", font=(\"Verdana\", 14 ))\n",
    "\n",
    "SendButton.place(x=6, y=401, height=90)\n",
    "\n",
    "ChatLog.config(state=NORMAL)\n",
    "ChatLog.insert(END, \"Bot: \" + \"Hello there!!!\" + '\\n\\n')\n",
    "ChatLog.config(foreground=\"#442265\", font=(\"Verdana\", 12 ))\n",
    "ChatLog.config(state=DISABLED)\n",
    "base.mainloop()\n"
   ]
  },
  {
   "cell_type": "code",
   "execution_count": null,
   "metadata": {},
   "outputs": [],
   "source": []
  },
  {
   "cell_type": "code",
   "execution_count": null,
   "metadata": {},
   "outputs": [],
   "source": []
  }
 ],
 "metadata": {
  "kernelspec": {
   "display_name": "Python 3",
   "language": "python",
   "name": "python3"
  },
  "language_info": {
   "codemirror_mode": {
    "name": "ipython",
    "version": 3
   },
   "file_extension": ".py",
   "mimetype": "text/x-python",
   "name": "python",
   "nbconvert_exporter": "python",
   "pygments_lexer": "ipython3",
   "version": "3.6.10"
  }
 },
 "nbformat": 4,
 "nbformat_minor": 4
}
