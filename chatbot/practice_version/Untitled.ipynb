{
 "cells": [
  {
   "cell_type": "code",
   "execution_count": null,
   "metadata": {},
   "outputs": [],
   "source": [
    "!python -m rasa_nlu.train -c nlu_config.yml --data data/nlu_data.md -o models --fixed_model_name nlu --project current --verbose"
   ]
  },
  {
   "cell_type": "code",
   "execution_count": 2,
   "metadata": {},
   "outputs": [
    {
     "name": "stderr",
     "output_type": "stream",
     "text": [
      "C:\\Users\\Colin\\Anaconda3\\envs\\chatbot\\lib\\site-packages\\h5py\\__init__.py:36: FutureWarning: Conversion of the second argument of issubdtype from `float` to `np.floating` is deprecated. In future, it will be treated as `np.float64 == np.dtype(float).type`.\n",
      "  from ._conv import register_converters as _register_converters\n"
     ]
    },
    {
     "data": {
      "text/plain": [
       "{'intent': {'name': 'current_matches', 'confidence': 0.6627470590536921},\n",
       " 'entities': [],\n",
       " 'intent_ranking': [{'name': 'current_matches',\n",
       "   'confidence': 0.6627470590536921},\n",
       "  {'name': 'goodbye', 'confidence': 0.11812074109131476},\n",
       "  {'name': 'deny', 'confidence': 0.06733683680533953},\n",
       "  {'name': 'thanks', 'confidence': 0.059528952856521364},\n",
       "  {'name': 'affirm', 'confidence': 0.05848372516190334},\n",
       "  {'name': 'greet', 'confidence': 0.033782685031229394}],\n",
       " 'text': 'what is happening in the cricket world these days?'}"
      ]
     },
     "execution_count": 2,
     "metadata": {},
     "output_type": "execute_result"
    }
   ],
   "source": [
    "from rasa_nlu.model import Interpreter\n",
    "nlu_model = Interpreter.load('./models/current/nlu')\n",
    "nlu_model.parse('what is happening in the cricket world these days?')\n"
   ]
  },
  {
   "cell_type": "code",
   "execution_count": 3,
   "metadata": {},
   "outputs": [
    {
     "name": "stderr",
     "output_type": "stream",
     "text": [
      "C:\\Users\\Colin\\Anaconda3\\envs\\chatbot\\lib\\site-packages\\h5py\\__init__.py:36: FutureWarning: Conversion of the second argument of issubdtype from `float` to `np.floating` is deprecated. In future, it will be treated as `np.float64 == np.dtype(float).type`.\n",
      "  from ._conv import register_converters as _register_converters\n",
      "2020-03-09 23:25:14 INFO     __main__  - Starting to visualize stories...\n",
      "2020-03-09 23:25:14 WARNING  rasa_core.training.dsl  - Found unknown intent 'current_matches' on line 4. Please, make sure that all intents are listed in your domain yaml.\n",
      "2020-03-09 23:25:14 WARNING  rasa_core.training.dsl  - Found unknown intent 'affirm or thanks' on line 7. Please, make sure that all intents are listed in your domain yaml.\n",
      "2020-03-09 23:25:14 WARNING  rasa_core.training.dsl  - Found unknown intent 'current_matches' on line 13. Please, make sure that all intents are listed in your domain yaml.\n",
      "2020-03-09 23:25:14 WARNING  rasa_core.training.dsl  - Found unknown intent 'affirm or thanks' on line 16. Please, make sure that all intents are listed in your domain yaml.\n",
      "2020-03-09 23:25:14 WARNING  rasa_core.training.dsl  - Found unknown intent 'current_matches' on line 24. Please, make sure that all intents are listed in your domain yaml.\n",
      "2020-03-09 23:25:14 WARNING  rasa_core.training.dsl  - Found unknown intent 'current_matches' on line 29. Please, make sure that all intents are listed in your domain yaml.\n",
      "2020-03-09 23:25:14 WARNING  rasa_core.training.dsl  - Found unknown intent 'affirm or thanks' on line 32. Please, make sure that all intents are listed in your domain yaml.\n",
      "\n",
      "Processed Story Blocks:   0%|          | 0/5 [00:00<?, ?it/s]\n",
      "Processed Story Blocks:   0%|          | 0/5 [00:00<?, ?it/s, # trackers=1]\n",
      "Processed Story Blocks:   0%|          | 0/5 [00:00<?, ?it/s, # trackers=1]\n",
      "Processed Story Blocks:   0%|          | 0/5 [00:00<?, ?it/s, # trackers=1]\n",
      "Processed Story Blocks:   0%|          | 0/5 [00:00<?, ?it/s, # trackers=1]\n",
      "Processed Story Blocks:   0%|          | 0/5 [00:00<?, ?it/s, # trackers=1]\n",
      "Processed Story Blocks: 100%|##########| 5/5 [00:00<00:00, 4819.93it/s, # trackers=1]\n",
      "2020-03-09 23:25:14 INFO     __main__  - Finished graph creation. Saved into file://C:\\Users\\Colin\\Documents\\GitHub\\PLPCA\\ilpbot\\practice_version\\graph.html\n"
     ]
    }
   ],
   "source": [
    "!python -m rasa_core.visualize -d domain.yml -s data/stories.md -o graph.html"
   ]
  },
  {
   "cell_type": "code",
   "execution_count": null,
   "metadata": {},
   "outputs": [],
   "source": [
    "!python -m rasa_core.train -d domain.yml -s data/stories.md -o models/current/dialogue -c policies.yml"
   ]
  },
  {
   "cell_type": "code",
   "execution_count": null,
   "metadata": {},
   "outputs": [],
   "source": []
  }
 ],
 "metadata": {
  "kernelspec": {
   "display_name": "Python 3",
   "language": "python",
   "name": "python3"
  },
  "language_info": {
   "codemirror_mode": {
    "name": "ipython",
    "version": 3
   },
   "file_extension": ".py",
   "mimetype": "text/x-python",
   "name": "python",
   "nbconvert_exporter": "python",
   "pygments_lexer": "ipython3",
   "version": "3.6.10"
  }
 },
 "nbformat": 4,
 "nbformat_minor": 4
}
