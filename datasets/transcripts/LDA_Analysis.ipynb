{
 "cells": [
  {
   "cell_type": "markdown",
   "metadata": {},
   "source": [
    "# 1. Introduction\n",
    "One of the primary applications of natural language processing is to automatically extract what topics people are discussing from large volumes of text. Some examples of large text could be feeds from social media, customer reviews of hotels, movies, etc, user feedbacks, news stories, e-mails of customer complaints etc.\n",
    "\n",
    "Knowing what people are talking about and understanding their problems and opinions is highly valuable to businesses, administrators, political campaigns. And it’s really hard to manually read through such large volumes and compile the topics.\n",
    "\n",
    "Thus is required an automated algorithm that can read through the text documents and automatically output the topics discussed.\n",
    "\n",
    "In this tutorial, we will take a real example of the ’20 Newsgroups’ dataset and use LDA to extract the naturally discussed topics.\n",
    "\n",
    "I will be using the Latent Dirichlet Allocation (LDA) from Gensim package along with the Mallet’s implementation (via Gensim). Mallet has an efficient implementation of the LDA. It is known to run faster and gives better topics segregation.\n",
    "\n",
    "We will also extract the volume and percentage contribution of each topic to get an idea of how important a topic is.\n",
    "\n",
    "Let’s begin!"
   ]
  },
  {
   "cell_type": "markdown",
   "metadata": {},
   "source": [
    "Source: https://www.machinelearningplus.com/nlp/topic-modeling-gensim-python/"
   ]
  },
  {
   "cell_type": "markdown",
   "metadata": {},
   "source": [
    "# 2. Prerequisites – Download nltk stopwords and spacy model\n",
    "We will need the stopwords from NLTK and spacy’s en model for text pre-processing. Later, we will be using the spacy model for lemmatization.\n",
    "\n",
    "Lemmatization is nothing but converting a word to its root word.  \n",
    "For example: the lemma of the word ‘machines’ is ‘machine’.   \n",
    "Likewise, ‘walking’ –> ‘walk’,   \n",
    "‘mice’ –> ‘mouse’ and so on."
   ]
  },
  {
   "cell_type": "code",
   "execution_count": 1,
   "metadata": {},
   "outputs": [
    {
     "name": "stdout",
     "output_type": "stream",
     "text": [
      "[nltk_data] Downloading package stopwords to\n",
      "[nltk_data]     /Users/briansum/nltk_data...\n",
      "[nltk_data]   Package stopwords is already up-to-date!\n"
     ]
    },
    {
     "data": {
      "text/plain": [
       "True"
      ]
     },
     "execution_count": 1,
     "metadata": {},
     "output_type": "execute_result"
    }
   ],
   "source": [
    "# Run in python console\n",
    "import nltk #; nltk.download('stopwords')"
   ]
  },
  {
   "cell_type": "code",
   "execution_count": 2,
   "metadata": {},
   "outputs": [],
   "source": [
    "# Run in terminal or command prompt\n",
    "#!python -m spacy download en"
   ]
  },
  {
   "cell_type": "markdown",
   "metadata": {},
   "source": [
    "# 3. Import Packages\n",
    "The core packages used in this tutorial are re, gensim, spacy and pyLDAvis. Besides this we will also using matplotlib, numpy and pandas for data handling and visualization. Let’s import them."
   ]
  },
  {
   "cell_type": "code",
   "execution_count": 3,
   "metadata": {},
   "outputs": [],
   "source": [
    "import re\n",
    "import numpy as np\n",
    "import pandas as pd\n",
    "from pprint import pprint\n",
    "\n",
    "# Gensim\n",
    "import gensim\n",
    "import gensim.corpora as corpora\n",
    "from gensim.utils import simple_preprocess\n",
    "from gensim.models import CoherenceModel\n",
    "\n",
    "# spacy for lemmatization\n",
    "import spacy\n",
    "\n",
    "# Plotting tools\n",
    "import pyLDAvis\n",
    "import pyLDAvis.gensim  # don't skip this\n",
    "import matplotlib.pyplot as plt\n",
    "%matplotlib inline\n",
    "\n",
    "# Enable logging for gensim - optional\n",
    "import logging\n",
    "logging.basicConfig(format='%(asctime)s : %(levelname)s : %(message)s', level=logging.ERROR)\n",
    "\n",
    "import warnings\n",
    "warnings.filterwarnings(\"ignore\",category=DeprecationWarning)"
   ]
  },
  {
   "cell_type": "code",
   "execution_count": 4,
   "metadata": {},
   "outputs": [],
   "source": [
    "#!pip install pyLDAvis"
   ]
  },
  {
   "cell_type": "markdown",
   "metadata": {},
   "source": [
    "# 4. What does LDA do?\n",
    "LDA’s approach to topic modeling is it considers each document as a collection of topics in a certain proportion. And each topic as a collection of keywords, again, in a certain proportion.\n",
    "\n",
    "Once you provide the algorithm with the number of topics, all it does it to rearrange the topics distribution within the documents and keywords distribution within the topics to obtain a good composition of topic-keywords distribution.\n",
    "\n",
    "When I say topic, what is it actually and how it is represented?\n",
    "\n",
    "A topic is nothing but a collection of dominant keywords that are typical representatives. Just by looking at the keywords, you can identify what the topic is all about.\n",
    "\n",
    "The following are key factors to obtaining good segregation topics:\n",
    "\n",
    "The quality of text processing.\n",
    "The variety of topics the text talks about.\n",
    "The choice of topic modeling algorithm.\n",
    "The number of topics fed to the algorithm.\n",
    "The algorithms tuning parameters."
   ]
  },
  {
   "cell_type": "markdown",
   "metadata": {},
   "source": [
    "# 5. Prepare Stopwords\n",
    "We have already downloaded the stopwords. Let’s import them and make it available in stop_words."
   ]
  },
  {
   "cell_type": "code",
   "execution_count": 5,
   "metadata": {},
   "outputs": [],
   "source": [
    "# NLTK Stop words\n",
    "from nltk.corpus import stopwords\n",
    "stop_words = stopwords.words('english')\n",
    "stop_words.extend(['from', 'subject', 're', 'edu', 'use'])"
   ]
  },
  {
   "cell_type": "markdown",
   "metadata": {},
   "source": [
    "# 6. Import Data"
   ]
  },
  {
   "cell_type": "code",
   "execution_count": 6,
   "metadata": {},
   "outputs": [],
   "source": [
    "# Import Dataset\n",
    "df=pd.read_csv('Illumina Inc_20170131-Text.txt', sep='\\t', header=None, names = [\"text\"])"
   ]
  },
  {
   "cell_type": "code",
   "execution_count": 7,
   "metadata": {},
   "outputs": [
    {
     "name": "stdout",
     "output_type": "stream",
     "text": [
      "                                                text\n",
      "0                                 Thank you, Francis\n",
      "1  As Francis mentioned, Q4 revenue grew 5% year-...\n",
      "2  As a result of growth in our installed base, i...\n",
      "3  MiSeq pull-through was in our projected range ...\n",
      "4  HiSeq and HiSeq X utilization were within thei...\n"
     ]
    }
   ],
   "source": [
    "print(df.head())"
   ]
  },
  {
   "cell_type": "markdown",
   "metadata": {},
   "source": [
    "# 7. Cleaning Data\n",
    "As you can see there are many noise characters and extra spaces that is quite distracting. Let’s get rid of them using regular expressions."
   ]
  },
  {
   "cell_type": "code",
   "execution_count": 8,
   "metadata": {},
   "outputs": [],
   "source": [
    "# Convert to list\n",
    "data = df.text.values.tolist()"
   ]
  },
  {
   "cell_type": "code",
   "execution_count": 9,
   "metadata": {},
   "outputs": [],
   "source": [
    "# Remove Emails\n",
    "data = [re.sub('\\S*@\\S*\\s?', '', sent) for sent in data]"
   ]
  },
  {
   "cell_type": "code",
   "execution_count": 10,
   "metadata": {},
   "outputs": [],
   "source": [
    "# Remove new line characters\n",
    "data = [re.sub('\\s+', ' ', sent) for sent in data]"
   ]
  },
  {
   "cell_type": "code",
   "execution_count": 11,
   "metadata": {},
   "outputs": [],
   "source": [
    "# Remove distracting single quotes\n",
    "data = [re.sub(\"\\'\", \"\", sent) for sent in data]"
   ]
  },
  {
   "cell_type": "code",
   "execution_count": 12,
   "metadata": {},
   "outputs": [
    {
     "name": "stdout",
     "output_type": "stream",
     "text": [
      "['Thank you, Francis']\n"
     ]
    }
   ],
   "source": [
    "pprint(data[:1])"
   ]
  },
  {
   "cell_type": "markdown",
   "metadata": {},
   "source": [
    "After removing the stopwords and extra spaces, the text still looks messy. It is not ready for the LDA to consume. You need to break down each sentence into a list of words through tokenization, while clearing up all the messy text in the process.\n",
    "\n",
    "Gensim’s simple_preprocess is great for this."
   ]
  },
  {
   "cell_type": "markdown",
   "metadata": {},
   "source": [
    "# 8. Tokenize words and Clean-up text\n",
    "Let’s tokenize each sentence into a list of words, removing punctuations and unnecessary characters altogether.\n",
    "\n",
    "Gensim’s simple_preprocess() is great for this. Additionally I have set deacc=True to remove the punctuations."
   ]
  },
  {
   "cell_type": "code",
   "execution_count": 13,
   "metadata": {},
   "outputs": [],
   "source": [
    "def sent_to_words(sentences):\n",
    "    for sentence in sentences:\n",
    "        yield(gensim.utils.simple_preprocess(str(sentence), deacc=True))  # deacc=True removes punctuations\n",
    "\n",
    "data_words = list(sent_to_words(data))"
   ]
  },
  {
   "cell_type": "code",
   "execution_count": 14,
   "metadata": {},
   "outputs": [
    {
     "name": "stdout",
     "output_type": "stream",
     "text": [
      "[['thank', 'you', 'francis'], ['as', 'francis', 'mentioned', 'revenue', 'grew', 'year', 'over', 'year', 'to', 'million', 'consistent', 'with', 'our', 'preliminary', 'estimates', 'on', 'january', 'fourth', 'quarter', 'consumable', 'revenue', 'represented', 'of', 'total', 'revenue', 'or', 'million', 'an', 'increase', 'of', 'compared', 'to', 'the', 'fourth', 'quarter', 'of', 'sequencing', 'consumable', 'revenue', 'grew', 'year', 'over', 'year', 'to', 'million']]\n"
     ]
    }
   ],
   "source": [
    "print(data_words[:2])"
   ]
  },
  {
   "cell_type": "markdown",
   "metadata": {},
   "source": [
    "# 9. Creating Bigram and Trigram Models\n",
    "Bigrams are two words frequently occurring together in the document. Trigrams are 3 words frequently occurring.\n",
    "\n",
    "Some examples in our example are: ‘front_bumper’, ‘oil_leak’, ‘maryland_college_park’ etc.\n",
    "\n",
    "Gensim’s Phrases model can build and implement the bigrams, trigrams, quadgrams and more. The two important arguments to Phrases are min_count and threshold. The higher the values of these param, the harder it is for words to be combined to bigrams."
   ]
  },
  {
   "cell_type": "code",
   "execution_count": 15,
   "metadata": {},
   "outputs": [],
   "source": [
    "# Build the bigram and trigram models\n",
    "bigram = gensim.models.Phrases(data_words, min_count=5, threshold=100) # higher threshold fewer phrases.\n",
    "trigram = gensim.models.Phrases(bigram[data_words], threshold=100)  \n",
    "\n",
    "# Faster way to get a sentence clubbed as a trigram/bigram\n",
    "bigram_mod = gensim.models.phrases.Phraser(bigram)\n",
    "trigram_mod = gensim.models.phrases.Phraser(trigram)"
   ]
  },
  {
   "cell_type": "code",
   "execution_count": 16,
   "metadata": {},
   "outputs": [
    {
     "name": "stdout",
     "output_type": "stream",
     "text": [
      "['thank', 'you', 'francis']\n"
     ]
    }
   ],
   "source": [
    "# See trigram example\n",
    "print(trigram_mod[bigram_mod[data_words[0]]])"
   ]
  },
  {
   "cell_type": "markdown",
   "metadata": {},
   "source": [
    "# 10. Remove Stopwords, Make Bigrams and Lemmatize\n",
    "The bigrams model is ready. Let’s define the functions to remove the stopwords, make bigrams and lemmatization and call them sequentially."
   ]
  },
  {
   "cell_type": "code",
   "execution_count": 17,
   "metadata": {},
   "outputs": [],
   "source": [
    "# Define functions for stopwords, bigrams, trigrams and lemmatization\n",
    "def remove_stopwords(texts):\n",
    "    return [[word for word in simple_preprocess(str(doc)) if word not in stop_words] for doc in texts]\n",
    "\n",
    "def make_bigrams(texts):\n",
    "    return [bigram_mod[doc] for doc in texts]\n",
    "\n",
    "def make_trigrams(texts):\n",
    "    return [trigram_mod[bigram_mod[doc]] for doc in texts]\n",
    "\n",
    "def lemmatization(texts, allowed_postags=['NOUN', 'ADJ', 'VERB', 'ADV']):\n",
    "    \"\"\"https://spacy.io/api/annotation\"\"\"\n",
    "    texts_out = []\n",
    "    for sent in texts:\n",
    "        doc = nlp(\" \".join(sent)) \n",
    "        texts_out.append([token.lemma_ for token in doc if token.pos_ in allowed_postags])\n",
    "    return texts_out"
   ]
  },
  {
   "cell_type": "code",
   "execution_count": 18,
   "metadata": {},
   "outputs": [],
   "source": [
    "# Let’s call the functions in order.\n",
    "\n",
    "# Remove Stop Words\n",
    "data_words_nostops = remove_stopwords(data_words)\n",
    "\n",
    "# Form Bigrams\n",
    "data_words_bigrams = make_bigrams(data_words_nostops)"
   ]
  },
  {
   "cell_type": "code",
   "execution_count": 19,
   "metadata": {},
   "outputs": [],
   "source": [
    "# Initialize spacy 'en' model, keeping only tagger component (for efficiency)\n",
    "# python3 -m spacy download en\n",
    "nlp = spacy.load('en', disable=['parser', 'ner'])"
   ]
  },
  {
   "cell_type": "code",
   "execution_count": 20,
   "metadata": {},
   "outputs": [
    {
     "name": "stdout",
     "output_type": "stream",
     "text": [
      "[['thank'], ['mention', 'revenue', 'grow', 'year', 'year', 'consistent', 'preliminary', 'estimate', 'fourth', 'quarter', 'consumable', 'revenue', 'represent', 'total', 'revenue', 'increase', 'compare', 'fourth', 'quarter', 'sequence', 'consumable', 'revenue', 'grow', 'year', 'year']]\n"
     ]
    }
   ],
   "source": [
    "# Do lemmatization keeping only noun, adj, vb, adv\n",
    "data_lemmatized = lemmatization(data_words_bigrams, allowed_postags=['NOUN', 'ADJ', 'VERB', 'ADV'])\n",
    "\n",
    "print(data_lemmatized[:2])"
   ]
  },
  {
   "cell_type": "markdown",
   "metadata": {},
   "source": [
    "# 11. Create the Dictionary and Corpus needed for Topic Modeling\n",
    "The two main inputs to the LDA topic model are the dictionary(id2word) and the corpus. Let’s create them."
   ]
  },
  {
   "cell_type": "code",
   "execution_count": 21,
   "metadata": {},
   "outputs": [],
   "source": [
    "# Create Dictionary\n",
    "id2word = corpora.Dictionary(data_lemmatized)\n",
    "\n",
    "# Create Corpus\n",
    "texts = data_lemmatized\n",
    "\n",
    "# Term Document Frequency\n",
    "corpus = [id2word.doc2bow(text) for text in texts]"
   ]
  },
  {
   "cell_type": "code",
   "execution_count": 22,
   "metadata": {},
   "outputs": [
    {
     "name": "stdout",
     "output_type": "stream",
     "text": [
      "[[(0, 1)], [(1, 1), (2, 1), (3, 2), (4, 1), (5, 2), (6, 2), (7, 1), (8, 1), (9, 1), (10, 2), (11, 1), (12, 4), (13, 1), (14, 1), (15, 4)]]\n"
     ]
    }
   ],
   "source": [
    "# View\n",
    "print(corpus[:2])"
   ]
  },
  {
   "cell_type": "markdown",
   "metadata": {},
   "source": [
    "Gensim creates a unique id for each word in the document. The produced corpus shown above is a mapping of (word_id, word_frequency).\n",
    "\n",
    "For example, (0, 1) above implies, word id 0 occurs once in the first document. Likewise, word id 1 occurs twice and so on.\n",
    "\n",
    "This is used as the input by the LDA model.\n",
    "\n",
    "If you want to see what word a given id corresponds to, pass the id as a key to the dictionary.\n",
    "\n",
    "id2word[0]\n",
    "'addition'\n",
    "Or, you can see a human-readable form of the corpus itself."
   ]
  },
  {
   "cell_type": "code",
   "execution_count": 23,
   "metadata": {},
   "outputs": [
    {
     "data": {
      "text/plain": [
       "[[('thank', 1)],\n",
       " [('compare', 1),\n",
       "  ('consistent', 1),\n",
       "  ('consumable', 2),\n",
       "  ('estimate', 1),\n",
       "  ('fourth', 2),\n",
       "  ('grow', 2),\n",
       "  ('increase', 1),\n",
       "  ('mention', 1),\n",
       "  ('preliminary', 1),\n",
       "  ('quarter', 2),\n",
       "  ('represent', 1),\n",
       "  ('revenue', 4),\n",
       "  ('sequence', 1),\n",
       "  ('total', 1),\n",
       "  ('year', 4)]]"
      ]
     },
     "execution_count": 23,
     "metadata": {},
     "output_type": "execute_result"
    }
   ],
   "source": [
    "# Human readable format of corpus (term-frequency)\n",
    "[[(id2word[id], freq) for id, freq in cp] for cp in corpus[:2]]"
   ]
  },
  {
   "cell_type": "markdown",
   "metadata": {},
   "source": [
    "Alright, without digressing further let’s jump back on track with the next step: Building the topic model."
   ]
  },
  {
   "cell_type": "markdown",
   "metadata": {},
   "source": [
    "# 12. Building the Topic Model\n",
    "We have everything required to train the LDA model. In addition to the corpus and dictionary, you need to provide the number of topics as well.\n",
    "\n",
    "Apart from that, **alpha** and **eta** are hyperparameters that affect sparsity of the topics. According to the Gensim docs, both defaults to 1.0/num_topics prior.\n",
    "\n",
    "**chunksize** is the number of documents to be used in each training chunk. **update_every** determines how often the model parameters should be updated and **passes** is the total number of training passes."
   ]
  },
  {
   "cell_type": "code",
   "execution_count": 24,
   "metadata": {},
   "outputs": [],
   "source": [
    "# Build LDA model\n",
    "lda_model = gensim.models.ldamodel.LdaModel(corpus=corpus,\n",
    "                                           id2word=id2word,\n",
    "                                           num_topics=20, \n",
    "                                           random_state=100,\n",
    "                                           update_every=1,\n",
    "                                           chunksize=100,\n",
    "                                           passes=10,\n",
    "                                           alpha='auto',\n",
    "                                           per_word_topics=True)"
   ]
  },
  {
   "cell_type": "markdown",
   "metadata": {},
   "source": [
    "# 13. View the topics in LDA model\n",
    "The above LDA model is built with 20 different topics where each topic is a combination of keywords and each keyword contributes a certain weightage to the topic.\n",
    "\n",
    "You can see the keywords for each topic and the weightage(importance) of each keyword using lda_model.print_topics() as shown next."
   ]
  },
  {
   "cell_type": "code",
   "execution_count": 25,
   "metadata": {},
   "outputs": [
    {
     "name": "stdout",
     "output_type": "stream",
     "text": [
      "[(0,\n",
      "  '0.091*\"gaap\" + 0.052*\"earning\" + 0.052*\"diluted\" + 0.052*\"share\" + '\n",
      "  '0.052*\"non\" + 0.027*\"day\" + 0.027*\"ep\" + 0.027*\"expect\" + 0.026*\"expense\" + '\n",
      "  '0.014*\"slightly\"'),\n",
      " (1,\n",
      "  '0.048*\"really\" + 0.048*\"think\" + 0.048*\"consumable\" + 0.046*\"work\" + '\n",
      "  '0.024*\"sample\" + 0.024*\"drive\" + 0.024*\"way\" + 0.024*\"good\" + 0.024*\"first\" '\n",
      "  '+ 0.024*\"foremost\"'),\n",
      " (2,\n",
      "  '0.042*\"increase\" + 0.042*\"revenue\" + 0.042*\"question\" + 0.021*\"quarter\" + '\n",
      "  '0.021*\"adjust\" + 0.021*\"equal\" + 0.021*\"development\" + 0.021*\"adjusted\" + '\n",
      "  '0.021*\"full\" + 0.021*\"expense\"'),\n",
      " (3,\n",
      "  '0.059*\"hiseq\" + 0.044*\"customer\" + 0.040*\"instrument\" + 0.030*\"quarter\" + '\n",
      "  '0.030*\"include\" + 0.030*\"novaseq\" + 0.030*\"take\" + 0.030*\"fully\" + '\n",
      "  '0.029*\"few\" + 0.021*\"go\"'),\n",
      " (4,\n",
      "  '0.042*\"consumable\" + 0.042*\"sequence\" + 0.028*\"year\" + 0.028*\"revenue\" + '\n",
      "  '0.028*\"prior\" + 0.028*\"number\" + 0.028*\"sample\" + 0.015*\"include\" + '\n",
      "  '0.015*\"grail\" + 0.015*\"result\"'),\n",
      " (5,\n",
      "  '0.003*\"prior\" + 0.003*\"hence\" + 0.003*\"less\" + 0.003*\"headwind\" + '\n",
      "  '0.003*\"current\" + 0.003*\"currency\" + 0.003*\"contribution\" + 0.003*\"company\" '\n",
      "  '+ 0.003*\"sale\" + 0.003*\"full\"'),\n",
      " (6,\n",
      "  '0.065*\"business\" + 0.033*\"couple\" + 0.033*\"call\" + 0.033*\"area\" + '\n",
      "  '0.033*\"grow\" + 0.033*\"array\" + 0.033*\"cite\" + 0.033*\"consumer\" + '\n",
      "  '0.033*\"obviously\" + 0.033*\"largely\"'),\n",
      " (7,\n",
      "  '0.023*\"quarter\" + 0.023*\"previously\" + 0.023*\"program\" + 0.023*\"share\" + '\n",
      "  '0.023*\"announce\" + 0.023*\"price\" + 0.023*\"leave\" + 0.023*\"authorization\" + '\n",
      "  '0.023*\"average\" + 0.023*\"remain\"'),\n",
      " (8,\n",
      "  '0.053*\"gaap\" + 0.036*\"point\" + 0.036*\"basis\" + 0.036*\"fourth\" + '\n",
      "  '0.036*\"quarter\" + 0.018*\"product\" + 0.018*\"gross\" + 0.018*\"family\" + '\n",
      "  '0.018*\"low\" + 0.018*\"adjust\"'),\n",
      " (9,\n",
      "  '0.034*\"increase\" + 0.033*\"range\" + 0.033*\"utilization\" + 0.033*\"guidance\" + '\n",
      "  '0.033*\"instal\" + 0.033*\"hiseq\" + 0.033*\"gain\" + 0.033*\"base\" + 0.033*\"end\" '\n",
      "  '+ 0.033*\"pull\"'),\n",
      " (10,\n",
      "  '0.050*\"margin\" + 0.036*\"impact\" + 0.029*\"compensation\" + 0.029*\"due\" + '\n",
      "  '0.027*\"report\" + 0.022*\"result\" + 0.022*\"gross\" + 0.022*\"operate\" + '\n",
      "  '0.020*\"expect\" + 0.014*\"benefit\"'),\n",
      " (11,\n",
      "  '0.044*\"s\" + 0.044*\"new\" + 0.023*\"reason\" + 0.023*\"there\" + 0.023*\"assume\" + '\n",
      "  '0.023*\"talk\" + 0.023*\"have\" + 0.023*\"change\" + 0.023*\"agency\" + '\n",
      "  '0.023*\"would\"'),\n",
      " (12,\n",
      "  '0.030*\"year\" + 0.030*\"service\" + 0.030*\"miniseq\" + 0.030*\"stop\" + '\n",
      "  '0.030*\"margin\" + 0.030*\"instrument\" + 0.030*\"forecast\" + '\n",
      "  '0.016*\"introduction\" + 0.016*\"depress\" + 0.016*\"platform\"'),\n",
      " (13,\n",
      "  '0.036*\"non\" + 0.036*\"expense\" + 0.036*\"item\" + 0.036*\"result\" + '\n",
      "  '0.036*\"dilution\" + 0.036*\"include\" + 0.036*\"full\" + 0.036*\"year\" + '\n",
      "  '0.019*\"operating\" + 0.019*\"highlight\"'),\n",
      " (14,\n",
      "  '0.036*\"instrument\" + 0.024*\"dozen\" + 0.024*\"revenue\" + 0.024*\"service\" + '\n",
      "  '0.024*\"end\" + 0.024*\"decline\" + 0.024*\"expect\" + 0.024*\"contract\" + '\n",
      "  '0.024*\"low\" + 0.024*\"growth\"'),\n",
      " (15,\n",
      "  '0.040*\"pull\" + 0.040*\"eventually\" + 0.040*\"range\" + 0.040*\"probably\" + '\n",
      "  '0.040*\"give\" + 0.040*\"good\" + 0.040*\"point\" + 0.040*\"sense\" + 0.040*\"look\" '\n",
      "  '+ 0.002*\"headwind\"'),\n",
      " (16,\n",
      "  '0.057*\"quarter\" + 0.057*\"time\" + 0.038*\"get\" + 0.020*\"month\" + 0.020*\"buy\" '\n",
      "  '+ 0.020*\"ultimately\" + 0.020*\"due\" + 0.020*\"will\" + 0.020*\"customer\" + '\n",
      "  '0.020*\"instead\"'),\n",
      " (17,\n",
      "  '0.058*\"tend\" + 0.030*\"ship\" + 0.030*\"mostly\" + 0.030*\"lag\" + '\n",
      "  '0.030*\"instrument\" + 0.030*\"decommissioning\" + 0.030*\"rollout\" + '\n",
      "  '0.030*\"decommission\" + 0.030*\"update\" + 0.030*\"bear\"'),\n",
      " (18,\n",
      "  '0.059*\"year\" + 0.057*\"quarter\" + 0.047*\"cash\" + 0.047*\"revenue\" + '\n",
      "  '0.035*\"increase\" + 0.035*\"fourth\" + 0.024*\"grail\" + 0.024*\"consumable\" + '\n",
      "  '0.024*\"grow\" + 0.023*\"investment\"'),\n",
      " (19,\n",
      "  '0.030*\"earning\" + 0.030*\"stockholder\" + 0.030*\"note\" + 0.030*\"income\" + '\n",
      "  '0.030*\"net\" + 0.030*\"result\" + 0.030*\"share\" + 0.030*\"subsequent\" + '\n",
      "  '0.030*\"refer\" + 0.030*\"attributable\"')]\n"
     ]
    }
   ],
   "source": [
    "# Print the Keyword in the 10 topics\n",
    "pprint(lda_model.print_topics())"
   ]
  },
  {
   "cell_type": "code",
   "execution_count": 26,
   "metadata": {},
   "outputs": [],
   "source": [
    "doc_lda = lda_model[corpus]"
   ]
  },
  {
   "cell_type": "markdown",
   "metadata": {},
   "source": [
    "How to interpret this?\n",
    "\n",
    "Topic 0 is a represented as _0.016“car” + 0.014“power” + 0.010“light” + 0.009“drive” + 0.007“mount” + 0.007“controller” + 0.007“cool” + 0.007“engine” + 0.007“back” + ‘0.006“turn”.\n",
    "\n",
    "It means the top 10 keywords that contribute to this topic are: ‘car’, ‘power’, ‘light’.. and so on and the weight of ‘car’ on topic 0 is 0.016.\n",
    "\n",
    "The weights reflect how important a keyword is to that topic.\n",
    "\n",
    "Looking at these keywords, can you guess what this topic could be? You may summarise it either are ‘cars’ or ‘automobiles’.\n",
    "\n",
    "Likewise, can you go through the remaining topic keywords and judge what the topic is?\n",
    "\n",
    "Inferring Topic from Keywords\n",
    "Inferring Topic from Keywords"
   ]
  },
  {
   "cell_type": "markdown",
   "metadata": {},
   "source": [
    "# 14. Compute Model Perplexity and Coherence Score\n",
    "Model perplexity and topic coherence provide a convenient measure to judge how good a given topic model is. In my experience, topic coherence score, in particular, has been more helpful."
   ]
  },
  {
   "cell_type": "code",
   "execution_count": 27,
   "metadata": {},
   "outputs": [
    {
     "name": "stdout",
     "output_type": "stream",
     "text": [
      "\n",
      "Perplexity:  -6.437717246496631\n"
     ]
    }
   ],
   "source": [
    "# Compute Perplexity\n",
    "print('\\nPerplexity: ', lda_model.log_perplexity(corpus))  # a measure of how good the model is. lower the better."
   ]
  },
  {
   "cell_type": "code",
   "execution_count": 28,
   "metadata": {},
   "outputs": [
    {
     "name": "stderr",
     "output_type": "stream",
     "text": [
      "/Users/briansum/opt/anaconda3/envs/TPML/lib/python3.7/site-packages/scipy/sparse/lil.py:504: FutureWarning: future versions will not create a writeable array from broadcast_array. Set the writable flag explicitly to avoid this warning.\n",
      "  if not i.flags.writeable or i.dtype not in (np.int32, np.int64):\n",
      "/Users/briansum/opt/anaconda3/envs/TPML/lib/python3.7/site-packages/scipy/sparse/lil.py:506: FutureWarning: future versions will not create a writeable array from broadcast_array. Set the writable flag explicitly to avoid this warning.\n",
      "  if not j.flags.writeable or j.dtype not in (np.int32, np.int64):\n"
     ]
    },
    {
     "name": "stdout",
     "output_type": "stream",
     "text": [
      "\n",
      "Coherence Score:  0.39467909327020706\n"
     ]
    }
   ],
   "source": [
    "# Compute Coherence Score\n",
    "coherence_model_lda = CoherenceModel(model=lda_model, texts=data_lemmatized, dictionary=id2word, coherence='c_v')\n",
    "coherence_lda = coherence_model_lda.get_coherence()\n",
    "print('\\nCoherence Score: ', coherence_lda)"
   ]
  },
  {
   "cell_type": "markdown",
   "metadata": {},
   "source": [
    "# 15. Visualize the topics-keywords\n",
    "Now that the LDA model is built, the next step is to examine the produced topics and the associated keywords. There is no better tool than pyLDAvis package’s interactive chart and is designed to work well with jupyter notebooks."
   ]
  },
  {
   "cell_type": "code",
   "execution_count": 29,
   "metadata": {},
   "outputs": [],
   "source": [
    "# Visualize the topics\n",
    "pyLDAvis.enable_notebook()"
   ]
  },
  {
   "cell_type": "code",
   "execution_count": 32,
   "metadata": {},
   "outputs": [
    {
     "name": "stderr",
     "output_type": "stream",
     "text": [
      "/Users/briansum/opt/anaconda3/envs/TPML/lib/python3.7/site-packages/pyLDAvis/_prepare.py:257: FutureWarning: Sorting because non-concatenation axis is not aligned. A future version\n",
      "of pandas will change to not sort by default.\n",
      "\n",
      "To accept the future behavior, pass 'sort=False'.\n",
      "\n",
      "To retain the current behavior and silence the warning, pass 'sort=True'.\n",
      "\n",
      "  return pd.concat([default_term_info] + list(topic_dfs))\n"
     ]
    },
    {
     "data": {
      "text/html": [
       "\n",
       "<link rel=\"stylesheet\" type=\"text/css\" href=\"https://cdn.rawgit.com/bmabey/pyLDAvis/files/ldavis.v1.0.0.css\">\n",
       "\n",
       "\n",
       "<div id=\"ldavis_el100554842759201491878220\"></div>\n",
       "<script type=\"text/javascript\">\n",
       "\n",
       "var ldavis_el100554842759201491878220_data = {\"mdsDat\": {\"x\": [-0.10498057514867502, -0.08963789013711232, 0.07070469371848355, -0.20117411028834542, -0.004532203476801558, 0.07412581615009742, 0.08444579031496253, -0.13025628950705667, -0.13406998967334335, 0.036922178156465285, -0.11324549492063384, 0.11530279884041435, 0.027406807528474877, 0.08938756505064875, 0.089374715980164, 0.00965686968699457, 0.062420170463076824, 0.04194730570267246, 0.047690560448452546, 0.02851128111106082], \"y\": [-0.15587252669183607, 0.12192968881046767, -0.15763549703802807, -0.04236885865513302, 0.04505369781761163, -0.0528214847291692, -0.10446462847264204, 0.022316012007093763, -0.020196057693548236, 0.10585509816269344, 0.033463657996418796, -0.02151501780878898, 0.12372330898273114, 0.08120167377878819, 0.012571892711860632, 0.0013991020771777607, 0.03423790926730026, -0.046813437496954484, 0.008449261447533357, 0.011486205526423196], \"topics\": [1, 2, 3, 4, 5, 6, 7, 8, 9, 10, 11, 12, 13, 14, 15, 16, 17, 18, 19, 20], \"cluster\": [1, 1, 1, 1, 1, 1, 1, 1, 1, 1, 1, 1, 1, 1, 1, 1, 1, 1, 1, 1], \"Freq\": [15.634624481201172, 8.666393280029297, 8.264287948608398, 7.661594390869141, 7.060764789581299, 6.542853355407715, 6.41643762588501, 5.0797624588012695, 5.074909687042236, 4.651438236236572, 4.058526039123535, 3.734490394592285, 3.6732900142669678, 3.4270682334899902, 2.3427236080169678, 2.3313851356506348, 1.9379055500030518, 1.9378864765167236, 1.2952314615249634, 0.20842398703098297]}, \"tinfo\": {\"Category\": [\"Default\", \"Default\", \"Default\", \"Default\", \"Default\", \"Default\", \"Default\", \"Default\", \"Default\", \"Default\", \"Default\", \"Default\", \"Default\", \"Default\", \"Default\", \"Default\", \"Default\", \"Default\", \"Default\", \"Default\", \"Default\", \"Default\", \"Default\", \"Default\", \"Default\", \"Default\", \"Default\", \"Default\", \"Default\", \"Default\", \"Topic1\", \"Topic1\", \"Topic1\", \"Topic1\", \"Topic1\", \"Topic1\", \"Topic1\", \"Topic1\", \"Topic1\", \"Topic1\", \"Topic1\", \"Topic1\", \"Topic1\", \"Topic1\", \"Topic1\", \"Topic1\", \"Topic1\", \"Topic1\", \"Topic1\", \"Topic1\", \"Topic1\", \"Topic1\", \"Topic1\", \"Topic1\", \"Topic1\", \"Topic1\", \"Topic1\", \"Topic1\", \"Topic1\", \"Topic1\", \"Topic1\", \"Topic1\", \"Topic1\", \"Topic1\", \"Topic1\", \"Topic1\", \"Topic1\", \"Topic1\", \"Topic1\", \"Topic1\", \"Topic1\", \"Topic1\", \"Topic1\", \"Topic1\", \"Topic1\", \"Topic1\", \"Topic1\", \"Topic1\", \"Topic1\", \"Topic2\", \"Topic2\", \"Topic2\", \"Topic2\", \"Topic2\", \"Topic2\", \"Topic2\", \"Topic2\", \"Topic2\", \"Topic2\", \"Topic2\", \"Topic2\", \"Topic2\", \"Topic2\", \"Topic2\", \"Topic2\", \"Topic2\", \"Topic2\", \"Topic2\", \"Topic2\", \"Topic2\", \"Topic2\", \"Topic2\", \"Topic2\", \"Topic2\", \"Topic2\", \"Topic2\", \"Topic2\", \"Topic2\", \"Topic2\", \"Topic2\", \"Topic2\", \"Topic2\", \"Topic2\", \"Topic2\", \"Topic2\", \"Topic2\", \"Topic2\", \"Topic2\", \"Topic2\", \"Topic3\", \"Topic3\", \"Topic3\", \"Topic3\", \"Topic3\", \"Topic3\", \"Topic3\", \"Topic3\", \"Topic3\", \"Topic3\", \"Topic3\", \"Topic3\", \"Topic3\", \"Topic3\", \"Topic3\", \"Topic3\", \"Topic3\", \"Topic3\", \"Topic3\", \"Topic3\", \"Topic3\", \"Topic3\", \"Topic3\", \"Topic3\", \"Topic3\", \"Topic3\", \"Topic3\", \"Topic3\", \"Topic3\", \"Topic3\", \"Topic3\", \"Topic3\", \"Topic3\", \"Topic3\", \"Topic3\", \"Topic3\", \"Topic3\", \"Topic3\", \"Topic3\", \"Topic3\", \"Topic3\", \"Topic4\", \"Topic4\", \"Topic4\", \"Topic4\", \"Topic4\", \"Topic4\", \"Topic4\", \"Topic4\", \"Topic4\", \"Topic4\", \"Topic4\", \"Topic4\", \"Topic4\", \"Topic4\", \"Topic4\", \"Topic4\", \"Topic4\", \"Topic4\", \"Topic4\", \"Topic4\", \"Topic4\", \"Topic4\", \"Topic4\", \"Topic4\", \"Topic4\", \"Topic4\", \"Topic4\", \"Topic4\", \"Topic4\", \"Topic4\", \"Topic4\", \"Topic4\", \"Topic4\", \"Topic4\", \"Topic4\", \"Topic4\", \"Topic5\", \"Topic5\", \"Topic5\", \"Topic5\", \"Topic5\", \"Topic5\", \"Topic5\", \"Topic5\", \"Topic5\", \"Topic5\", \"Topic5\", \"Topic5\", \"Topic5\", \"Topic5\", \"Topic5\", \"Topic5\", \"Topic5\", \"Topic5\", \"Topic5\", \"Topic5\", \"Topic5\", \"Topic5\", \"Topic5\", \"Topic5\", \"Topic5\", \"Topic5\", \"Topic5\", \"Topic5\", \"Topic5\", \"Topic5\", \"Topic5\", \"Topic5\", \"Topic5\", \"Topic5\", \"Topic5\", \"Topic5\", \"Topic5\", \"Topic5\", \"Topic5\", \"Topic5\", \"Topic5\", \"Topic6\", \"Topic6\", \"Topic6\", \"Topic6\", \"Topic6\", \"Topic6\", \"Topic6\", \"Topic6\", \"Topic6\", \"Topic6\", \"Topic6\", \"Topic6\", \"Topic6\", \"Topic6\", \"Topic6\", \"Topic6\", \"Topic6\", \"Topic6\", \"Topic6\", \"Topic6\", \"Topic6\", \"Topic6\", \"Topic6\", \"Topic6\", \"Topic6\", \"Topic6\", \"Topic6\", \"Topic6\", \"Topic6\", \"Topic6\", \"Topic6\", \"Topic6\", \"Topic6\", \"Topic6\", \"Topic6\", \"Topic7\", \"Topic7\", \"Topic7\", \"Topic7\", \"Topic7\", \"Topic7\", \"Topic7\", \"Topic7\", \"Topic7\", \"Topic7\", \"Topic7\", \"Topic7\", \"Topic7\", \"Topic7\", \"Topic7\", \"Topic7\", \"Topic7\", \"Topic7\", \"Topic7\", \"Topic7\", \"Topic7\", \"Topic7\", \"Topic7\", \"Topic7\", \"Topic7\", \"Topic7\", \"Topic7\", \"Topic7\", \"Topic7\", \"Topic7\", \"Topic7\", \"Topic7\", \"Topic7\", \"Topic7\", \"Topic7\", \"Topic7\", \"Topic7\", \"Topic8\", \"Topic8\", \"Topic8\", \"Topic8\", \"Topic8\", \"Topic8\", \"Topic8\", \"Topic8\", \"Topic8\", \"Topic8\", \"Topic8\", \"Topic8\", \"Topic8\", \"Topic8\", \"Topic8\", \"Topic8\", \"Topic8\", \"Topic8\", \"Topic8\", \"Topic8\", \"Topic8\", \"Topic8\", \"Topic8\", \"Topic8\", \"Topic8\", \"Topic8\", \"Topic8\", \"Topic8\", \"Topic8\", \"Topic8\", \"Topic8\", \"Topic8\", \"Topic8\", \"Topic8\", \"Topic9\", \"Topic9\", \"Topic9\", \"Topic9\", \"Topic9\", \"Topic9\", \"Topic9\", \"Topic9\", \"Topic9\", \"Topic9\", \"Topic9\", \"Topic9\", \"Topic9\", \"Topic9\", \"Topic9\", \"Topic9\", \"Topic9\", \"Topic9\", \"Topic9\", \"Topic9\", \"Topic9\", \"Topic9\", \"Topic9\", \"Topic9\", \"Topic9\", \"Topic9\", \"Topic9\", \"Topic9\", \"Topic9\", \"Topic9\", \"Topic9\", \"Topic10\", \"Topic10\", \"Topic10\", \"Topic10\", \"Topic10\", \"Topic10\", \"Topic10\", \"Topic10\", \"Topic10\", \"Topic10\", \"Topic10\", \"Topic10\", \"Topic10\", \"Topic10\", \"Topic10\", \"Topic10\", \"Topic10\", \"Topic10\", \"Topic10\", \"Topic10\", \"Topic10\", \"Topic10\", \"Topic10\", \"Topic10\", \"Topic10\", \"Topic10\", \"Topic10\", \"Topic10\", \"Topic10\", \"Topic10\", \"Topic10\", \"Topic11\", \"Topic11\", \"Topic11\", \"Topic11\", \"Topic11\", \"Topic11\", \"Topic11\", \"Topic11\", \"Topic11\", \"Topic11\", \"Topic11\", \"Topic11\", \"Topic11\", \"Topic11\", \"Topic11\", \"Topic11\", \"Topic11\", \"Topic11\", \"Topic11\", \"Topic11\", \"Topic11\", \"Topic11\", \"Topic11\", \"Topic11\", \"Topic11\", \"Topic11\", \"Topic11\", \"Topic11\", \"Topic11\", \"Topic11\", \"Topic11\", \"Topic11\", \"Topic11\", \"Topic12\", \"Topic12\", \"Topic12\", \"Topic12\", \"Topic12\", \"Topic12\", \"Topic12\", \"Topic12\", \"Topic12\", \"Topic12\", \"Topic12\", \"Topic12\", \"Topic12\", \"Topic12\", \"Topic12\", \"Topic12\", \"Topic12\", \"Topic12\", \"Topic12\", \"Topic12\", \"Topic12\", \"Topic12\", \"Topic12\", \"Topic12\", \"Topic12\", \"Topic12\", \"Topic12\", \"Topic12\", \"Topic12\", \"Topic12\", \"Topic12\", \"Topic12\", \"Topic12\", \"Topic12\", \"Topic13\", \"Topic13\", \"Topic13\", \"Topic13\", \"Topic13\", \"Topic13\", \"Topic13\", \"Topic13\", \"Topic13\", \"Topic13\", \"Topic13\", \"Topic13\", \"Topic13\", \"Topic13\", \"Topic13\", \"Topic13\", \"Topic13\", \"Topic13\", \"Topic13\", \"Topic13\", \"Topic13\", \"Topic13\", \"Topic13\", \"Topic13\", \"Topic13\", \"Topic13\", \"Topic13\", \"Topic13\", \"Topic13\", \"Topic13\", \"Topic13\", \"Topic13\", \"Topic13\", \"Topic13\", \"Topic14\", \"Topic14\", \"Topic14\", \"Topic14\", \"Topic14\", \"Topic14\", \"Topic14\", \"Topic14\", \"Topic14\", \"Topic14\", \"Topic14\", \"Topic14\", \"Topic14\", \"Topic14\", \"Topic14\", \"Topic14\", \"Topic14\", \"Topic14\", \"Topic14\", \"Topic14\", \"Topic14\", \"Topic14\", \"Topic14\", \"Topic14\", \"Topic14\", \"Topic14\", \"Topic14\", \"Topic14\", \"Topic14\", \"Topic14\", \"Topic14\", \"Topic14\", \"Topic14\", \"Topic14\", \"Topic14\", \"Topic14\", \"Topic14\", \"Topic14\", \"Topic14\", \"Topic14\", \"Topic14\", \"Topic14\", \"Topic15\", \"Topic15\", \"Topic15\", \"Topic15\", \"Topic15\", \"Topic15\", \"Topic15\", \"Topic15\", \"Topic15\", \"Topic15\", \"Topic15\", \"Topic15\", \"Topic15\", \"Topic15\", \"Topic15\", \"Topic15\", \"Topic15\", \"Topic15\", \"Topic15\", \"Topic15\", \"Topic15\", \"Topic15\", \"Topic15\", \"Topic15\", \"Topic15\", \"Topic15\", \"Topic15\", \"Topic15\", \"Topic15\", \"Topic15\", \"Topic15\", \"Topic15\", \"Topic15\", \"Topic15\", \"Topic15\", \"Topic15\", \"Topic15\", \"Topic15\", \"Topic15\", \"Topic15\", \"Topic15\", \"Topic15\", \"Topic15\", \"Topic15\", \"Topic15\", \"Topic16\", \"Topic16\", \"Topic16\", \"Topic16\", \"Topic16\", \"Topic16\", \"Topic16\", \"Topic16\", \"Topic16\", \"Topic16\", \"Topic16\", \"Topic16\", \"Topic16\", \"Topic16\", \"Topic16\", \"Topic16\", \"Topic16\", \"Topic16\", \"Topic16\", \"Topic16\", \"Topic16\", \"Topic16\", \"Topic16\", \"Topic16\", \"Topic16\", \"Topic16\", \"Topic16\", \"Topic16\", \"Topic16\", \"Topic16\", \"Topic16\", \"Topic16\", \"Topic16\", \"Topic16\", \"Topic16\", \"Topic16\", \"Topic16\", \"Topic16\", \"Topic16\", \"Topic16\", \"Topic16\", \"Topic16\", \"Topic17\", \"Topic17\", \"Topic17\", \"Topic17\", \"Topic17\", \"Topic17\", \"Topic17\", \"Topic17\", \"Topic17\", \"Topic17\", \"Topic17\", \"Topic17\", \"Topic17\", \"Topic17\", \"Topic17\", \"Topic17\", \"Topic17\", \"Topic17\", \"Topic17\", \"Topic17\", \"Topic17\", \"Topic17\", \"Topic17\", \"Topic17\", \"Topic17\", \"Topic17\", \"Topic17\", \"Topic17\", \"Topic17\", \"Topic17\", \"Topic17\", \"Topic17\", \"Topic17\", \"Topic17\", \"Topic17\", \"Topic17\", \"Topic17\", \"Topic17\", \"Topic17\", \"Topic17\", \"Topic17\", \"Topic17\", \"Topic17\", \"Topic17\", \"Topic17\", \"Topic17\", \"Topic17\", \"Topic17\", \"Topic17\", \"Topic17\", \"Topic17\", \"Topic17\", \"Topic17\", \"Topic17\", \"Topic17\", \"Topic18\", \"Topic18\", \"Topic18\", \"Topic18\", \"Topic18\", \"Topic18\", \"Topic18\", \"Topic18\", \"Topic18\", \"Topic18\", \"Topic18\", \"Topic18\", \"Topic18\", \"Topic18\", \"Topic18\", \"Topic18\", \"Topic18\", \"Topic18\", \"Topic18\", \"Topic18\", \"Topic18\", \"Topic18\", \"Topic18\", \"Topic18\", \"Topic18\", \"Topic18\", \"Topic18\", \"Topic18\", \"Topic18\", \"Topic18\", \"Topic18\", \"Topic18\", \"Topic18\", \"Topic18\", \"Topic18\", \"Topic18\", \"Topic18\", \"Topic18\", \"Topic18\", \"Topic18\", \"Topic18\", \"Topic18\", \"Topic18\", \"Topic18\", \"Topic18\", \"Topic18\", \"Topic18\", \"Topic18\", \"Topic18\", \"Topic19\", \"Topic19\", \"Topic19\", \"Topic19\", \"Topic19\", \"Topic19\", \"Topic19\", \"Topic19\", \"Topic19\", \"Topic19\", \"Topic19\", \"Topic19\", \"Topic19\", \"Topic19\", \"Topic19\", \"Topic19\", \"Topic19\", \"Topic19\", \"Topic19\", \"Topic19\", \"Topic19\", \"Topic19\", \"Topic19\", \"Topic19\", \"Topic19\", \"Topic19\", \"Topic19\", \"Topic19\", \"Topic19\", \"Topic19\", \"Topic19\", \"Topic19\", \"Topic19\", \"Topic19\", \"Topic19\", \"Topic19\", \"Topic19\", \"Topic19\", \"Topic19\", \"Topic19\", \"Topic19\", \"Topic19\", \"Topic19\", \"Topic19\", \"Topic19\", \"Topic19\", \"Topic19\", \"Topic19\", \"Topic19\", \"Topic19\", \"Topic19\", \"Topic19\", \"Topic19\", \"Topic19\", \"Topic19\", \"Topic19\", \"Topic20\", \"Topic20\", \"Topic20\", \"Topic20\", \"Topic20\", \"Topic20\", \"Topic20\", \"Topic20\", \"Topic20\", \"Topic20\", \"Topic20\", \"Topic20\", \"Topic20\", \"Topic20\", \"Topic20\", \"Topic20\", \"Topic20\", \"Topic20\", \"Topic20\", \"Topic20\", \"Topic20\", \"Topic20\", \"Topic20\", \"Topic20\", \"Topic20\", \"Topic20\", \"Topic20\", \"Topic20\", \"Topic20\", \"Topic20\", \"Topic20\", \"Topic20\", \"Topic20\", \"Topic20\", \"Topic20\", \"Topic20\", \"Topic20\", \"Topic20\", \"Topic20\", \"Topic20\", \"Topic20\", \"Topic20\", \"Topic20\", \"Topic20\", \"Topic20\", \"Topic20\", \"Topic20\", \"Topic20\", \"Topic20\", \"Topic20\", \"Topic20\", \"Topic20\", \"Topic20\", \"Topic20\", \"Topic20\"], \"Freq\": [11.0, 5.0, 10.0, 13.0, 11.0, 7.0, 8.0, 8.0, 4.0, 7.0, 4.0, 9.0, 6.0, 4.0, 3.0, 4.0, 5.0, 5.0, 4.0, 5.0, 4.0, 4.0, 4.0, 5.0, 2.0, 4.0, 5.0, 4.0, 4.0, 3.0, 2.624176025390625, 1.7637852430343628, 1.7637792825698853, 1.7618283033370972, 6.065750598907471, 3.484570026397705, 0.9033877849578857, 0.9033877849578857, 0.9033879041671753, 0.9033877849578857, 0.9033877849578857, 0.9033876657485962, 0.9033875465393066, 0.9033875465393066, 0.9033873677253723, 0.9033873677253723, 0.9033874869346619, 0.9033873677253723, 0.9033874869346619, 0.9033875465393066, 0.9033871293067932, 0.903386652469635, 0.903386652469635, 0.9033864736557007, 0.9033864736557007, 0.9033715724945068, 0.9003352522850037, 3.338791608810425, 1.7621259689331055, 1.7637858390808105, 4.344965934753418, 3.4845736026763916, 1.763785481452942, 1.763785481452942, 1.763785481452942, 2.6241793632507324, 1.7637852430343628, 1.7637860774993896, 2.6241796016693115, 2.4264965057373047, 1.763785481452942, 1.7637850046157837, 1.7637856006622314, 1.4380435943603516, 1.4188538789749146, 1.4212309122085571, 1.7637856006622314, 1.0873839855194092, 0.9033877849578857, 3.2053446769714355, 0.8310044407844543, 0.8310043215751648, 0.8310041427612305, 0.8310041427612305, 0.8310043215751648, 0.83100426197052, 0.8310043215751648, 0.8310043215751648, 0.8310043215751648, 0.8310043215751648, 0.83100426197052, 0.8310041427612305, 0.8310040831565857, 0.8310040831565857, 0.8310037851333618, 0.8310039043426514, 0.8310039043426514, 0.83098965883255, 0.8292886018753052, 0.8292118310928345, 0.8291817307472229, 2.364536762237549, 1.5307179689407349, 2.3665831089019775, 0.8310039043426514, 0.8310039639472961, 0.8310041427612305, 0.8292872905731201, 1.617960810661316, 3.958625078201294, 3.1979820728302, 3.8237273693084717, 1.622452735900879, 1.6186717748641968, 1.1284123659133911, 0.9632694125175476, 0.8310043215751648, 0.8310040831565857, 0.8310039043426514, 1.564108967781067, 1.5641056299209595, 1.564107060432434, 0.801121175289154, 0.8011209964752197, 0.801120936870575, 0.8011209964752197, 0.8011209964752197, 0.8011209964752197, 0.8011209964752197, 0.8011209964752197, 0.8011208176612854, 0.8011208176612854, 0.8011205792427063, 0.8011205792427063, 0.8011199235916138, 0.8011201024055481, 0.8011181354522705, 0.8011181354522705, 0.8011160492897034, 0.8010894656181335, 1.5641053915023804, 1.5641086101531982, 1.5641086101531982, 1.564107894897461, 1.5641088485717773, 0.8011211156845093, 0.8011181354522705, 0.8011199831962585, 0.801089346408844, 1.5641084909439087, 2.327094078063965, 1.5641088485717773, 1.5641086101531982, 1.5641088485717773, 0.8011211156845093, 0.801120936870575, 0.8011209964752197, 0.8011209964752197, 0.8011209964752197, 0.8011209964752197, 1.585909366607666, 3.119396448135376, 3.1198391914367676, 0.8122878074645996, 0.812287449836731, 0.8106356859207153, 1.5839530229568481, 3.1190271377563477, 5.437001705169678, 3.118807554244995, 0.8122872114181519, 0.8122879266738892, 0.8122879266738892, 0.8122872114181519, 0.8111841082572937, 0.8103010058403015, 0.8122877478599548, 0.8122877478599548, 1.567361831665039, 0.8108288645744324, 0.8122872114181519, 0.8100789785385132, 0.8122869729995728, 0.8105623722076416, 0.8103765845298767, 0.8122875094413757, 0.8122877478599548, 1.5831197500228882, 0.8097659349441528, 0.8122876286506653, 0.8122872114181519, 0.8122878074645996, 0.8122876286506653, 0.8122870922088623, 0.8109577894210815, 0.810803234577179, 1.5588608980178833, 0.7984344363212585, 0.7984343767166138, 0.7984342575073242, 0.7984342575073242, 0.7984342575073242, 0.7984342575073242, 0.7984342575073242, 0.7984342575073242, 0.7984341979026794, 0.7984341979026794, 0.7984340786933899, 0.7984341979026794, 1.5588608980178833, 1.5588607788085938, 2.3192861080169678, 0.7984342575073242, 0.7984340786933899, 0.7984341979026794, 0.7984343767166138, 0.7984344363212585, 0.7984342575073242, 0.7984341979026794, 0.7984342575073242, 2.3192861080169678, 0.7984342575073242, 0.7984344363212585, 0.7984343767166138, 0.7984341979026794, 0.7984344363212585, 1.5588611364364624, 1.561741828918457, 0.800351083278656, 0.7999327778816223, 0.7997680306434631, 0.7996941804885864, 0.7996290326118469, 0.7984344363212585, 0.7984343767166138, 0.7984344363212585, 0.7984344363212585, 1.52463960647583, 1.5103932619094849, 1.491418719291687, 0.7828654646873474, 0.782865047454834, 0.7828654646873474, 0.7828652858734131, 0.7828654646873474, 0.7828654646873474, 0.7828651666641235, 0.7828651666641235, 0.7828651666641235, 0.7828652262687683, 0.7828651666641235, 0.7828651666641235, 1.5174107551574707, 3.0084567070007324, 0.7828654646873474, 2.255086898803711, 0.7828654646873474, 0.7828654050827026, 0.7828652262687683, 0.782865583896637, 0.7828654646873474, 0.7828652858734131, 1.0817750692367554, 2.0329432487487793, 0.7828652262687683, 0.782865583896637, 1.5284638404846191, 1.0797158479690552, 1.5284638404846191, 0.9541738033294678, 0.7828657031059265, 0.7828651666641235, 1.5225502252578735, 1.5225502252578735, 0.7798367738723755, 0.779836893081665, 0.7798367738723755, 0.7798367738723755, 0.7798364162445068, 0.7798365950584412, 0.7798365950584412, 0.7798367142677307, 0.7798367142677307, 0.7798367142677307, 0.7798364758491516, 0.7798365950584412, 0.7798365950584412, 1.5225499868392944, 0.7798365950584412, 1.5225502252578735, 0.7798365950584412, 0.7798365950584412, 0.7798365950584412, 0.7798367738723755, 0.7798364758491516, 0.7798365950584412, 0.7798365950584412, 0.7798364758491516, 0.7798367142677307, 0.7798367738723755, 0.7798364758491516, 0.7798365950584412, 1.5225499868392944, 1.5225499868392944, 1.5225502252578735, 0.7798367142677307, 0.7798365950584412, 0.7798365950584412, 0.7798365950584412, 0.7257241606712341, 0.7257239818572998, 0.7257223129272461, 0.7257223129272461, 0.7257222533226013, 0.7236302495002747, 0.7235696315765381, 0.7232244610786438, 0.7229105830192566, 0.7228347659111023, 0.7227444052696228, 0.7225031852722168, 0.7223164439201355, 1.41689932346344, 1.41689932346344, 0.7257238626480103, 0.7257236242294312, 1.4168994426727295, 0.7257241010665894, 0.7257241010665894, 0.7257241606712341, 0.7257238626480103, 2.1030819416046143, 0.7257236838340759, 0.7257241010665894, 0.7226019501686096, 0.7257239818572998, 0.7257241606712341, 0.7257238626480103, 0.7257236242294312, 1.41689932346344, 0.7257239818572998, 0.7257239818572998, 0.7232735753059387, 1.4394352436065674, 0.737733006477356, 0.7377328276634216, 0.7370614409446716, 0.7367695569992065, 0.7367551922798157, 1.438850998878479, 1.4384655952453613, 0.7366483211517334, 0.737733006477356, 0.7377327084541321, 0.7363051176071167, 1.4403448104858398, 0.7377328276634216, 0.7365454435348511, 0.7366802096366882, 0.7377327084541321, 1.4403451681137085, 1.438574194908142, 1.4391127824783325, 0.7366291284561157, 0.7377328276634216, 0.7377328276634216, 0.7367056012153625, 0.7364649176597595, 0.7363484501838684, 1.437683343887329, 0.7377328276634216, 0.7377328276634216, 0.7377328276634216, 0.7365690469741821, 0.7133010029792786, 0.7133010029792786, 0.7133007645606995, 0.7133007645606995, 0.7133005857467651, 0.7133007645606995, 0.7133007645606995, 0.7133009433746338, 0.7133004069328308, 0.7133004069328308, 2.0659708976745605, 1.3926434516906738, 0.7133006453514099, 0.7133005857467651, 0.7133005857467651, 0.7133010029792786, 0.7133005857467651, 0.7133007645606995, 0.7133005261421204, 0.7133004069328308, 0.7133007645606995, 0.7133007645606995, 0.7133005261421204, 0.7133005857467651, 2.0719850063323975, 0.7133007645606995, 0.7133007645606995, 0.7133007645606995, 0.7133010029792786, 0.7133009433746338, 0.7133007645606995, 0.6732379198074341, 0.6732379198074341, 0.6732378005981445, 0.6732378005981445, 0.6732378005981445, 0.6732378005981445, 0.6732378005981445, 0.6732363700866699, 1.3144246339797974, 0.6732377409934998, 0.6732379198074341, 0.6732379198074341, 1.3144246339797974, 0.6732378005981445, 0.6732378005981445, 0.6732379794120789, 0.6732379198074341, 0.6732377409934998, 0.6732377409934998, 0.6732379794120789, 0.6732379198074341, 0.673236608505249, 1.3144246339797974, 0.673236608505249, 0.6732379198074341, 0.6732378005981445, 0.6732377409934998, 0.673237681388855, 0.6732379794120789, 0.032059282064437866, 0.032059282064437866, 0.032059282064437866, 0.037733446806669235, 1.2878329753875732, 0.6596181988716125, 0.6596181988716125, 0.6596182584762573, 0.6596181988716125, 0.6596181988716125, 0.6596179604530334, 0.6596179604530334, 0.659618079662323, 0.6596179008483887, 0.659618079662323, 0.659618079662323, 0.6596173048019409, 0.6596173048019409, 0.6596173048019409, 0.659618079662323, 1.2878327369689941, 0.6596181988716125, 0.6596179604530334, 0.6596179604530334, 0.6596179008483887, 0.6596178412437439, 0.6596179604530334, 0.6596172451972961, 0.659618079662323, 0.6596179604530334, 0.6596179604530334, 0.031410686671733856, 0.031410686671733856, 0.031410686671733856, 0.031410686671733856, 0.03696984797716141, 0.031410686671733856, 0.031410686671733856, 0.6489328742027283, 0.6489326357841492, 0.6489325761795044, 0.648932695388794, 0.6489326357841492, 0.6489328742027283, 0.6489326357841492, 0.6489326357841492, 0.6489328145980835, 0.6489328742027283, 0.6489319205284119, 0.6489319205284119, 0.6489319205284119, 0.6489318609237671, 0.6489326357841492, 0.6489328145980835, 0.6489324569702148, 0.6489328742027283, 0.6489320397377014, 0.6489319205284119, 0.6489328145980835, 0.6489320397377014, 0.6489323973655701, 0.648932695388794, 0.6489328742027283, 0.6489325761795044, 0.6489320397377014, 0.6489328742027283, 0.648932933807373, 0.03090186044573784, 0.03090186044573784, 0.03090186044573784, 0.03090186044573784, 0.03090186044573784, 1.2751729488372803, 1.2316596508026123, 0.6531340479850769, 0.6531340479850769, 0.6531338691711426, 0.6455260515213013, 0.6440200209617615, 0.6438804268836975, 0.6437479853630066, 0.636351466178894, 0.6354318857192993, 0.6220045685768127, 0.6145597100257874, 0.6531340479850769, 1.2751725912094116, 0.6272720694541931, 0.6439567804336548, 0.6531341075897217, 0.6531340479850769, 1.2697216272354126, 0.6357740759849548, 0.6290230751037598, 0.03110189363360405, 0.03110189363360405, 0.03110189363360405, 0.03110189363360405, 0.03110189363360405, 0.03110189363360405, 0.03110189363360405, 0.03110189363360405, 0.03110189363360405, 0.03110189363360405, 0.03110189363360405, 0.03110189363360405, 0.037737783044576645, 0.04031207039952278, 0.03428195044398308, 0.03695163503289223, 0.03399551659822464, 0.03110189363360405, 0.03110189363360405, 0.03110189363360405, 1.055521845817566, 0.5429758429527283, 0.5429758429527283, 0.5429758429527283, 0.542975664138794, 0.542975664138794, 0.542975664138794, 0.5429755449295044, 0.5429757237434387, 0.5429756045341492, 0.5429758429527283, 0.5429755449295044, 0.5429757237434387, 0.5429753661155701, 0.542975664138794, 0.5429758429527283, 0.542975664138794, 0.02585618570446968, 0.02585618570446968, 0.02585618570446968, 0.02585618570446968, 0.02585618570446968, 0.02585618570446968, 0.02585618570446968, 0.02585618570446968, 0.02585618570446968, 0.02585618570446968, 0.02585618570446968, 0.02585618570446968, 0.02585618570446968, 0.02585618570446968, 0.02585618570446968, 0.02585618570446968, 0.02585618570446968, 0.02585618570446968, 0.02585618570446968, 0.02585618570446968, 0.02585618570446968, 0.02585618570446968, 0.02585618570446968, 0.02585618570446968, 0.02585618570446968, 0.02585618570446968, 0.02585618570446968, 0.02585618570446968, 0.5402125716209412, 0.5402124524116516, 0.5402126312255859, 0.5402124524116516, 0.5402126908302307, 0.5402125716209412, 0.5402121543884277, 0.5402119159698486, 0.5402126312255859, 0.5402126312255859, 0.5402120351791382, 0.5402117371559143, 0.5402118563652039, 0.5402126908302307, 0.5402120351791382, 0.5402125716209412, 0.5402126312255859, 0.5402118563652039, 0.025724604725837708, 0.025724604725837708, 0.025724604725837708, 0.025724604725837708, 0.025724604725837708, 0.025724604725837708, 0.025724604725837708, 0.025724604725837708, 0.025724604725837708, 0.025724604725837708, 0.025724604725837708, 0.025724604725837708, 0.025724604725837708, 0.025724604725837708, 0.025724604725837708, 0.025724604725837708, 0.025724604725837708, 0.025724604725837708, 0.025724604725837708, 0.025724604725837708, 0.025724604725837708, 0.025724604725837708, 0.025724604725837708, 0.025724604725837708, 0.9864577651023865, 0.5052605867385864, 0.5052604079246521, 0.5052603483200073, 0.5052599906921387, 0.5052598714828491, 0.5052595138549805, 0.5052592158317566, 0.5052589178085327, 0.5052593946456909, 0.5052589178085327, 0.5052589178085327, 0.5052600502967834, 0.024060292169451714, 0.024060292169451714, 0.024060292169451714, 0.024060292169451714, 0.024060292169451714, 0.024060292169451714, 0.024060292169451714, 0.024060292169451714, 0.024060292169451714, 0.024060292169451714, 0.024060292169451714, 0.024060292169451714, 0.024060292169451714, 0.024060292169451714, 0.024060292169451714, 0.024060292169451714, 0.024060292169451714, 0.024060292169451714, 0.024060292169451714, 0.024060292169451714, 0.024060292169451714, 0.024060292169451714, 0.024060292169451714, 0.02508796565234661, 0.029735533520579338, 0.026969077065587044, 0.026725193485617638, 0.027171581983566284, 0.027291137725114822, 0.025296073406934738, 0.025277065113186836, 0.02543407678604126, 0.02562885358929634, 0.025249101221561432, 0.025795625522732735, 0.0251335296779871, 0.024967798963189125, 0.025288332253694534, 0.025126945227384567, 0.024746937677264214, 0.02504272758960724, 0.024983784183859825, 0.5054396986961365, 0.5054396390914917, 0.5054395794868469, 0.5054396390914917, 0.5054396390914917, 0.5054396986961365, 0.5054396390914917, 0.5054396986961365, 0.5054395794868469, 0.5066819787025452, 0.5054396390914917, 0.5054396986961365, 0.5054396390914917, 0.5054396390914917, 0.024068718776106834, 0.024068718776106834, 0.024068718776106834, 0.024068718776106834, 0.024068718776106834, 0.024068718776106834, 0.024068718776106834, 0.024068718776106834, 0.024068718776106834, 0.024068718776106834, 0.024068718776106834, 0.024068718776106834, 0.024068718776106834, 0.024068718776106834, 0.024068718776106834, 0.024068718776106834, 0.024068718776106834, 0.024068718776106834, 0.024068718776106834, 0.0251771192997694, 0.025158850476145744, 0.02511214278638363, 0.02680056355893612, 0.028985274955630302, 0.028546791523694992, 0.025112897157669067, 0.025119580328464508, 0.026043230667710304, 0.025310415774583817, 0.026368500664830208, 0.02542545460164547, 0.026389379054307938, 0.025335101410746574, 0.024068718776106834, 0.024068718776106834, 0.40282541513442993, 0.40282538533210754, 0.4028252959251404, 0.4028252363204956, 0.40282538533210754, 0.40282541513442993, 0.40282538533210754, 0.40282541513442993, 0.40282535552978516, 0.019182272255420685, 0.019182272255420685, 0.019182272255420685, 0.019182272255420685, 0.019182272255420685, 0.019182272255420685, 0.019182272255420685, 0.019182272255420685, 0.019182272255420685, 0.019182272255420685, 0.019182272255420685, 0.019182272255420685, 0.019182272255420685, 0.019182272255420685, 0.019182272255420685, 0.019182272255420685, 0.019182272255420685, 0.019182272255420685, 0.019182272255420685, 0.019182272255420685, 0.019182272255420685, 0.019182272255420685, 0.019182272255420685, 0.019182272255420685, 0.019182272255420685, 0.019182272255420685, 0.019182272255420685, 0.019182272255420685, 0.019182272255420685, 0.019182272255420685, 0.019182272255420685, 0.019182272255420685, 0.019182272255420685, 0.019182272255420685, 0.019182272255420685, 0.019182272255420685, 0.019182272255420685, 0.019182272255420685, 0.019182272255420685, 0.019182272255420685, 0.019182272255420685, 0.019182272255420685, 0.019182272255420685, 0.019182272255420685, 0.019182272255420685, 0.019182272255420685, 0.019182272255420685, 0.004692550748586655, 0.004692550748586655, 0.004692550748586655, 0.004692550748586655, 0.004692550748586655, 0.004692550748586655, 0.004692550748586655, 0.004692550748586655, 0.004692550748586655, 0.004692550748586655, 0.004692550748586655, 0.004692550748586655, 0.004692550748586655, 0.004692550748586655, 0.004692550748586655, 0.004692550748586655, 0.004692550748586655, 0.004692550748586655, 0.004692550748586655, 0.004692550748586655, 0.004692550748586655, 0.004692550748586655, 0.004692550748586655, 0.004692550748586655, 0.004692550748586655, 0.004692550748586655, 0.004692550748586655, 0.004692550748586655, 0.004692550748586655, 0.004692550748586655, 0.004692550748586655, 0.004692550748586655, 0.004692550748586655, 0.004692550748586655, 0.004692550748586655, 0.004692550748586655, 0.004692550748586655, 0.004692550748586655, 0.004692550748586655, 0.004692550748586655, 0.004692550748586655, 0.004692550748586655, 0.004692550748586655, 0.004692550748586655, 0.004692550748586655, 0.004692550748586655, 0.004692550748586655, 0.004692550748586655, 0.004692550748586655, 0.004692550748586655, 0.004692550748586655, 0.004692550748586655, 0.004692550748586655, 0.004692550748586655, 0.004692550748586655], \"Term\": [\"gaap\", \"hiseq\", \"revenue\", \"quarter\", \"year\", \"result\", \"instrument\", \"consumable\", \"increase\", \"non\", \"point\", \"margin\", \"share\", \"earning\", \"range\", \"time\", \"customer\", \"cash\", \"diluted\", \"end\", \"fourth\", \"service\", \"new\", \"guidance\", \"pull\", \"grow\", \"expense\", \"well\", \"growth\", \"get\", \"operate\", \"primarily\", \"head\", \"respective\", \"margin\", \"due\", \"departure\", \"relate\", \"decrease\", \"appointment\", \"executive\", \"timing\", \"third\", \"discuss\", \"count\", \"effective\", \"comparable\", \"period\", \"potential\", \"volatility\", \"allocation\", \"forget\", \"sure\", \"make\", \"account\", \"lower\", \"plan\", \"report\", \"forward\", \"exclude\", \"impact\", \"compensation\", \"accrual\", \"variable\", \"tax\", \"gross\", \"base\", \"benefit\", \"result\", \"expect\", \"low\", \"point\", \"see\", \"compare\", \"go\", \"guidance\", \"gaap\", \"quarter\", \"basis\", \"cash\", \"lease\", \"accounting\", \"term\", \"consolidated\", \"suit\", \"record\", \"property\", \"landlord\", \"equipment\", \"capital\", \"build\", \"short\", \"pay\", \"balance\", \"reduced\", \"burn\", \"expenditure\", \"thank\", \"represent\", \"preliminary\", \"estimate\", \"fourth\", \"investment\", \"increase\", \"operation\", \"flow\", \"additional\", \"mention\", \"grow\", \"year\", \"revenue\", \"quarter\", \"grail\", \"consumable\", \"compare\", \"report\", \"expense\", \"approximately\", \"helix\", \"dozen\", \"session\", \"move\", \"recognize\", \"ability\", \"genotype\", \"upper\", \"testing\", \"novaseqs\", \"migrate\", \"strength\", \"maintenance\", \"offset\", \"contribute\", \"finally\", \"overall\", \"start\", \"lot\", \"answer\", \"may\", \"treatment\", \"depend\", \"contract\", \"decline\", \"growth\", \"service\", \"project\", \"factor\", \"company\", \"consistent\", \"low\", \"instrument\", \"end\", \"expect\", \"revenue\", \"reflect\", \"customer\", \"manufacture\", \"range\", \"guidance\", \"sequence\", \"day\", \"diluted\", \"earning\", \"strong\", \"collection\", \"meaningful\", \"ep\", \"share\", \"gaap\", \"non\", \"respectively\", \"high\", \"slightly\", \"lead\", \"assume\", \"forecast\", \"total\", \"last\", \"expense\", \"tax\", \"dilution\", \"full\", \"helix\", \"base\", \"stock\", \"benefit\", \"compare\", \"expect\", \"new\", \"due\", \"grail\", \"revenue\", \"quarter\", \"include\", \"compensation\", \"year\", \"number\", \"headwind\", \"less\", \"current\", \"currency\", \"contribution\", \"sale\", \"hence\", \"decelerate\", \"put\", \"elasticity\", \"create\", \"correlate\", \"prior\", \"sample\", \"sequence\", \"also\", \"price\", \"flat\", \"company\", \"lead\", \"slightly\", \"give\", \"transition\", \"consumable\", \"previously\", \"rate\", \"total\", \"get\", \"basis\", \"revenue\", \"year\", \"include\", \"grail\", \"result\", \"quarter\", \"time\", \"impact\", \"expect\", \"growth\", \"point\", \"novaseq\", \"fully\", \"few\", \"choose\", \"extent\", \"purchase\", \"support\", \"throughput\", \"wait\", \"absorb\", \"marginal\", \"fairly\", \"happen\", \"future\", \"several\", \"take\", \"hiseq\", \"ship\", \"customer\", \"believe\", \"high\", \"give\", \"platform\", \"approximately\", \"investment\", \"go\", \"instrument\", \"think\", \"first\", \"include\", \"guidance\", \"quarter\", \"expect\", \"result\", \"growth\", \"stop\", \"miniseq\", \"roughly\", \"introduction\", \"historically\", \"depress\", \"use\", \"legacy\", \"exist\", \"renew\", \"annual\", \"box\", \"generate\", \"active\", \"later\", \"forecast\", \"obviously\", \"service\", \"flat\", \"factor\", \"project\", \"platform\", \"decommission\", \"contract\", \"last\", \"utilization\", \"think\", \"question\", \"range\", \"equal\", \"instrument\", \"margin\", \"year\", \"customer\", \"gross\", \"impact\", \"new\", \"product\", \"reserve\", \"happy\", \"handle\", \"be\", \"review\", \"measure\", \"find\", \"reconciliation\", \"today\", \"release\", \"encourage\", \"presentation\", \"basis\", \"fourth\", \"net\", \"income\", \"point\", \"adjust\", \"transition\", \"family\", \"ep\", \"gaap\", \"diluted\", \"low\", \"earning\", \"sequentially\", \"gross\", \"report\", \"share\", \"quarter\", \"include\", \"margin\", \"non\", \"item\", \"highlight\", \"turn\", \"consolidation\", \"associate\", \"financial\", \"dilution\", \"full\", \"complete\", \"operating\", \"adjust\", \"assume\", \"expense\", \"exclude\", \"first\", \"helix\", \"stock\", \"non\", \"include\", \"result\", \"time\", \"cash\", \"gross\", \"end\", \"guidance\", \"grail\", \"year\", \"compensation\", \"margin\", \"gaap\", \"quarter\", \"month\", \"ultimately\", \"translate\", \"buying\", \"left\", \"instead\", \"lumpiness\", \"will\", \"currently\", \"evaluate\", \"time\", \"get\", \"effect\", \"repurchase\", \"authorization\", \"buy\", \"complete\", \"believe\", \"mention\", \"forward\", \"sample\", \"stock\", \"well\", \"go\", \"quarter\", \"sequentially\", \"see\", \"sequence\", \"due\", \"customer\", \"consumable\", \"research\", \"development\", \"rejoin\", \"queue\", \"participation\", \"ask\", \"allow\", \"sight\", \"question\", \"respectively\", \"additional\", \"adjusted\", \"increase\", \"income\", \"net\", \"adjust\", \"full\", \"dilution\", \"helix\", \"equal\", \"sequentially\", \"see\", \"revenue\", \"end\", \"expense\", \"grail\", \"non\", \"gaap\", \"quarter\", \"look\", \"eventually\", \"sense\", \"tend\", \"s\", \"there\", \"talk\", \"reason\", \"have\", \"change\", \"approach\", \"continue\", \"agency\", \"adoption\", \"say\", \"adopt\", \"operator\", \"line\", \"open\", \"would\", \"new\", \"assume\", \"platform\", \"depend\", \"family\", \"rate\", \"utilization\", \"well\", \"go\", \"hiseq\", \"instrument\", \"look\", \"sense\", \"eventually\", \"probably\", \"time\", \"note\", \"take\", \"program\", \"extrapolate\", \"necessarily\", \"restock\", \"restocking\", \"leave\", \"buyback\", \"want\", \"remain\", \"announce\", \"manufacturing\", \"scale\", \"free\", \"consequently\", \"repurchase\", \"authorization\", \"effect\", \"price\", \"flow\", \"operation\", \"average\", \"addition\", \"would\", \"approximately\", \"previously\", \"see\", \"cash\", \"share\", \"quarter\", \"look\", \"sense\", \"probably\", \"eventually\", \"depress\", \"really\", \"work\", \"drive\", \"way\", \"foremost\", \"additionally\", \"workflow\", \"validate\", \"inventory\", \"pause\", \"place\", \"experiment\", \"hand\", \"good\", \"think\", \"buy\", \"transition\", \"sample\", \"first\", \"consumable\", \"time\", \"new\", \"look\", \"sense\", \"eventually\", \"probably\", \"couple\", \"array\", \"call\", \"area\", \"cite\", \"consumer\", \"largely\", \"fuel\", \"few\", \"take\", \"novaseq\", \"customer\", \"hiseq\", \"support\", \"benefit\", \"accrual\", \"tend\", \"decommissioning\", \"mostly\", \"lag\", \"update\", \"close\", \"bear\", \"mind\", \"rollout\", \"ramp\", \"ship\", \"would\", \"decommission\", \"get\", \"customer\", \"instrument\", \"year\", \"look\", \"sense\", \"eventually\", \"probably\", \"couple\", \"call\", \"array\", \"area\", \"cite\", \"consumer\", \"largely\", \"fuel\", \"reach\", \"top\", \"instal\", \"see\", \"benefit\", \"several\", \"support\", \"take\", \"accrual\", \"finally\", \"contribute\", \"sequential\", \"depress\", \"variable\", \"give\", \"investment\", \"subsequent\", \"attributable\", \"note\", \"reference\", \"stockholder\", \"refer\", \"clarify\", \"combine\", \"income\", \"net\", \"number\", \"service\", \"equal\", \"earning\", \"hiseq\", \"share\", \"result\", \"revenue\", \"look\", \"eventually\", \"probably\", \"sense\", \"couple\", \"area\", \"array\", \"call\", \"cite\", \"consumer\", \"largely\", \"fuel\", \"accrual\", \"benefit\", \"contribute\", \"depress\", \"finally\", \"see\", \"sequential\", \"variable\", \"support\", \"factor\", \"flat\", \"take\", \"business\", \"couple\", \"call\", \"area\", \"array\", \"cite\", \"consumer\", \"largely\", \"fuel\", \"obviously\", \"also\", \"well\", \"grow\", \"look\", \"sense\", \"eventually\", \"probably\", \"reach\", \"instal\", \"top\", \"clarify\", \"attributable\", \"reference\", \"refer\", \"subsequent\", \"note\", \"stockholder\", \"mind\", \"ramp\", \"update\", \"decommissioning\", \"lag\", \"close\", \"mostly\", \"rollout\", \"bear\", \"meaningful\", \"gaap\", \"diluted\", \"earning\", \"share\", \"non\", \"forecast\", \"ep\", \"full\", \"new\", \"stock\", \"expect\", \"base\", \"tax\", \"expense\", \"guidance\", \"assume\", \"impact\", \"year\", \"instal\", \"top\", \"reach\", \"gain\", \"pull\", \"utilization\", \"base\", \"range\", \"growth\", \"increase\", \"end\", \"guidance\", \"hiseq\", \"result\", \"look\", \"sense\", \"probably\", \"eventually\", \"couple\", \"array\", \"area\", \"call\", \"cite\", \"consumer\", \"largely\", \"fuel\", \"clarify\", \"reference\", \"attributable\", \"subsequent\", \"note\", \"refer\", \"stockholder\", \"estimate\", \"preliminary\", \"represent\", \"grow\", \"year\", \"revenue\", \"mention\", \"consistent\", \"fourth\", \"total\", \"consumable\", \"compare\", \"quarter\", \"sequence\", \"see\", \"introduction\", \"eventually\", \"probably\", \"sense\", \"look\", \"good\", \"pull\", \"give\", \"range\", \"point\", \"couple\", \"area\", \"consumer\", \"cite\", \"call\", \"array\", \"largely\", \"fuel\", \"reach\", \"top\", \"instal\", \"clarify\", \"attributable\", \"reference\", \"refer\", \"subsequent\", \"note\", \"stockholder\", \"mind\", \"ramp\", \"update\", \"close\", \"rollout\", \"decommissioning\", \"bear\", \"lag\", \"mostly\", \"several\", \"operation\", \"scale\", \"absorb\", \"future\", \"investment\", \"accrual\", \"support\", \"take\", \"addition\", \"benefit\", \"contribute\", \"finally\", \"see\", \"sequential\", \"variable\", \"manufacturing\", \"sequentially\", \"transition\", \"factor\", \"look\", \"sense\", \"probably\", \"eventually\", \"couple\", \"call\", \"array\", \"area\", \"consumer\", \"cite\", \"largely\", \"fuel\", \"reach\", \"top\", \"instal\", \"clarify\", \"reference\", \"attributable\", \"refer\", \"note\", \"subsequent\", \"stockholder\", \"mind\", \"ramp\", \"update\", \"bear\", \"close\", \"rollout\", \"lag\", \"mostly\", \"decommissioning\", \"contribute\", \"future\", \"give\", \"investment\", \"several\", \"support\", \"take\", \"accrual\", \"benefit\", \"finally\", \"scale\", \"see\", \"sequential\", \"variable\", \"depress\", \"factor\", \"flat\", \"historically\", \"introduction\", \"absorb\", \"operation\", \"review\", \"income\", \"net\"], \"Total\": [11.0, 5.0, 10.0, 13.0, 11.0, 7.0, 8.0, 8.0, 4.0, 7.0, 4.0, 9.0, 6.0, 4.0, 3.0, 4.0, 5.0, 5.0, 4.0, 5.0, 4.0, 4.0, 4.0, 5.0, 2.0, 4.0, 5.0, 4.0, 4.0, 3.0, 3.2057301998138428, 2.345339059829712, 2.3453330993652344, 2.345074415206909, 9.526485443115234, 5.519063949584961, 1.4849416017532349, 1.4849416017532349, 1.4849417209625244, 1.4849416017532349, 1.4849416017532349, 1.4849414825439453, 1.4849413633346558, 1.4849413633346558, 1.4849411249160767, 1.4849411249160767, 1.4849412441253662, 1.4849411249160767, 1.4849412441253662, 1.4849413633346558, 1.4849408864974976, 1.4849404096603394, 1.4849404096603394, 1.4849402904510498, 1.4849402904510498, 1.484925389289856, 1.4845232963562012, 5.536933422088623, 3.024447441101074, 3.0479419231414795, 7.948228359222412, 6.30480432510376, 3.1083109378814697, 3.1083109378814697, 3.1183950901031494, 5.3422017097473145, 3.5996646881103516, 3.881917953491211, 7.855607986450195, 7.7574896812438965, 4.562463760375977, 4.871735572814941, 5.046851634979248, 3.8834011554718018, 4.352443218231201, 5.765228271484375, 11.174315452575684, 13.862883567810059, 3.627695322036743, 5.110978126525879, 1.4160057306289673, 1.4160056114196777, 1.4160053730010986, 1.4160053730010986, 1.4160056114196777, 1.4160054922103882, 1.4160056114196777, 1.4160056114196777, 1.4160056114196777, 1.4160056114196777, 1.4160054922103882, 1.4160053730010986, 1.4160053730010986, 1.4160053730010986, 1.41600501537323, 1.4160051345825195, 1.4160051345825195, 1.415990948677063, 1.4153332710266113, 1.4153032302856445, 1.415291428565979, 4.383977890014648, 2.961015462875366, 4.765771865844727, 2.0340349674224854, 2.0340352058410645, 2.0571839809417725, 2.094666004180908, 4.190011978149414, 11.791648864746094, 10.265085220336914, 13.862883567810059, 5.945734977722168, 8.011688232421875, 3.8834011554718018, 5.536933422088623, 5.869016170501709, 2.7796218395233154, 3.5334784984588623, 2.1505331993103027, 2.1505298614501953, 2.15053129196167, 1.3875454664230347, 1.3875452280044556, 1.3875452280044556, 1.3875452280044556, 1.3875452280044556, 1.3875452280044556, 1.3875452280044556, 1.3875452280044556, 1.387545108795166, 1.387545108795166, 1.387544870376587, 1.387544870376587, 1.3875441551208496, 1.3875443935394287, 1.3875423669815063, 1.3875423669815063, 1.387540340423584, 1.3875137567520142, 2.7787368297576904, 2.8932340145111084, 3.010422945022583, 4.137901306152344, 4.150434970855713, 2.13024640083313, 2.1302435398101807, 2.1479575634002686, 2.1782684326171875, 4.562463760375977, 8.578558921813965, 5.5099005699157715, 7.7574896812438965, 10.265085220336914, 2.247913122177124, 5.56414270401001, 2.247897148132324, 3.8552744388580322, 5.765228271484375, 5.138759136199951, 2.171802043914795, 4.408311367034912, 4.9228949546813965, 1.398180365562439, 1.3981800079345703, 1.397555947303772, 2.86222767829895, 6.301120281219482, 11.174315452575684, 7.314833164215088, 2.039358139038086, 2.143766164779663, 2.1585936546325684, 2.15859317779541, 2.7286906242370605, 2.8828437328338623, 2.949225425720215, 3.0012333393096924, 5.869016170501709, 3.1183950901031494, 3.4446957111358643, 3.4438931941986084, 3.5334784984588623, 3.5996646881103516, 3.6397619247436523, 3.881917953491211, 3.8834011554718018, 7.7574896812438965, 4.783578395843506, 5.519063949584961, 5.945734977722168, 10.265085220336914, 13.862883567810059, 7.398101329803467, 6.30480432510376, 11.791648864746094, 2.659900665283203, 1.3849867582321167, 1.3849866390228271, 1.3849865198135376, 1.3849865198135376, 1.3849865198135376, 1.3849865198135376, 1.3849865198135376, 1.3849865198135376, 1.3849865198135376, 1.3849865198135376, 1.384986400604248, 1.3849865198135376, 3.0057811737060547, 3.4467790126800537, 5.138759136199951, 1.866190791130066, 2.0030171871185303, 2.127687692642212, 2.1479575634002686, 2.15859317779541, 2.1585936546325684, 2.5142152309417725, 2.7000036239624023, 8.011688232421875, 2.8633854389190674, 2.8735618591308594, 2.949225425720215, 3.260782241821289, 3.627695322036743, 10.265085220336914, 11.791648864746094, 7.398101329803467, 5.945734977722168, 7.855607986450195, 13.862883567810059, 4.750718116760254, 7.948228359222412, 7.7574896812438965, 4.137901306152344, 4.871735572814941, 2.1151134967803955, 2.1185271739959717, 2.1188881397247314, 1.3701591491699219, 1.3701586723327637, 1.3701591491699219, 1.3701589107513428, 1.3701591491699219, 1.3701591491699219, 1.3701587915420532, 1.3701587915420532, 1.3701587915420532, 1.3701589107513428, 1.3701587915420532, 1.3701587915420532, 2.9742815494537354, 5.974321365356445, 1.8872787952423096, 5.56414270401001, 2.049492835998535, 2.143766164779663, 2.5142152309417725, 2.741067886352539, 2.7796218395233154, 2.961015462875366, 4.352443218231201, 8.578558921813965, 3.356930732727051, 3.457862138748169, 7.398101329803467, 5.765228271484375, 13.862883567810059, 7.7574896812438965, 7.855607986450195, 4.137901306152344, 2.109988212585449, 2.109988212585449, 1.3672746419906616, 1.3672747611999512, 1.3672746419906616, 1.3672746419906616, 1.367274284362793, 1.367274522781372, 1.367274522781372, 1.3672746419906616, 1.3672746419906616, 1.3672746419906616, 1.3672744035720825, 1.367274522781372, 1.367274522781372, 2.8828437328338623, 1.8484786748886108, 4.150434970855713, 2.127687692642212, 2.1302435398101807, 2.13024640083313, 2.741067886352539, 2.7445027828216553, 2.8932340145111084, 3.0012333393096924, 3.336839199066162, 3.356930732727051, 3.4126088619232178, 3.8552744388580322, 4.174740314483643, 8.578558921813965, 9.526485443115234, 11.791648864746094, 5.56414270401001, 5.3422017097473145, 7.948228359222412, 4.783578395843506, 1.3157390356063843, 1.3157387971878052, 1.3157371282577515, 1.3157371282577515, 1.3157371282577515, 1.3157027959823608, 1.3157016038894653, 1.3156957626342773, 1.3156901597976685, 1.3156888484954834, 1.3156874179840088, 1.3156830072402954, 1.315679907798767, 3.627695322036743, 4.383977890014648, 2.471405029296875, 2.471405029296875, 4.871735572814941, 2.659519910812378, 2.7000036239624023, 2.8037984371185303, 2.86222767829895, 11.174315452575684, 4.408311367034912, 4.562463760375977, 4.9228949546813965, 4.999732494354248, 5.3422017097473145, 5.536933422088623, 6.301120281219482, 13.862883567810059, 7.398101329803467, 9.526485443115234, 7.314833164215088, 2.029862880706787, 1.3271760940551758, 1.3271758556365967, 1.3272311687469482, 1.3272550106048584, 1.327256441116333, 3.4446957111358643, 3.4438931941986084, 2.006598472595215, 2.187544107437134, 2.659519910812378, 2.7286906242370605, 5.869016170501709, 3.0479419231414795, 3.457862138748169, 3.5334784984588623, 3.6397619247436523, 7.314833164215088, 7.398101329803467, 7.855607986450195, 4.750718116760254, 5.110978126525879, 5.3422017097473145, 5.5099005699157715, 5.765228271484375, 5.945734977722168, 11.791648864746094, 6.30480432510376, 9.526485443115234, 11.174315452575684, 13.862883567810059, 1.3039075136184692, 1.3039075136184692, 1.3039072751998901, 1.3039072751998901, 1.3039071559906006, 1.3039072751998901, 1.3039072751998901, 1.3039075136184692, 1.3039069175720215, 1.3039069175720215, 4.750718116760254, 3.260782241821289, 1.9219377040863037, 1.9219378232955933, 1.9219380617141724, 1.9310709238052368, 2.006598472595215, 2.049492835998535, 2.094666004180908, 3.024447441101074, 3.4467790126800537, 3.6397619247436523, 4.036656379699707, 4.352443218231201, 13.862883567810059, 4.999732494354248, 5.046851634979248, 5.138759136199951, 5.519063949584961, 5.56414270401001, 8.011688232421875, 1.2657521963119507, 1.2657521963119507, 1.2657520771026611, 1.2657520771026611, 1.2657520771026611, 1.2657520771026611, 1.2657520771026611, 1.2657506465911865, 3.4126088619232178, 2.039358139038086, 2.0571839809417725, 2.126120090484619, 4.765771865844727, 2.471405029296875, 2.471405029296875, 2.659519910812378, 3.4438931941986084, 3.4446957111358643, 3.5334784984588623, 4.174740314483643, 4.999732494354248, 5.046851634979248, 10.265085220336914, 5.5099005699157715, 5.869016170501709, 5.945734977722168, 7.314833164215088, 11.174315452575684, 13.862883567810059, 1.008216381072998, 1.0082166194915771, 1.0082165002822876, 1.6599133014678955, 1.8809958696365356, 1.2527810335159302, 1.2527810335159302, 1.2527811527252197, 1.2527810335159302, 1.2527810335159302, 1.252780795097351, 1.252780795097351, 1.2527810335159302, 1.252780795097351, 1.2527810335159302, 1.2527810335159302, 1.2527801990509033, 1.2527801990509033, 1.2527801990509033, 2.3879311084747314, 4.783578395843506, 2.7286906242370605, 2.741067886352539, 2.7787368297576904, 2.8037984371185303, 2.8735618591308594, 3.336839199066162, 4.036656379699707, 4.352443218231201, 5.974321365356445, 8.578558921813965, 1.008216381072998, 1.0082165002822876, 1.0082166194915771, 1.0082166194915771, 4.750718116760254, 1.139061450958252, 2.9742815494537354, 1.2426046133041382, 1.242604374885559, 1.2426042556762695, 1.242604374885559, 1.242604374885559, 1.2426046133041382, 1.242604374885559, 1.242604374885559, 1.2426044940948486, 1.2426046133041382, 1.2426036596298218, 1.2426036596298218, 1.2426036596298218, 1.2426035404205322, 1.9219378232955933, 1.9219380617141724, 1.9219377040863037, 2.0030171871185303, 2.0340352058410645, 2.0340349674224854, 2.1029720306396484, 2.1029715538024902, 2.3879311084747314, 2.7796218395233154, 2.8633854389190674, 5.046851634979248, 5.110978126525879, 6.301120281219482, 13.862883567810059, 1.008216381072998, 1.0082165002822876, 1.0082166194915771, 1.0082166194915771, 1.3672746419906616, 1.8686445951461792, 1.8772844076156616, 1.246605634689331, 1.246605634689331, 1.2466055154800415, 1.2481133937835693, 1.2484124898910522, 1.248440146446228, 1.2484664916992188, 1.249934434890747, 1.2501170635223389, 1.2527825832366943, 1.254260540008545, 1.6302486658096313, 3.356930732727051, 1.9310709238052368, 2.7000036239624023, 3.4467790126800537, 3.457862138748169, 8.011688232421875, 4.750718116760254, 4.783578395843506, 1.008216381072998, 1.0082165002822876, 1.0082166194915771, 1.0082166194915771, 1.1057770252227783, 1.1057771444320679, 1.1057771444320679, 1.1057771444320679, 1.1057772636413574, 1.1057772636413574, 1.105777382850647, 1.1057777404785156, 2.1188881397247314, 2.9742815494537354, 2.1151134967803955, 5.56414270401001, 5.974321365356445, 1.3701589107513428, 3.881917953491211, 3.1083109378814697, 1.6599133014678955, 1.141693115234375, 1.141693115234375, 1.141693115234375, 1.1416929960250854, 1.1416929960250854, 1.1416929960250854, 1.141692876815796, 1.141693115234375, 1.141692876815796, 1.8872787952423096, 2.3879311084747314, 2.7445027828216553, 3.260782241821289, 5.56414270401001, 8.578558921813965, 11.791648864746094, 1.008216381072998, 1.0082165002822876, 1.0082166194915771, 1.0082166194915771, 1.1057770252227783, 1.1057771444320679, 1.1057771444320679, 1.1057771444320679, 1.1057772636413574, 1.1057772636413574, 1.105777382850647, 1.1057777404785156, 1.1059443950653076, 1.1059445142745972, 1.1059445142745972, 5.046851634979248, 3.881917953491211, 1.3701587915420532, 1.3701589107513428, 2.9742815494537354, 3.1083109378814697, 1.387544870376587, 1.387544870376587, 2.247912883758545, 1.3672746419906616, 3.1083109378814697, 2.5142152309417725, 2.961015462875366, 1.139061450958252, 1.1390613317489624, 1.139061450958252, 1.1390613317489624, 1.1390615701675415, 1.139061450958252, 1.1390609741210938, 1.9990191459655762, 2.471405029296875, 2.471405029296875, 2.659900665283203, 4.150434970855713, 4.174740314483643, 4.9228949546813965, 5.974321365356445, 6.301120281219482, 7.855607986450195, 10.265085220336914, 1.008216381072998, 1.0082166194915771, 1.0082166194915771, 1.0082165002822876, 1.1057770252227783, 1.1057771444320679, 1.1057771444320679, 1.1057771444320679, 1.1057772636413574, 1.1057772636413574, 1.105777382850647, 1.1057777404785156, 3.1083109378814697, 3.881917953491211, 1.387544870376587, 1.3672746419906616, 1.387544870376587, 5.046851634979248, 2.247912883758545, 3.1083109378814697, 1.3701589107513428, 2.1302435398101807, 2.127687692642212, 2.9742815494537354, 1.5869868993759155, 1.1057770252227783, 1.1057771444320679, 1.1057771444320679, 1.1057771444320679, 1.1057772636413574, 1.1057772636413574, 1.105777382850647, 1.1057777404785156, 1.8484786748886108, 1.866190791130066, 4.036656379699707, 4.190011978149414, 1.008216381072998, 1.0082165002822876, 1.0082166194915771, 1.0082166194915771, 1.1059443950653076, 1.1059445142745972, 1.1059445142745972, 1.1390609741210938, 1.1390613317489624, 1.1390613317489624, 1.139061450958252, 1.139061450958252, 1.139061450958252, 1.1390615701675415, 1.141692876815796, 1.141692876815796, 1.1416929960250854, 1.141693115234375, 1.141693115234375, 1.1416929960250854, 1.141693115234375, 1.141693115234375, 1.1416929960250854, 1.397555947303772, 11.174315452575684, 4.408311367034912, 4.9228949546813965, 6.301120281219482, 7.314833164215088, 2.8828437328338623, 2.86222767829895, 3.4438931941986084, 4.783578395843506, 3.6397619247436523, 7.7574896812438965, 3.5996646881103516, 3.1183950901031494, 5.869016170501709, 5.765228271484375, 2.7286906242370605, 7.948228359222412, 11.791648864746094, 1.1059445142745972, 1.1059445142745972, 1.1059443950653076, 1.9663113355636597, 2.3496322631835938, 3.336839199066162, 3.5996646881103516, 3.8552744388580322, 4.137901306152344, 4.765771865844727, 5.5099005699157715, 5.765228271484375, 5.974321365356445, 7.855607986450195, 1.008216381072998, 1.0082165002822876, 1.0082166194915771, 1.0082166194915771, 1.1057770252227783, 1.1057771444320679, 1.1057771444320679, 1.1057771444320679, 1.1057772636413574, 1.1057772636413574, 1.105777382850647, 1.1057777404785156, 1.1390609741210938, 1.1390613317489624, 1.1390613317489624, 1.139061450958252, 1.139061450958252, 1.139061450958252, 1.1390615701675415, 1.415291428565979, 1.4153032302856445, 1.4153332710266113, 4.190011978149414, 11.791648864746094, 10.265085220336914, 2.094666004180908, 2.1782684326171875, 4.383977890014648, 2.949225425720215, 8.011688232421875, 3.8834011554718018, 13.862883567810059, 5.138759136199951, 5.046851634979248, 1.3672747611999512, 1.0082166194915771, 1.0082166194915771, 1.0082165002822876, 1.008216381072998, 1.6302486658096313, 2.3496322631835938, 2.5142152309417725, 3.8552744388580322, 4.871735572814941, 1.1057770252227783, 1.1057771444320679, 1.1057772636413574, 1.1057772636413574, 1.1057771444320679, 1.1057771444320679, 1.105777382850647, 1.1057777404785156, 1.1059443950653076, 1.1059445142745972, 1.1059445142745972, 1.1390609741210938, 1.1390613317489624, 1.1390613317489624, 1.139061450958252, 1.139061450958252, 1.139061450958252, 1.1390615701675415, 1.141692876815796, 1.141692876815796, 1.1416929960250854, 1.1416929960250854, 1.141693115234375, 1.141693115234375, 1.1416929960250854, 1.141693115234375, 1.141693115234375, 1.3701587915420532, 2.0340349674224854, 1.2426036596298218, 1.3701587915420532, 1.3701587915420532, 2.961015462875366, 3.1083109378814697, 1.3701589107513428, 2.9742815494537354, 2.1029715538024902, 3.881917953491211, 1.387544870376587, 1.387544870376587, 5.046851634979248, 2.247912883758545, 3.1083109378814697, 1.2426036596298218, 4.999732494354248, 2.7000036239624023, 2.1302435398101807, 1.008216381072998, 1.0082165002822876, 1.0082166194915771, 1.0082166194915771, 1.1057770252227783, 1.1057771444320679, 1.1057771444320679, 1.1057771444320679, 1.1057772636413574, 1.1057772636413574, 1.105777382850647, 1.1057777404785156, 1.1059443950653076, 1.1059445142745972, 1.1059445142745972, 1.1390609741210938, 1.1390613317489624, 1.1390613317489624, 1.139061450958252, 1.139061450958252, 1.139061450958252, 1.1390615701675415, 1.141692876815796, 1.141692876815796, 1.1416929960250854, 1.1416929960250854, 1.1416929960250854, 1.141693115234375, 1.141693115234375, 1.141693115234375, 1.141693115234375, 1.387544870376587, 1.3701587915420532, 2.5142152309417725, 2.961015462875366, 1.3701587915420532, 1.3701589107513428, 2.9742815494537354, 3.1083109378814697, 3.881917953491211, 1.387544870376587, 1.2426036596298218, 5.046851634979248, 2.247912883758545, 3.1083109378814697, 1.3672746419906616, 2.1302435398101807, 2.127687692642212, 1.3672746419906616, 1.3672747611999512, 1.3701587915420532, 2.0340349674224854, 1.3157027959823608, 2.471405029296875, 2.471405029296875], \"loglift\": [30.0, 29.0, 28.0, 27.0, 26.0, 25.0, 24.0, 23.0, 22.0, 21.0, 20.0, 19.0, 18.0, 17.0, 16.0, 15.0, 14.0, 13.0, 12.0, 11.0, 10.0, 9.0, 8.0, 7.0, 6.0, 5.0, 4.0, 3.0, 2.0, 1.0, 1.655500054359436, 1.5707000494003296, 1.5707000494003296, 1.569700002670288, 1.4042999744415283, 1.395799994468689, 1.3587000370025635, 1.3587000370025635, 1.3587000370025635, 1.3587000370025635, 1.3587000370025635, 1.3587000370025635, 1.3587000370025635, 1.3587000370025635, 1.3587000370025635, 1.3587000370025635, 1.3587000370025635, 1.3587000370025635, 1.3587000370025635, 1.3587000370025635, 1.3587000370025635, 1.3587000370025635, 1.3587000370025635, 1.3587000370025635, 1.3587000370025635, 1.3587000370025635, 1.3555999994277954, 1.3499000072479248, 1.315500020980835, 1.3086999654769897, 1.2517999410629272, 1.2626999616622925, 1.2891000509262085, 1.2891000509262085, 1.2857999801635742, 1.1447999477386475, 1.142300009727478, 1.0667999982833862, 0.7591999769210815, 0.6934999823570251, 0.9053000211715698, 0.8396999835968018, 0.8044000267982483, 0.8622999787330627, 0.7347999811172485, 0.4553999900817871, 0.009499999694526196, -0.6898000240325928, 0.46549999713897705, 1.979099988937378, 1.9127999544143677, 1.9127999544143677, 1.9127999544143677, 1.9127999544143677, 1.9127999544143677, 1.9127999544143677, 1.9127999544143677, 1.9127999544143677, 1.9127999544143677, 1.9127999544143677, 1.9127999544143677, 1.9127999544143677, 1.9127999544143677, 1.9127999544143677, 1.9127999544143677, 1.9127999544143677, 1.9127999544143677, 1.9127999544143677, 1.9112000465393066, 1.9111000299453735, 1.9111000299453735, 1.8282999992370605, 1.7858999967575073, 1.7457000017166138, 1.5506000518798828, 1.5506000518798828, 1.5392999649047852, 1.5190999507904053, 1.4941999912261963, 1.354200005531311, 1.2795000076293945, 1.1576999425888062, 1.1469999551773071, 0.8464000225067139, 1.2098000049591064, 0.6969000101089478, 0.4909000098705292, 1.2382999658584595, 0.9983000159263611, 2.174799919128418, 2.174799919128418, 2.174799919128418, 1.9438999891281128, 1.9438999891281128, 1.9438999891281128, 1.9438999891281128, 1.9438999891281128, 1.9438999891281128, 1.9438999891281128, 1.9438999891281128, 1.9438999891281128, 1.9438999891281128, 1.9438999891281128, 1.9438999891281128, 1.9438999891281128, 1.9438999891281128, 1.9438999891281128, 1.9438999891281128, 1.9438999891281128, 1.9438999891281128, 1.9184999465942383, 1.8782000541687012, 1.8385000228881836, 1.520400047302246, 1.517300009727478, 1.5152000188827515, 1.5152000188827515, 1.5069999694824219, 1.492900013923645, 1.422700047492981, 1.188599944114685, 1.2339999675750732, 0.8919000029563904, 0.6118000149726868, 1.4615000486373901, 0.5551000237464905, 1.4615000486373901, 0.921999990940094, 0.519599974155426, 0.6347000002861023, 2.2546000480651855, 2.223099946975708, 2.112799882888794, 2.025899887084961, 2.025899887084961, 2.0243000984191895, 1.9773000478744507, 1.8657000064849854, 1.8486000299453735, 1.7165000438690186, 1.6483999490737915, 1.5985000133514404, 1.591599941253662, 1.591599941253662, 1.3559000492095947, 1.2998000383377075, 1.2795000076293945, 1.2619999647140503, 1.2487000226974487, 1.2218999862670898, 1.1241999864578247, 1.1217000484466553, 1.0987999439239502, 1.0780999660491943, 1.0667999982833862, 1.004699945449829, 1.0042999982833862, 0.9797000288963318, 0.7928000092506409, 0.6528000235557556, 0.5784000158309937, 0.03229999914765358, -0.26820001006126404, 0.3598000109195709, 0.5181000232696533, -0.10819999873638153, 2.116300106048584, 2.0998001098632812, 2.0998001098632812, 2.0998001098632812, 2.0998001098632812, 2.0998001098632812, 2.0998001098632812, 2.0998001098632812, 2.0998001098632812, 2.0998001098632812, 2.0998001098632812, 2.0998001098632812, 2.0998001098632812, 1.99399995803833, 1.857100009918213, 1.8551000356674194, 1.8015999794006348, 1.7309000492095947, 1.6705000400543213, 1.6610000133514404, 1.6561000347137451, 1.6561000347137451, 1.503600001335144, 1.4322999715805054, 1.4110000133514404, 1.3734999895095825, 1.3700000047683716, 1.343999981880188, 1.243499994277954, 1.1368999481201172, 0.7657999992370605, 0.6290000081062317, 0.42669999599456787, 0.6446999907493591, 0.3659999966621399, -0.2020999938249588, 0.8687000274658203, 0.35260000824928284, 0.37689998745918274, 1.0053000450134277, 0.8421000242233276, 2.399399995803833, 2.388400077819824, 2.3756000995635986, 2.167099952697754, 2.167099952697754, 2.167099952697754, 2.167099952697754, 2.167099952697754, 2.167099952697754, 2.167099952697754, 2.167099952697754, 2.167099952697754, 2.167099952697754, 2.167099952697754, 2.167099952697754, 2.053800106048584, 2.040800094604492, 1.8468999862670898, 1.8236000537872314, 1.7644000053405762, 1.7194000482559204, 1.559999942779541, 1.4737000465393066, 1.4596999883651733, 1.3964999914169312, 1.3346999883651733, 1.2869999408721924, 1.2710000276565552, 1.2414000034332275, 1.1497999429702759, 1.0516999959945679, 0.5217999815940857, 0.6312000155448914, 0.42080000042915344, 1.0618000030517578, 2.4200000762939453, 2.4200000762939453, 2.184799909591675, 2.184799909591675, 2.184799909591675, 2.184799909591675, 2.184799909591675, 2.184799909591675, 2.184799909591675, 2.184799909591675, 2.184799909591675, 2.184799909591675, 2.184799909591675, 2.184799909591675, 2.184799909591675, 2.1078999042510986, 1.8832999467849731, 1.743499994277954, 1.7425999641418457, 1.7414000034332275, 1.7414000034332275, 1.489300012588501, 1.4880000352859497, 1.4352999925613403, 1.3985999822616577, 1.2926000356674194, 1.2865999937057495, 1.2702000141143799, 1.1482000350952148, 1.068600058555603, 1.0174000263214111, 0.9125999808311462, 0.6992999911308289, 0.7813000082969666, 0.8220000267028809, 0.424699991941452, 0.9323999881744385, 2.3849000930786133, 2.3849000930786133, 2.3849000930786133, 2.3849000930786133, 2.3849000930786133, 2.3821001052856445, 2.381999969482422, 2.381500005722046, 2.3810999393463135, 2.38100004196167, 2.3808000087738037, 2.380500078201294, 2.3803000450134277, 2.039799928665161, 1.8503999710083008, 1.7545000314712524, 1.7545000314712524, 1.7448999881744385, 1.6812000274658203, 1.666100025177002, 1.6282999515533447, 1.607699990272522, 1.3097000122070312, 1.1757999658584595, 1.1414999961853027, 1.0611000061035156, 1.0499000549316406, 0.9836999773979187, 0.9478999972343445, 0.8185999989509583, 0.6991999745368958, 0.6581000089645386, 0.4052000045776367, 0.6660000085830688, 2.6370999813079834, 2.3935999870300293, 2.3935999870300293, 2.392699956893921, 2.3922998905181885, 2.392199993133545, 2.1078999042510986, 2.107800006866455, 1.9788000583648682, 1.8939000368118286, 1.6985000371932983, 1.6708999872207642, 1.5760999917984009, 1.5621999502182007, 1.434399962425232, 1.4129999876022339, 1.3847999572753906, 1.3558000326156616, 1.3432999849319458, 1.2836999893188477, 1.1168999671936035, 1.045300006866455, 1.001099944114685, 0.9686999917030334, 0.9230999946594238, 0.8920999765396118, 0.8765000104904175, 0.8353999853134155, 0.42260000109672546, 0.2630999982357025, 0.045899998396635056, 2.4647998809814453, 2.4647998809814453, 2.4647998809814453, 2.4647998809814453, 2.4647998809814453, 2.4647998809814453, 2.4647998809814453, 2.4647998809814453, 2.4647998809814453, 2.4647998809814453, 2.235300064086914, 2.2172000408172607, 2.0768001079559326, 2.0768001079559326, 2.0768001079559326, 2.0720999240875244, 2.0336999893188477, 2.012500047683716, 1.9907000064849854, 1.6233999729156494, 1.4926999807357788, 1.4381999969482422, 1.3346999883651733, 1.2594000101089478, 1.1672999858856201, 1.1208000183105469, 1.1114000082015991, 1.0932999849319458, 1.0219000577926636, 1.013800024986267, 0.6492000222206116, 2.572999954223633, 2.572999954223633, 2.572999954223633, 2.572999954223633, 2.572999954223633, 2.572999954223633, 2.572999954223633, 2.572999954223633, 2.2502999305725098, 2.096100091934204, 2.087399959564209, 2.0543999671936035, 1.9163000583648682, 1.9039000272750854, 1.9039000272750854, 1.8305000066757202, 1.572100043296814, 1.5719000101089478, 1.5463999509811401, 1.3796000480651855, 1.1993000507354736, 1.1899000406265259, 1.1490000486373901, 1.1021000146865845, 1.0390000343322754, 1.0260000228881836, 0.8187999725341797, 0.3950999975204468, 0.17949999868869781, -0.24400000274181366, -0.24400000274181366, -0.24400000274181366, -0.5795999765396118, 2.9086999893188477, 2.6461000442504883, 2.6461000442504883, 2.6461000442504883, 2.6461000442504883, 2.6461000442504883, 2.6461000442504883, 2.6461000442504883, 2.6461000442504883, 2.6461000442504883, 2.6461000442504883, 2.6461000442504883, 2.6461000442504883, 2.6461000442504883, 2.6461000442504883, 2.000999927520752, 1.9752999544143677, 1.8675999641418457, 1.8631000518798828, 1.8494999408721924, 1.840499997138977, 1.8158999681472778, 1.6663999557495117, 1.4759999513626099, 1.4006999731063843, 1.0839999914169312, 0.7221999764442444, -0.18119999766349792, -0.18119999766349792, -0.18119999766349792, -0.18119999766349792, -1.5684000253677368, -0.30329999327659607, -1.263100028038025, 2.654400110244751, 2.654400110244751, 2.654400110244751, 2.654400110244751, 2.654400110244751, 2.654400110244751, 2.654400110244751, 2.654400110244751, 2.654400110244751, 2.654400110244751, 2.654400110244751, 2.654400110244751, 2.654400110244751, 2.654400110244751, 2.2183001041412354, 2.2183001041412354, 2.2183001041412354, 2.177000045776367, 2.161600112915039, 2.161600112915039, 2.1282999515533447, 2.1282999515533447, 2.001199960708618, 1.8493000268936157, 1.819700002670288, 1.2529000043869019, 1.2403000593185425, 1.030900001525879, 0.24240000545978546, -0.1809999942779541, -0.1809999942779541, -0.1809999942779541, -0.1809999942779541, -0.48570001125335693, 2.991300106048584, 2.9519999027252197, 2.727099895477295, 2.727099895477295, 2.727099895477295, 2.714099884033203, 2.7116000652313232, 2.7112998962402344, 2.7111001014709473, 2.6984000205993652, 2.6967999935150146, 2.67330002784729, 2.660099983215332, 2.4588000774383545, 2.4054999351501465, 2.249000072479248, 1.9400999546051025, 1.7101000547409058, 1.7067999839782715, 1.5313999652862549, 1.3623000383377075, 1.3446999788284302, -0.10520000010728836, -0.10520000010728836, -0.10520000010728836, -0.10520000010728836, -0.19760000705718994, -0.19760000705718994, -0.19760000705718994, -0.19760000705718994, -0.19760000705718994, -0.19760000705718994, -0.19760000705718994, -0.19760000705718994, -0.6545000076293945, -0.9276000261306763, -0.7487999796867371, -1.6410000324249268, -1.7955000400543213, -0.41190001368522644, -1.4534000158309937, -1.2310999631881714, 3.301100015640259, 3.010699987411499, 3.010699987411499, 3.010699987411499, 3.010699987411499, 3.010699987411499, 3.010699987411499, 3.010699987411499, 3.010699987411499, 3.010699987411499, 2.507999897003174, 2.272700071334839, 2.1335999965667725, 1.9611999988555908, 1.426800012588501, 0.9939000010490417, 0.6758000254631042, 0.09049999713897705, 0.09049999713897705, 0.09049999713897705, 0.09049999713897705, -0.0019000000320374966, -0.0019000000320374966, -0.0019000000320374966, -0.0019000000320374966, -0.0019000000320374966, -0.0019000000320374966, -0.0019000000320374966, -0.0019000000320374966, -0.0020000000949949026, -0.0020000000949949026, -0.0020000000949949026, -1.5200999975204468, -1.257699966430664, -0.21629999577999115, -0.21629999577999115, -0.9914000034332275, -1.0354000329971313, -0.2289000004529953, -0.2289000004529953, -0.7113999724388123, -0.2142000049352646, -1.0354000329971313, -0.8233000040054321, -0.9868999719619751, 3.012700080871582, 3.012700080871582, 3.012700080871582, 3.012700080871582, 3.012700080871582, 3.012700080871582, 3.012700080871582, 2.4502999782562256, 2.238100051879883, 2.238100051879883, 2.164599895477295, 1.7196999788284302, 1.7138999700546265, 1.5490000247955322, 1.3553999662399292, 1.3021999597549438, 1.0816999673843384, 0.8141999840736389, 0.09019999951124191, 0.09019999951124191, 0.09019999951124191, 0.09019999951124191, -0.002099999925121665, -0.002099999925121665, -0.002099999925121665, -0.002099999925121665, -0.002099999925121665, -0.002099999925121665, -0.002099999925121665, -0.002099999925121665, -1.0356999635696411, -1.2578999996185303, -0.22910000383853912, -0.21439999341964722, -0.22910000383853912, -1.520400047302246, -0.7116000056266785, -1.0356999635696411, -0.21649999916553497, -0.657800018787384, -0.6565999984741211, -0.991599977016449, 3.468100070953369, 3.1603000164031982, 3.1603000164031982, 3.1603000164031982, 3.1603000164031982, 3.1603000164031982, 3.1603000164031982, 3.1603000164031982, 3.1603000164031982, 2.6465001106262207, 2.63700008392334, 1.8654999732971191, 1.8281999826431274, 0.20819999277591705, 0.20819999277591705, 0.20819999277591705, 0.20819999277591705, 0.11569999903440475, 0.11569999903440475, 0.11569999903440475, 0.08619999885559082, 0.08619999885559082, 0.08619999885559082, 0.08619999885559082, 0.08619999885559082, 0.08619999885559082, 0.08619999885559082, 0.08389999717473984, 0.08389999717473984, 0.08389999717473984, 0.08389999717473984, 0.08389999717473984, 0.08389999717473984, 0.08389999717473984, 0.08389999717473984, 0.08389999717473984, -0.07649999856948853, -1.9854999780654907, -1.152999997138977, -1.2725000381469727, -1.5026999711990356, -1.6475000381469727, -0.7922999858856201, -0.7858999967575073, -0.9646999835968018, -1.2856999635696411, -1.0273000001907349, -1.7625999450683594, -1.020799994468689, -0.883899986743927, -1.503499984741211, -1.4921000003814697, -0.7592999935150146, -1.81659996509552, -2.213399887084961, 3.1605000495910645, 3.1605000495910645, 3.1605000495910645, 2.585099935531616, 2.4070000648498535, 2.0562000274658203, 1.9803999662399292, 1.9118000268936157, 1.8410999774932861, 1.7022000551223755, 1.5547000169754028, 1.5094000101089478, 1.4737999439239502, 1.2000000476837158, 0.2084999978542328, 0.2084999978542328, 0.2084999978542328, 0.2084999978542328, 0.11620000004768372, 0.11620000004768372, 0.11620000004768372, 0.11620000004768372, 0.11620000004768372, 0.11620000004768372, 0.11620000004768372, 0.11620000004768372, 0.08649999648332596, 0.08649999648332596, 0.08649999648332596, 0.08649999648332596, 0.08649999648332596, 0.08649999648332596, 0.08649999648332596, -0.08560000360012054, -0.08630000054836273, -0.08820000290870667, -1.1085000038146973, -2.0648000240325928, -1.9414000511169434, -0.48019999265670776, -0.51910001039505, -1.1823999881744385, -0.8144999742507935, -1.7728999853134155, -1.0851000547409058, -2.3203999996185303, -1.3688000440597534, -1.4019999504089355, -0.09610000252723694, 3.428999900817871, 3.428999900817871, 3.428999900817871, 3.428999900817871, 2.948499917984009, 2.5829999446868896, 2.5153000354766846, 2.0878000259399414, 1.8538000583648682, 0.2921999990940094, 0.2921999990940094, 0.2921999990940094, 0.2921999990940094, 0.2921999990940094, 0.2921999990940094, 0.2921999990940094, 0.2921999990940094, 0.2919999957084656, 0.2919999957084656, 0.2919999957084656, 0.26249998807907104, 0.26249998807907104, 0.26249998807907104, 0.26249998807907104, 0.26249998807907104, 0.26249998807907104, 0.26249998807907104, 0.26019999384880066, 0.26019999384880066, 0.26019999384880066, 0.26019999384880066, 0.26019999384880066, 0.26019999384880066, 0.26019999384880066, 0.26019999384880066, 0.26019999384880066, 0.07779999822378159, -0.3172999918460846, 0.17550000548362732, 0.07779999822378159, 0.07779999822378159, -0.692799985408783, -0.7414000034332275, 0.07779999822378159, -0.6973000168800354, -0.350600004196167, -0.9635999798774719, 0.06520000100135803, 0.06520000100135803, -1.226099967956543, -0.4172999858856201, -0.7414000034332275, 0.17550000548362732, -1.2166999578475952, -0.6004999876022339, -0.3634999990463257, 0.8033999800682068, 0.8033999800682068, 0.8033999800682068, 0.8033999800682068, 0.7110000252723694, 0.7110000252723694, 0.7110000252723694, 0.7110000252723694, 0.7110000252723694, 0.7110000252723694, 0.7110000252723694, 0.7110000252723694, 0.7109000086784363, 0.7109000086784363, 0.7109000086784363, 0.6814000010490417, 0.6814000010490417, 0.6814000010490417, 0.6814000010490417, 0.6814000010490417, 0.6814000010490417, 0.6814000010490417, 0.679099977016449, 0.679099977016449, 0.679099977016449, 0.679099977016449, 0.679099977016449, 0.679099977016449, 0.679099977016449, 0.679099977016449, 0.679099977016449, 0.48399999737739563, 0.4966000020503998, -0.1103999987244606, -0.27399998903274536, 0.4966000020503998, 0.4966000020503998, -0.2784000039100647, -0.32249999046325684, -0.5447999835014343, 0.48399999737739563, 0.5943999886512756, -0.807200014591217, 0.0015999999595806003, -0.32249999046325684, 0.49880000948905945, 0.05530000105500221, 0.05649999901652336, 0.49880000948905945, 0.49880000948905945, 0.4966000020503998, 0.10159999877214432, 0.5371999740600586, -0.09319999814033508, -0.09319999814033508], \"logprob\": [30.0, 29.0, 28.0, 27.0, 26.0, 25.0, 24.0, 23.0, 22.0, 21.0, 20.0, 19.0, 18.0, 17.0, 16.0, 15.0, 14.0, 13.0, 12.0, 11.0, 10.0, 9.0, 8.0, 7.0, 6.0, 5.0, 4.0, 3.0, 2.0, 1.0, -3.837599992752075, -4.234899997711182, -4.234899997711182, -4.236000061035156, -2.9997000694274902, -3.553999900817871, -4.903900146484375, -4.903900146484375, -4.903900146484375, -4.903900146484375, -4.903900146484375, -4.903900146484375, -4.903900146484375, -4.903900146484375, -4.903900146484375, -4.903900146484375, -4.903900146484375, -4.903900146484375, -4.903900146484375, -4.903900146484375, -4.903900146484375, -4.903900146484375, -4.903900146484375, -4.903900146484375, -4.903900146484375, -4.9039998054504395, -4.907299995422363, -3.5966999530792236, -4.235799789428711, -4.234899997711182, -3.3333001136779785, -3.553999900817871, -4.234899997711182, -4.234899997711182, -4.234899997711182, -3.837599992752075, -4.234899997711182, -4.234899997711182, -3.837599992752075, -3.9158999919891357, -4.234899997711182, -4.234899997711182, -4.234899997711182, -4.439000129699707, -4.452499866485596, -4.450799942016602, -4.234899997711182, -4.718599796295166, -4.903900146484375, -3.047499895095825, -4.39739990234375, -4.39739990234375, -4.39739990234375, -4.39739990234375, -4.39739990234375, -4.39739990234375, -4.39739990234375, -4.39739990234375, -4.39739990234375, -4.39739990234375, -4.39739990234375, -4.39739990234375, -4.39739990234375, -4.39739990234375, -4.39739990234375, -4.39739990234375, -4.39739990234375, -4.39739990234375, -4.399499893188477, -4.399600028991699, -4.399600028991699, -3.3517000675201416, -3.786600112915039, -3.350800037384033, -4.39739990234375, -4.39739990234375, -4.39739990234375, -4.399499893188477, -3.731100082397461, -2.836400032043457, -3.049799919128418, -2.8710999488830566, -3.7283999919891357, -3.7307000160217285, -4.0914998054504395, -4.24970006942749, -4.39739990234375, -4.39739990234375, -4.39739990234375, -3.7174999713897705, -3.7174999713897705, -3.7174999713897705, -4.386499881744385, -4.386499881744385, -4.386499881744385, -4.386499881744385, -4.386499881744385, -4.386499881744385, -4.386499881744385, -4.386499881744385, -4.386499881744385, -4.386499881744385, -4.386499881744385, -4.386499881744385, -4.386499881744385, -4.386499881744385, -4.386499881744385, -4.386499881744385, -4.386499881744385, -4.386600017547607, -3.7174999713897705, -3.7174999713897705, -3.7174999713897705, -3.7174999713897705, -3.7174999713897705, -4.386499881744385, -4.386499881744385, -4.386499881744385, -4.386600017547607, -3.7174999713897705, -3.320199966430664, -3.7174999713897705, -3.7174999713897705, -3.7174999713897705, -4.386499881744385, -4.386499881744385, -4.386499881744385, -4.386499881744385, -4.386499881744385, -4.386499881744385, -3.6278998851776123, -2.9514000415802, -2.9512999057769775, -4.296999931335449, -4.296999931335449, -4.298999786376953, -3.6291000843048096, -2.9514999389648438, -2.3958001136779785, -2.9516000747680664, -4.296999931335449, -4.296999931335449, -4.296999931335449, -4.296999931335449, -4.298299789428711, -4.2993998527526855, -4.296999931335449, -4.296999931335449, -3.639699935913086, -4.298799991607666, -4.296999931335449, -4.299699783325195, -4.296999931335449, -4.299099922180176, -4.299300193786621, -4.296999931335449, -4.296999931335449, -3.629699945449829, -4.300099849700928, -4.296999931335449, -4.296999931335449, -4.296999931335449, -4.296999931335449, -4.296999931335449, -4.298600196838379, -4.298799991607666, -3.5634000301361084, -4.232500076293945, -4.232500076293945, -4.232500076293945, -4.232500076293945, -4.232500076293945, -4.232500076293945, -4.232500076293945, -4.232500076293945, -4.232500076293945, -4.232500076293945, -4.232500076293945, -4.232500076293945, -3.5634000301361084, -3.5634000301361084, -3.166100025177002, -4.232500076293945, -4.232500076293945, -4.232500076293945, -4.232500076293945, -4.232500076293945, -4.232500076293945, -4.232500076293945, -4.232500076293945, -3.166100025177002, -4.232500076293945, -4.232500076293945, -4.232500076293945, -4.232500076293945, -4.232500076293945, -3.5634000301361084, -3.5615999698638916, -4.230100154876709, -4.230599880218506, -4.230800151824951, -4.230899810791016, -4.230999946594238, -4.232500076293945, -4.232500076293945, -4.232500076293945, -4.232500076293945, -3.509500026702881, -3.5188000202178955, -3.5315001010894775, -4.176000118255615, -4.176000118255615, -4.176000118255615, -4.176000118255615, -4.176000118255615, -4.176000118255615, -4.176000118255615, -4.176000118255615, -4.176000118255615, -4.176000118255615, -4.176000118255615, -4.176000118255615, -3.51419997215271, -2.8297998905181885, -4.176000118255615, -3.118000030517578, -4.176000118255615, -4.176000118255615, -4.176000118255615, -4.176000118255615, -4.176000118255615, -4.176000118255615, -3.85260009765625, -3.2216999530792236, -4.176000118255615, -4.176000118255615, -3.506999969482422, -3.8545000553131104, -3.506999969482422, -3.978100061416626, -4.176000118255615, -4.176000118255615, -3.491300106048584, -3.491300106048584, -4.160399913787842, -4.160399913787842, -4.160399913787842, -4.160399913787842, -4.160399913787842, -4.160399913787842, -4.160399913787842, -4.160399913787842, -4.160399913787842, -4.160399913787842, -4.160399913787842, -4.160399913787842, -4.160399913787842, -3.491300106048584, -4.160399913787842, -3.491300106048584, -4.160399913787842, -4.160399913787842, -4.160399913787842, -4.160399913787842, -4.160399913787842, -4.160399913787842, -4.160399913787842, -4.160399913787842, -4.160399913787842, -4.160399913787842, -4.160399913787842, -4.160399913787842, -3.491300106048584, -3.491300106048584, -3.491300106048584, -4.160399913787842, -4.160399913787842, -4.160399913787842, -4.160399913787842, -3.998699903488159, -3.998699903488159, -3.998699903488159, -3.998699903488159, -3.998699903488159, -4.0015997886657715, -4.001699924468994, -4.002099990844727, -4.002600193023682, -4.002699851989746, -4.002799987792969, -4.0030999183654785, -4.003399848937988, -3.3296000957489014, -3.3296000957489014, -3.998699903488159, -3.998699903488159, -3.3296000957489014, -3.998699903488159, -3.998699903488159, -3.998699903488159, -3.998699903488159, -2.9347000122070312, -3.998699903488159, -3.998699903488159, -4.002999782562256, -3.998699903488159, -3.998699903488159, -3.998699903488159, -3.998699903488159, -3.3296000957489014, -3.998699903488159, -3.998699903488159, -4.002099990844727, -3.3129000663757324, -3.981300115585327, -3.981300115585327, -3.9821999073028564, -3.982599973678589, -3.982599973678589, -3.3132998943328857, -3.3136000633239746, -3.982800006866455, -3.981300115585327, -3.981300115585327, -3.983299970626831, -3.312299966812134, -3.981300115585327, -3.9828999042510986, -3.982800006866455, -3.981300115585327, -3.312299966812134, -3.313499927520752, -3.3131000995635986, -3.982800006866455, -3.981300115585327, -3.981300115585327, -3.9827001094818115, -3.9830000400543213, -3.9832000732421875, -3.3141000270843506, -3.981300115585327, -3.981300115585327, -3.981300115585327, -3.9828999042510986, -3.9279000759124756, -3.9279000759124756, -3.9279000759124756, -3.9279000759124756, -3.9279000759124756, -3.9279000759124756, -3.9279000759124756, -3.9279000759124756, -3.9279000759124756, -3.9279000759124756, -2.8643999099731445, -3.2588000297546387, -3.9279000759124756, -3.9279000759124756, -3.9279000759124756, -3.9279000759124756, -3.9279000759124756, -3.9279000759124756, -3.9279000759124756, -3.9279000759124756, -3.9279000759124756, -3.9279000759124756, -3.9279000759124756, -3.9279000759124756, -2.8615000247955322, -3.9279000759124756, -3.9279000759124756, -3.9279000759124756, -3.9279000759124756, -3.9279000759124756, -3.9279000759124756, -3.849299907684326, -3.849299907684326, -3.849299907684326, -3.849299907684326, -3.849299907684326, -3.849299907684326, -3.849299907684326, -3.849299907684326, -3.180299997329712, -3.849299907684326, -3.849299907684326, -3.849299907684326, -3.180299997329712, -3.849299907684326, -3.849299907684326, -3.849299907684326, -3.849299907684326, -3.849299907684326, -3.849299907684326, -3.849299907684326, -3.849299907684326, -3.849299907684326, -3.180299997329712, -3.849299907684326, -3.849299907684326, -3.849299907684326, -3.849299907684326, -3.849299907684326, -3.849299907684326, -6.893799781799316, -6.893799781799316, -6.893799781799316, -6.730899810791016, -3.117500066757202, -3.7864999771118164, -3.7864999771118164, -3.7864999771118164, -3.7864999771118164, -3.7864999771118164, -3.7864999771118164, -3.7864999771118164, -3.7864999771118164, -3.7864999771118164, -3.7864999771118164, -3.7864999771118164, -3.7864999771118164, -3.7864999771118164, -3.7864999771118164, -3.7864999771118164, -3.117500066757202, -3.7864999771118164, -3.7864999771118164, -3.7864999771118164, -3.7864999771118164, -3.7864999771118164, -3.7864999771118164, -3.7864999771118164, -3.7864999771118164, -3.7864999771118164, -3.7864999771118164, -6.831099987030029, -6.831099987030029, -6.831099987030029, -6.831099987030029, -6.668099880218506, -6.831099987030029, -6.831099987030029, -3.786400079727173, -3.786400079727173, -3.786400079727173, -3.786400079727173, -3.786400079727173, -3.786400079727173, -3.786400079727173, -3.786400079727173, -3.786400079727173, -3.786400079727173, -3.786400079727173, -3.786400079727173, -3.786400079727173, -3.786400079727173, -3.786400079727173, -3.786400079727173, -3.786400079727173, -3.786400079727173, -3.786400079727173, -3.786400079727173, -3.786400079727173, -3.786400079727173, -3.786400079727173, -3.786400079727173, -3.786400079727173, -3.786400079727173, -3.786400079727173, -3.786400079727173, -3.786400079727173, -6.830900192260742, -6.830900192260742, -6.830900192260742, -6.830900192260742, -6.830900192260742, -3.0415000915527344, -3.076200008392334, -3.7105000019073486, -3.7105000019073486, -3.7105000019073486, -3.7221999168395996, -3.724600076675415, -3.7248001098632812, -3.7249999046325684, -3.736599922180176, -3.73799991607666, -3.759399890899658, -3.771399974822998, -3.7105000019073486, -3.0415000915527344, -3.7509000301361084, -3.7246999740600586, -3.7105000019073486, -3.7105000019073486, -3.0457000732421875, -3.737499952316284, -3.7481000423431396, -6.755000114440918, -6.755000114440918, -6.755000114440918, -6.755000114440918, -6.755000114440918, -6.755000114440918, -6.755000114440918, -6.755000114440918, -6.755000114440918, -6.755000114440918, -6.755000114440918, -6.755000114440918, -6.561600208282471, -6.495699882507324, -6.657700061798096, -6.582699775695801, -6.666100025177002, -6.755000114440918, -6.755000114440918, -6.755000114440918, -2.850100040435791, -3.5148000717163086, -3.5148000717163086, -3.5148000717163086, -3.5148000717163086, -3.5148000717163086, -3.5148000717163086, -3.5148000717163086, -3.5148000717163086, -3.5148000717163086, -3.5148000717163086, -3.5148000717163086, -3.5148000717163086, -3.5148000717163086, -3.5148000717163086, -3.5148000717163086, -3.5148000717163086, -6.5594000816345215, -6.5594000816345215, -6.5594000816345215, -6.5594000816345215, -6.5594000816345215, -6.5594000816345215, -6.5594000816345215, -6.5594000816345215, -6.5594000816345215, -6.5594000816345215, -6.5594000816345215, -6.5594000816345215, -6.5594000816345215, -6.5594000816345215, -6.5594000816345215, -6.5594000816345215, -6.5594000816345215, -6.5594000816345215, -6.5594000816345215, -6.5594000816345215, -6.5594000816345215, -6.5594000816345215, -6.5594000816345215, -6.5594000816345215, -6.5594000816345215, -6.5594000816345215, -6.5594000816345215, -6.5594000816345215, -3.5151000022888184, -3.5151000022888184, -3.5151000022888184, -3.5151000022888184, -3.5151000022888184, -3.5151000022888184, -3.5151000022888184, -3.5151000022888184, -3.5151000022888184, -3.5151000022888184, -3.5151000022888184, -3.5151000022888184, -3.5151000022888184, -3.5151000022888184, -3.5151000022888184, -3.5151000022888184, -3.5151000022888184, -3.5151000022888184, -6.559599876403809, -6.559599876403809, -6.559599876403809, -6.559599876403809, -6.559599876403809, -6.559599876403809, -6.559599876403809, -6.559599876403809, -6.559599876403809, -6.559599876403809, -6.559599876403809, -6.559599876403809, -6.559599876403809, -6.559599876403809, -6.559599876403809, -6.559599876403809, -6.559599876403809, -6.559599876403809, -6.559599876403809, -6.559599876403809, -6.559599876403809, -6.559599876403809, -6.559599876403809, -6.559599876403809, -2.728100061416626, -3.3970999717712402, -3.3970999717712402, -3.3970999717712402, -3.3970999717712402, -3.3970999717712402, -3.3970999717712402, -3.3970999717712402, -3.3970999717712402, -3.3970999717712402, -3.3970999717712402, -3.3970999717712402, -3.3970999717712402, -6.4415998458862305, -6.4415998458862305, -6.4415998458862305, -6.4415998458862305, -6.4415998458862305, -6.4415998458862305, -6.4415998458862305, -6.4415998458862305, -6.4415998458862305, -6.4415998458862305, -6.4415998458862305, -6.4415998458862305, -6.4415998458862305, -6.4415998458862305, -6.4415998458862305, -6.4415998458862305, -6.4415998458862305, -6.4415998458862305, -6.4415998458862305, -6.4415998458862305, -6.4415998458862305, -6.4415998458862305, -6.4415998458862305, -6.399799823760986, -6.229899883270264, -6.327499866485596, -6.336599826812744, -6.320000171661377, -6.3155999183654785, -6.391600131988525, -6.392300128936768, -6.386099815368652, -6.378499984741211, -6.393400192260742, -6.372000217437744, -6.3979997634887695, -6.404600143432617, -6.391900062561035, -6.3983001708984375, -6.41349983215332, -6.401599884033203, -6.4039998054504395, -3.3968000411987305, -3.3968000411987305, -3.3968000411987305, -3.3968000411987305, -3.3968000411987305, -3.3968000411987305, -3.3968000411987305, -3.3968000411987305, -3.3968000411987305, -3.3942999839782715, -3.3968000411987305, -3.3968000411987305, -3.3968000411987305, -3.3968000411987305, -6.441299915313721, -6.441299915313721, -6.441299915313721, -6.441299915313721, -6.441299915313721, -6.441299915313721, -6.441299915313721, -6.441299915313721, -6.441299915313721, -6.441299915313721, -6.441299915313721, -6.441299915313721, -6.441299915313721, -6.441299915313721, -6.441299915313721, -6.441299915313721, -6.441299915313721, -6.441299915313721, -6.441299915313721, -6.396299839019775, -6.396999835968018, -6.398799896240234, -6.333799839019775, -6.25540018081665, -6.270599842071533, -6.398799896240234, -6.398499965667725, -6.362400054931641, -6.390999794006348, -6.349999904632568, -6.38640022277832, -6.3491997718811035, -6.389999866485596, -6.441299915313721, -6.441299915313721, -3.2207999229431152, -3.2207999229431152, -3.2207999229431152, -3.2207999229431152, -3.2207999229431152, -3.2207999229431152, -3.2207999229431152, -3.2207999229431152, -3.2207999229431152, -6.2652997970581055, -6.2652997970581055, -6.2652997970581055, -6.2652997970581055, -6.2652997970581055, -6.2652997970581055, -6.2652997970581055, -6.2652997970581055, -6.2652997970581055, -6.2652997970581055, -6.2652997970581055, -6.2652997970581055, -6.2652997970581055, -6.2652997970581055, -6.2652997970581055, -6.2652997970581055, -6.2652997970581055, -6.2652997970581055, -6.2652997970581055, -6.2652997970581055, -6.2652997970581055, -6.2652997970581055, -6.2652997970581055, -6.2652997970581055, -6.2652997970581055, -6.2652997970581055, -6.2652997970581055, -6.2652997970581055, -6.2652997970581055, -6.2652997970581055, -6.2652997970581055, -6.2652997970581055, -6.2652997970581055, -6.2652997970581055, -6.2652997970581055, -6.2652997970581055, -6.2652997970581055, -6.2652997970581055, -6.2652997970581055, -6.2652997970581055, -6.2652997970581055, -6.2652997970581055, -6.2652997970581055, -6.2652997970581055, -6.2652997970581055, -6.2652997970581055, -6.2652997970581055, -5.846399784088135, -5.846399784088135, -5.846399784088135, -5.846399784088135, -5.846399784088135, -5.846399784088135, -5.846399784088135, -5.846399784088135, -5.846399784088135, -5.846399784088135, -5.846399784088135, -5.846399784088135, -5.846399784088135, -5.846399784088135, -5.846399784088135, -5.846399784088135, -5.846399784088135, -5.846399784088135, -5.846399784088135, -5.846399784088135, -5.846399784088135, -5.846399784088135, -5.846399784088135, -5.846399784088135, -5.846399784088135, -5.846399784088135, -5.846399784088135, -5.846399784088135, -5.846399784088135, -5.846399784088135, -5.846399784088135, -5.846399784088135, -5.846399784088135, -5.846399784088135, -5.846399784088135, -5.846399784088135, -5.846399784088135, -5.846399784088135, -5.846399784088135, -5.846399784088135, -5.846399784088135, -5.846399784088135, -5.846399784088135, -5.846399784088135, -5.846399784088135, -5.846399784088135, -5.846399784088135, -5.846399784088135, -5.846399784088135, -5.846399784088135, -5.846399784088135, -5.846399784088135, -5.846399784088135, -5.846399784088135, -5.846399784088135]}, \"token.table\": {\"Topic\": [3, 6, 1, 2, 1, 3, 7, 1, 13, 2, 11, 14, 8, 9, 11, 1, 11, 12, 12, 12, 1, 11, 5, 17, 13, 7, 3, 1, 12, 2, 6, 13, 17, 17, 11, 9, 4, 9, 12, 16, 10, 13, 1, 13, 2, 1, 4, 18, 1, 5, 8, 8, 15, 6, 10, 1, 3, 4, 7, 2, 2, 17, 10, 14, 13, 10, 17, 2, 2, 9, 13, 12, 6, 17, 16, 15, 4, 1, 16, 3, 5, 1, 1, 2, 4, 1, 3, 4, 9, 9, 10, 13, 2, 3, 2, 9, 1, 2, 5, 7, 10, 14, 17, 12, 3, 7, 3, 5, 5, 1, 17, 5, 5, 5, 10, 3, 6, 7, 10, 15, 4, 5, 1, 3, 1, 7, 15, 15, 1, 1, 3, 12, 7, 11, 4, 8, 4, 9, 11, 1, 3, 14, 1, 4, 10, 4, 8, 16, 10, 13, 1, 5, 8, 2, 3, 7, 9, 11, 18, 4, 8, 1, 2, 7, 11, 16, 2, 2, 10, 1, 9, 1, 7, 1, 3, 4, 5, 6, 2, 1, 2, 4, 9, 11, 14, 6, 13, 3, 7, 6, 1, 8, 12, 6, 3, 9, 8, 3, 6, 9, 14, 5, 7, 2, 13, 4, 7, 14, 1, 1, 10, 2, 8, 13, 17, 4, 9, 11, 6, 6, 1, 4, 8, 9, 11, 1, 18, 7, 3, 5, 10, 15, 5, 6, 1, 6, 10, 12, 14, 1, 2, 4, 5, 9, 11, 1, 7, 8, 9, 2, 5, 7, 17, 3, 5, 6, 18, 1, 3, 4, 6, 9, 18, 14, 8, 6, 8, 12, 1, 5, 2, 4, 9, 11, 5, 4, 6, 9, 6, 7, 12, 16, 18, 7, 1, 4, 5, 6, 7, 1, 2, 4, 5, 6, 8, 9, 8, 11, 16, 2, 11, 18, 18, 10, 3, 5, 6, 7, 12, 15, 7, 14, 2, 6, 9, 15, 2, 17, 1, 4, 7, 7, 4, 5, 2, 13, 10, 7, 5, 12, 3, 1, 3, 8, 1, 10, 3, 1, 1, 3, 13, 1, 7, 8, 9, 6, 3, 4, 8, 2, 10, 3, 15, 7, 10, 15, 3, 13, 8, 11, 16, 4, 5, 7, 12, 14, 1, 4, 8, 9, 11, 16, 6, 3, 5, 16, 7, 17, 3, 12, 1, 1, 9, 2, 13, 12, 3, 11, 14, 2, 1, 14, 1, 6, 7, 12, 1, 5, 8, 1, 2, 8, 1, 5, 13, 5, 13, 1, 1, 5, 8, 13, 3, 7, 2, 1, 18, 6, 5, 1, 2, 4, 5, 6, 8, 9, 10, 11, 13, 3, 7, 11, 11, 15, 1, 3, 7, 18, 1, 5, 12, 18, 14, 12, 3, 8, 2, 2, 16, 16, 1, 3, 11, 1, 8, 13, 7, 1, 2, 8, 2, 10, 13, 11, 8, 1, 4, 11, 13, 13, 1, 5, 6, 7, 9, 16, 18, 1, 2, 3, 4, 5, 11, 16, 8, 15, 7, 12, 5, 5, 10, 14, 12, 13, 1, 3, 10, 11, 13, 2, 3, 5, 10, 1, 3, 1, 5, 7, 8, 10, 11, 3, 7, 16, 3, 6, 4, 5, 8, 13, 16, 6, 15, 2, 11, 4, 5, 3, 1, 4, 9, 10, 16, 7, 3, 4, 16, 2, 6, 1, 1, 6, 12, 1, 4, 15, 2, 3, 2, 12, 6, 7, 14, 1, 6, 5, 9, 10, 14, 1, 8, 18, 2, 4, 5, 5, 8, 14, 10, 3, 9, 10, 15, 3, 7, 1, 7, 12, 18, 14, 1, 3, 1, 6, 13, 14, 1, 3, 10, 12, 17, 10, 14, 14, 12, 13, 15, 2, 3, 4, 5, 6, 7, 9, 15], \"Freq\": [0.7206972241401672, 0.7298424243927002, 0.6734277606010437, 0.7062118649482727, 0.6434362530708313, 0.32171812653541565, 0.7313820123672485, 0.475517600774765, 0.475517600774765, 0.4861013889312744, 0.4861013889312744, 0.8012092709541321, 0.37600770592689514, 0.37600770592689514, 0.37600770592689514, 0.4703403115272522, 0.4703403115272522, 0.7982240915298462, 0.7982242703437805, 0.7982240915298462, 0.6734274625778198, 0.7900441288948059, 0.5358508825302124, 0.5358508825302124, 0.8047612309455872, 0.7313819527626038, 0.7206987142562866, 0.673427164554596, 0.7982242703437805, 0.35976117849349976, 0.35976117849349976, 0.35976117849349976, 0.9043413400650024, 0.9043413400650024, 0.7900441288948059, 0.7534347176551819, 0.3664761483669281, 0.3664761483669281, 0.3664761483669281, 0.8779158592224121, 0.5203081369400024, 0.5203081369400024, 0.47551751136779785, 0.47551751136779785, 0.7062119841575623, 0.5556073188781738, 0.2778036594390869, 0.2778036594390869, 0.27565711736679077, 0.27565711736679077, 0.27565711736679077, 0.760030210018158, 0.8758922219276428, 0.48792558908462524, 0.48792558908462524, 0.5152092576026917, 0.2576046288013458, 0.2576046288013458, 0.7313819527626038, 0.7062119245529175, 0.7062121033668518, 0.6301249265670776, 0.5178473591804504, 0.5178473591804504, 0.8047613501548767, 0.7669256925582886, 0.9043413400650024, 0.7062118649482727, 0.5869718194007874, 0.19565726816654205, 0.19565726816654205, 0.7982240915298462, 0.7298422455787659, 0.9043412804603577, 0.877916157245636, 0.8758922219276428, 0.7152155041694641, 0.5002453327178955, 0.5002453327178955, 0.46555855870246887, 0.46555855870246887, 0.6734273433685303, 0.25750622153282166, 0.25750622153282166, 0.25750622153282166, 0.4758276045322418, 0.15860921144485474, 0.15860921144485474, 0.15860921144485474, 0.49835580587387085, 0.49835580587387085, 0.8047618865966797, 0.4590802490711212, 0.4590802490711212, 0.7062119841575623, 0.7534482479095459, 0.12481763958930969, 0.24963527917861938, 0.24963527917861938, 0.12481763958930969, 0.12481763958930969, 0.12481763958930969, 0.9043412804603577, 0.7982242703437805, 0.6912679672241211, 0.34563398361206055, 0.7206974029541016, 0.7220286726951599, 0.7220286726951599, 0.6734273433685303, 0.904341459274292, 0.7220287322998047, 0.7220286726951599, 0.7220286726951599, 0.7669259309768677, 0.17972220480442047, 0.35944440960884094, 0.17972220480442047, 0.17972220480442047, 0.17972220480442047, 0.9208942651748657, 0.7220286726951599, 0.3321792483329773, 0.6643584966659546, 0.36436471343040466, 0.36436471343040466, 0.36436471343040466, 0.8758921027183533, 0.6734271049499512, 0.673427164554596, 0.7197514772415161, 0.35987573862075806, 0.7313819527626038, 0.7900440692901611, 0.680532693862915, 0.22684423625469208, 0.2903014123439789, 0.2903014123439789, 0.2903014123439789, 0.6734272837638855, 0.9300019145011902, 0.8021783232688904, 0.5435704588890076, 0.1811901479959488, 0.1811901479959488, 0.6093975305557251, 0.2031325101852417, 0.2031325101852417, 0.520308256149292, 0.520308256149292, 0.6734273433685303, 0.7220286726951599, 0.760061502456665, 0.18149147927761078, 0.36298295855522156, 0.18149147927761078, 0.18149147927761078, 0.18149147927761078, 0.18149147927761078, 0.6987564563751221, 0.34937822818756104, 0.239535853266716, 0.239535853266716, 0.239535853266716, 0.239535853266716, 0.239535853266716, 0.7062118649482727, 0.7065682411193848, 0.7669259309768677, 0.6561805009841919, 0.32809025049209595, 0.673427164554596, 0.7313820123672485, 0.2578153610229492, 0.2578153610229492, 0.2578153610229492, 0.1289076805114746, 0.1289076805114746, 0.7062121033668518, 0.17038631439208984, 0.17038631439208984, 0.3407726287841797, 0.17038631439208984, 0.17038631439208984, 0.798223078250885, 0.729842483997345, 0.8047613501548767, 0.4694298803806305, 0.4694298803806305, 0.7298424243927002, 0.35665902495384216, 0.35665902495384216, 0.35665902495384216, 0.4719456434249878, 0.7206974029541016, 0.753433883190155, 0.7600541114807129, 0.2891960144042969, 0.2891960144042969, 0.2891960144042969, 0.2891960144042969, 0.46999379992485046, 0.46999379992485046, 0.4916335642337799, 0.4916335642337799, 0.3468797206878662, 0.6937594413757324, 0.8021783828735352, 0.6734277009963989, 0.6612778306007385, 0.33063891530036926, 0.45620667934417725, 0.22810333967208862, 0.8047618269920349, 0.9043408632278442, 0.29036906361579895, 0.29036906361579895, 0.29036906361579895, 0.9440521001815796, 0.7298424243927002, 0.17898188531398773, 0.44745469093322754, 0.17898188531398773, 0.08949094265699387, 0.08949094265699387, 0.5085664391517639, 0.5085664391517639, 0.7313820719718933, 0.7206972241401672, 0.30667486786842346, 0.30667486786842346, 0.30667486786842346, 0.39773842692375183, 0.39773842692375183, 0.22975601255893707, 0.22975601255893707, 0.22975601255893707, 0.22975601255893707, 0.6134033799171448, 0.16818778216838837, 0.33637556433677673, 0.16818778216838837, 0.16818778216838837, 0.16818778216838837, 0.16818778216838837, 0.5615662336349487, 0.1871887445449829, 0.1871887445449829, 0.1871887445449829, 0.4773256182670593, 0.23866280913352966, 0.23866280913352966, 0.23866280913352966, 0.48333680629730225, 0.24166840314865112, 0.24166840314865112, 0.24166840314865112, 0.1734536737203598, 0.1734536737203598, 0.1734536737203598, 0.1734536737203598, 0.1734536737203598, 0.1734536737203598, 0.7972825169563293, 0.760030210018158, 0.7298423647880554, 0.760030210018158, 0.7982240915298462, 0.8527573347091675, 0.7220285534858704, 0.2830072343349457, 0.2830072343349457, 0.2830072343349457, 0.2830072343349457, 0.7220286726951599, 0.46646878123283386, 0.46646878123283386, 0.753479540348053, 0.5021491050720215, 0.16738303005695343, 0.16738303005695343, 0.16738303005695343, 0.16738303005695343, 0.7313819527626038, 0.5032567977905273, 0.12581419944763184, 0.12581419944763184, 0.12581419944763184, 0.12581419944763184, 0.13516981899738312, 0.13516981899738312, 0.13516981899738312, 0.13516981899738312, 0.27033963799476624, 0.13516981899738312, 0.13516981899738312, 0.40462812781333923, 0.40462812781333923, 0.40462812781333923, 0.41965919733047485, 0.20982959866523743, 0.20982959866523743, 0.9042044878005981, 0.7669256925582886, 0.23313939571380615, 0.11656969785690308, 0.23313939571380615, 0.23313939571380615, 0.11656969785690308, 0.11656969785690308, 0.731381893157959, 0.800982654094696, 0.6754439473152161, 0.33772197365760803, 0.4926441013813019, 0.8758921027183533, 0.7062118649482727, 0.9043411612510681, 0.33319634199142456, 0.33319634199142456, 0.33319634199142456, 0.7313820123672485, 0.46326470375061035, 0.46326470375061035, 0.7062118053436279, 0.8047612309455872, 0.7669257521629333, 0.7313820123672485, 0.7220286130905151, 0.7982246279716492, 0.7206987142562866, 0.43835964798927307, 0.43835964798927307, 0.21917982399463654, 0.6734344959259033, 0.7669256925582886, 0.720697283744812, 0.6734277606010437, 0.44486021995544434, 0.44486021995544434, 0.8047618269920349, 0.6298230290412903, 0.20994101464748383, 0.10497050732374191, 0.10497050732374191, 0.7298424243927002, 0.7206997871398926, 0.7155348658561707, 0.7600507736206055, 0.47740307450294495, 0.47740307450294495, 0.7206972241401672, 0.8758922815322876, 0.9478725790977478, 0.766925573348999, 0.8758921027183533, 0.930002748966217, 0.8047614693641663, 0.40462812781333923, 0.40462812781333923, 0.40462812781333923, 0.20904852449893951, 0.20904852449893951, 0.20904852449893951, 0.20904852449893951, 0.20904852449893951, 0.13670851290225983, 0.4101255536079407, 0.13670851290225983, 0.13670851290225983, 0.13670851290225983, 0.8779157400131226, 0.9455757141113281, 0.7206972241401672, 0.7519077658653259, 0.37595388293266296, 0.5409854054450989, 0.5409854054450989, 0.720697283744812, 0.7982246279716492, 0.9358242154121399, 0.4571336507797241, 0.4571336507797241, 0.4916336238384247, 0.4916336238384247, 0.7982246279716492, 0.7206977605819702, 0.7900441288948059, 0.8000419735908508, 0.7062119841575623, 0.6734273433685303, 0.7999250888824463, 0.673616886138916, 0.36482131481170654, 0.36482131481170654, 0.36482131481170654, 0.41053131222724915, 0.20526565611362457, 0.20526565611362457, 0.6734273433685303, 0.706562340259552, 0.7600632905960083, 0.34923696517944336, 0.34923696517944336, 0.34923696517944336, 0.49924683570861816, 0.49924683570861816, 0.8527551889419556, 0.3326922059059143, 0.6653844118118286, 0.760029137134552, 0.8047612309455872, 0.46942925453186035, 0.46942925453186035, 0.7062118649482727, 0.42559850215911865, 0.42559850215911865, 0.7298422455787659, 0.7220286726951599, 0.0721350610256195, 0.288540244102478, 0.0721350610256195, 0.0721350610256195, 0.144270122051239, 0.0721350610256195, 0.0721350610256195, 0.144270122051239, 0.0721350610256195, 0.0721350610256195, 0.2930309474468231, 0.2930309474468231, 0.2930309474468231, 0.7900441288948059, 0.8758922815322876, 0.2593849003314972, 0.2593849003314972, 0.2593849003314972, 0.2593849003314972, 0.348000168800354, 0.348000168800354, 0.348000168800354, 0.9042046070098877, 0.5351472496986389, 0.7982240319252014, 0.7206971049308777, 0.7600573897361755, 0.7062119245529175, 0.7062121629714966, 0.8779157400131226, 0.8779158592224121, 0.44485706090927124, 0.44485706090927124, 0.7900441288948059, 0.673427164554596, 0.7600589394569397, 0.8047612905502319, 0.7313819527626038, 0.5418161749839783, 0.18060538172721863, 0.18060538172721863, 0.7065473794937134, 0.5203081965446472, 0.5203081965446472, 0.7900440692901611, 0.7600292563438416, 0.852851390838623, 0.4903503656387329, 0.4903503656387329, 0.8047613501548767, 0.8047613501548767, 0.38189277052879333, 0.12729759514331818, 0.12729759514331818, 0.12729759514331818, 0.12729759514331818, 0.12729759514331818, 0.12729759514331818, 0.09741760045289993, 0.2922528088092804, 0.19483520090579987, 0.09741760045289993, 0.19483520090579987, 0.09741760045289993, 0.09741760045289993, 0.7600500583648682, 0.8758921027183533, 0.7313819527626038, 0.5316332578659058, 0.7220286726951599, 0.5802518725395203, 0.29012593626976013, 0.29012593626976013, 0.7982240915298462, 0.8047618269920349, 0.39628666639328003, 0.19814333319664001, 0.19814333319664001, 0.19814333319664001, 0.19814333319664001, 0.19459950923919678, 0.19459950923919678, 0.38919901847839355, 0.19459950923919678, 0.44485709071159363, 0.44485709071159363, 0.20001070201396942, 0.20001070201396942, 0.20001070201396942, 0.20001070201396942, 0.20001070201396942, 0.20001070201396942, 0.4818772077560425, 0.4818772077560425, 0.24093860387802124, 0.9300033450126648, 0.7298424243927002, 0.47610580921173096, 0.15870194137096405, 0.15870194137096405, 0.15870194137096405, 0.15870194137096405, 0.5298634171485901, 0.5298634171485901, 0.7062119841575623, 0.7900450229644775, 0.4632645845413208, 0.4632645845413208, 0.7206976413726807, 0.2747432589530945, 0.2747432589530945, 0.2747432589530945, 0.2747432589530945, 0.8779156804084778, 0.9478725790977478, 0.7206972241401672, 0.7152153253555298, 0.8779157400131226, 0.7062118649482727, 0.7298423647880554, 0.6734277009963989, 0.33621564507484436, 0.6724312901496887, 0.7982240915298462, 0.641355574131012, 0.320677787065506, 0.602441132068634, 0.7062119841575623, 0.7206972241401672, 0.7062191963195801, 0.7982240915298462, 0.29789116978645325, 0.29789116978645325, 0.29789116978645325, 0.6734272837638855, 0.7298422455787659, 0.2104944884777069, 0.2104944884777069, 0.4209889769554138, 0.2104944884777069, 0.6734272241592407, 0.7600581049919128, 0.9042044878005981, 0.3390720784664154, 0.3390720784664154, 0.3390720784664154, 0.37036988139152527, 0.37036988139152527, 0.37036988139152527, 0.7669256925582886, 0.7207135558128357, 0.7534796595573425, 0.766925573348999, 0.8758922219276428, 0.7206972241401672, 0.7313821315765381, 0.2996847927570343, 0.2996847927570343, 0.2996847927570343, 0.2996847927570343, 0.8009995818138123, 0.6434362530708313, 0.32171812653541565, 0.6734272837638855, 0.7298422455787659, 0.8047613501548767, 0.8021783232688904, 0.24772977828979492, 0.24772977828979492, 0.24772977828979492, 0.24772977828979492, 0.24772977828979492, 0.766925573348999, 0.532684326171875, 0.8010172843933105, 0.41877254843711853, 0.41877254843711853, 0.41877254843711853, 0.33922311663627625, 0.08480577915906906, 0.08480577915906906, 0.16961155831813812, 0.08480577915906906, 0.16961155831813812, 0.08480577915906906, 0.08480577915906906], \"Term\": [\"ability\", \"absorb\", \"account\", \"accounting\", \"accrual\", \"accrual\", \"active\", \"addition\", \"addition\", \"additional\", \"additional\", \"additionally\", \"adjust\", \"adjust\", \"adjust\", \"adjusted\", \"adjusted\", \"adopt\", \"adoption\", \"agency\", \"allocation\", \"allow\", \"also\", \"also\", \"announce\", \"annual\", \"answer\", \"appointment\", \"approach\", \"approximately\", \"approximately\", \"approximately\", \"area\", \"array\", \"ask\", \"associate\", \"assume\", \"assume\", \"assume\", \"attributable\", \"authorization\", \"authorization\", \"average\", \"average\", \"balance\", \"base\", \"base\", \"base\", \"basis\", \"basis\", \"basis\", \"be\", \"bear\", \"believe\", \"believe\", \"benefit\", \"benefit\", \"benefit\", \"box\", \"build\", \"burn\", \"business\", \"buy\", \"buy\", \"buyback\", \"buying\", \"call\", \"capital\", \"cash\", \"cash\", \"cash\", \"change\", \"choose\", \"cite\", \"clarify\", \"close\", \"collection\", \"combine\", \"combine\", \"company\", \"company\", \"comparable\", \"compare\", \"compare\", \"compare\", \"compensation\", \"compensation\", \"compensation\", \"compensation\", \"complete\", \"complete\", \"consequently\", \"consistent\", \"consistent\", \"consolidated\", \"consolidation\", \"consumable\", \"consumable\", \"consumable\", \"consumable\", \"consumable\", \"consumable\", \"consumer\", \"continue\", \"contract\", \"contract\", \"contribute\", \"contribution\", \"correlate\", \"count\", \"couple\", \"create\", \"currency\", \"current\", \"currently\", \"customer\", \"customer\", \"customer\", \"customer\", \"customer\", \"day\", \"decelerate\", \"decline\", \"decline\", \"decommission\", \"decommission\", \"decommission\", \"decommissioning\", \"decrease\", \"departure\", \"depend\", \"depend\", \"depress\", \"development\", \"diluted\", \"diluted\", \"dilution\", \"dilution\", \"dilution\", \"discuss\", \"dozen\", \"drive\", \"due\", \"due\", \"due\", \"earning\", \"earning\", \"earning\", \"effect\", \"effect\", \"effective\", \"elasticity\", \"encourage\", \"end\", \"end\", \"end\", \"end\", \"end\", \"end\", \"ep\", \"ep\", \"equal\", \"equal\", \"equal\", \"equal\", \"equal\", \"equipment\", \"estimate\", \"evaluate\", \"exclude\", \"exclude\", \"executive\", \"exist\", \"expect\", \"expect\", \"expect\", \"expect\", \"expect\", \"expenditure\", \"expense\", \"expense\", \"expense\", \"expense\", \"expense\", \"experiment\", \"extent\", \"extrapolate\", \"factor\", \"factor\", \"fairly\", \"family\", \"family\", \"family\", \"few\", \"finally\", \"financial\", \"find\", \"first\", \"first\", \"first\", \"first\", \"flat\", \"flat\", \"flow\", \"flow\", \"forecast\", \"forecast\", \"foremost\", \"forget\", \"forward\", \"forward\", \"fourth\", \"fourth\", \"free\", \"fuel\", \"full\", \"full\", \"full\", \"fully\", \"future\", \"gaap\", \"gaap\", \"gaap\", \"gaap\", \"gaap\", \"gain\", \"gain\", \"generate\", \"genotype\", \"get\", \"get\", \"get\", \"give\", \"give\", \"go\", \"go\", \"go\", \"go\", \"good\", \"grail\", \"grail\", \"grail\", \"grail\", \"grail\", \"grail\", \"gross\", \"gross\", \"gross\", \"gross\", \"grow\", \"grow\", \"grow\", \"grow\", \"growth\", \"growth\", \"growth\", \"growth\", \"guidance\", \"guidance\", \"guidance\", \"guidance\", \"guidance\", \"guidance\", \"hand\", \"handle\", \"happen\", \"happy\", \"have\", \"head\", \"headwind\", \"helix\", \"helix\", \"helix\", \"helix\", \"hence\", \"high\", \"high\", \"highlight\", \"hiseq\", \"hiseq\", \"hiseq\", \"hiseq\", \"hiseq\", \"historically\", \"impact\", \"impact\", \"impact\", \"impact\", \"impact\", \"include\", \"include\", \"include\", \"include\", \"include\", \"include\", \"include\", \"income\", \"income\", \"income\", \"increase\", \"increase\", \"increase\", \"instal\", \"instead\", \"instrument\", \"instrument\", \"instrument\", \"instrument\", \"instrument\", \"instrument\", \"introduction\", \"inventory\", \"investment\", \"investment\", \"item\", \"lag\", \"landlord\", \"largely\", \"last\", \"last\", \"last\", \"later\", \"lead\", \"lead\", \"lease\", \"leave\", \"left\", \"legacy\", \"less\", \"line\", \"lot\", \"low\", \"low\", \"low\", \"lower\", \"lumpiness\", \"maintenance\", \"make\", \"manufacture\", \"manufacture\", \"manufacturing\", \"margin\", \"margin\", \"margin\", \"margin\", \"marginal\", \"may\", \"meaningful\", \"measure\", \"mention\", \"mention\", \"migrate\", \"mind\", \"miniseq\", \"month\", \"mostly\", \"move\", \"necessarily\", \"net\", \"net\", \"net\", \"new\", \"new\", \"new\", \"new\", \"new\", \"non\", \"non\", \"non\", \"non\", \"non\", \"note\", \"novaseq\", \"novaseqs\", \"number\", \"number\", \"obviously\", \"obviously\", \"offset\", \"open\", \"operate\", \"operating\", \"operating\", \"operation\", \"operation\", \"operator\", \"overall\", \"participation\", \"pause\", \"pay\", \"period\", \"place\", \"plan\", \"platform\", \"platform\", \"platform\", \"point\", \"point\", \"point\", \"potential\", \"preliminary\", \"presentation\", \"previously\", \"previously\", \"previously\", \"price\", \"price\", \"primarily\", \"prior\", \"prior\", \"product\", \"program\", \"project\", \"project\", \"property\", \"pull\", \"pull\", \"purchase\", \"put\", \"quarter\", \"quarter\", \"quarter\", \"quarter\", \"quarter\", \"quarter\", \"quarter\", \"quarter\", \"quarter\", \"quarter\", \"question\", \"question\", \"question\", \"queue\", \"ramp\", \"range\", \"range\", \"range\", \"range\", \"rate\", \"rate\", \"rate\", \"reach\", \"really\", \"reason\", \"recognize\", \"reconciliation\", \"record\", \"reduced\", \"refer\", \"reference\", \"reflect\", \"reflect\", \"rejoin\", \"relate\", \"release\", \"remain\", \"renew\", \"report\", \"report\", \"report\", \"represent\", \"repurchase\", \"repurchase\", \"research\", \"reserve\", \"respective\", \"respectively\", \"respectively\", \"restock\", \"restocking\", \"result\", \"result\", \"result\", \"result\", \"result\", \"result\", \"result\", \"revenue\", \"revenue\", \"revenue\", \"revenue\", \"revenue\", \"revenue\", \"revenue\", \"review\", \"rollout\", \"roughly\", \"s\", \"sale\", \"sample\", \"sample\", \"sample\", \"say\", \"scale\", \"see\", \"see\", \"see\", \"see\", \"see\", \"sequence\", \"sequence\", \"sequence\", \"sequence\", \"sequential\", \"sequential\", \"sequentially\", \"sequentially\", \"sequentially\", \"sequentially\", \"sequentially\", \"sequentially\", \"service\", \"service\", \"service\", \"session\", \"several\", \"share\", \"share\", \"share\", \"share\", \"share\", \"ship\", \"ship\", \"short\", \"sight\", \"slightly\", \"slightly\", \"start\", \"stock\", \"stock\", \"stock\", \"stock\", \"stockholder\", \"stop\", \"strength\", \"strong\", \"subsequent\", \"suit\", \"support\", \"sure\", \"take\", \"take\", \"talk\", \"tax\", \"tax\", \"tend\", \"term\", \"testing\", \"thank\", \"there\", \"think\", \"think\", \"think\", \"third\", \"throughput\", \"time\", \"time\", \"time\", \"time\", \"timing\", \"today\", \"top\", \"total\", \"total\", \"total\", \"transition\", \"transition\", \"transition\", \"translate\", \"treatment\", \"turn\", \"ultimately\", \"update\", \"upper\", \"use\", \"utilization\", \"utilization\", \"utilization\", \"utilization\", \"validate\", \"variable\", \"variable\", \"volatility\", \"wait\", \"want\", \"way\", \"well\", \"well\", \"well\", \"well\", \"well\", \"will\", \"work\", \"workflow\", \"would\", \"would\", \"would\", \"year\", \"year\", \"year\", \"year\", \"year\", \"year\", \"year\", \"year\"]}, \"R\": 30, \"lambda.step\": 0.01, \"plot.opts\": {\"xlab\": \"PC1\", \"ylab\": \"PC2\"}, \"topic.order\": [11, 19, 15, 1, 5, 4, 13, 9, 14, 17, 3, 12, 8, 2, 18, 20, 7, 10, 16, 6]};\n",
       "\n",
       "function LDAvis_load_lib(url, callback){\n",
       "  var s = document.createElement('script');\n",
       "  s.src = url;\n",
       "  s.async = true;\n",
       "  s.onreadystatechange = s.onload = callback;\n",
       "  s.onerror = function(){console.warn(\"failed to load library \" + url);};\n",
       "  document.getElementsByTagName(\"head\")[0].appendChild(s);\n",
       "}\n",
       "\n",
       "if(typeof(LDAvis) !== \"undefined\"){\n",
       "   // already loaded: just create the visualization\n",
       "   !function(LDAvis){\n",
       "       new LDAvis(\"#\" + \"ldavis_el100554842759201491878220\", ldavis_el100554842759201491878220_data);\n",
       "   }(LDAvis);\n",
       "}else if(typeof define === \"function\" && define.amd){\n",
       "   // require.js is available: use it to load d3/LDAvis\n",
       "   require.config({paths: {d3: \"https://cdnjs.cloudflare.com/ajax/libs/d3/3.5.5/d3.min\"}});\n",
       "   require([\"d3\"], function(d3){\n",
       "      window.d3 = d3;\n",
       "      LDAvis_load_lib(\"https://cdn.rawgit.com/bmabey/pyLDAvis/files/ldavis.v1.0.0.js\", function(){\n",
       "        new LDAvis(\"#\" + \"ldavis_el100554842759201491878220\", ldavis_el100554842759201491878220_data);\n",
       "      });\n",
       "    });\n",
       "}else{\n",
       "    // require.js not available: dynamically load d3 & LDAvis\n",
       "    LDAvis_load_lib(\"https://cdnjs.cloudflare.com/ajax/libs/d3/3.5.5/d3.min.js\", function(){\n",
       "         LDAvis_load_lib(\"https://cdn.rawgit.com/bmabey/pyLDAvis/files/ldavis.v1.0.0.js\", function(){\n",
       "                 new LDAvis(\"#\" + \"ldavis_el100554842759201491878220\", ldavis_el100554842759201491878220_data);\n",
       "            })\n",
       "         });\n",
       "}\n",
       "</script>"
      ],
      "text/plain": [
       "PreparedData(topic_coordinates=              x         y  topics  cluster       Freq\n",
       "topic                                                \n",
       "10    -0.104981 -0.155873       1        1  15.634624\n",
       "18    -0.089638  0.121930       2        1   8.666393\n",
       "14     0.070705 -0.157635       3        1   8.264288\n",
       "0     -0.201174 -0.042369       4        1   7.661594\n",
       "4     -0.004532  0.045054       5        1   7.060765\n",
       "3      0.074126 -0.052821       6        1   6.542853\n",
       "12     0.084446 -0.104465       7        1   6.416438\n",
       "8     -0.130256  0.022316       8        1   5.079762\n",
       "13    -0.134070 -0.020196       9        1   5.074910\n",
       "16     0.036922  0.105855      10        1   4.651438\n",
       "2     -0.113245  0.033464      11        1   4.058526\n",
       "11     0.115303 -0.021515      12        1   3.734490\n",
       "7      0.027407  0.123723      13        1   3.673290\n",
       "1      0.089388  0.081202      14        1   3.427068\n",
       "17     0.089375  0.012572      15        1   2.342724\n",
       "19     0.009657  0.001399      16        1   2.331385\n",
       "6      0.062420  0.034238      17        1   1.937906\n",
       "9      0.041947 -0.046813      18        1   1.937886\n",
       "15     0.047691  0.008449      19        1   1.295231\n",
       "5      0.028511  0.011486      20        1   0.208424, topic_info=    Category       Freq       Term      Total  loglift  logprob\n",
       "70   Default  11.000000       gaap  11.000000  30.0000  30.0000\n",
       "21   Default   5.000000      hiseq   5.000000  29.0000  29.0000\n",
       "12   Default  10.000000    revenue  10.000000  28.0000  28.0000\n",
       "10   Default  13.000000    quarter  13.000000  27.0000  27.0000\n",
       "15   Default  11.000000       year  11.000000  26.0000  26.0000\n",
       "..       ...        ...        ...        ...      ...      ...\n",
       "109  Topic20   0.004693     absorb   1.370159   0.4966  -5.8464\n",
       "107  Topic20   0.004693  operation   2.034035   0.1016  -5.8464\n",
       "86   Topic20   0.004693     review   1.315703   0.5372  -5.8464\n",
       "89   Topic20   0.004693     income   2.471405  -0.0932  -5.8464\n",
       "90   Topic20   0.004693        net   2.471405  -0.0932  -5.8464\n",
       "\n",
       "[850 rows x 6 columns], token_table=      Topic      Freq        Term\n",
       "term                             \n",
       "198       3  0.720697     ability\n",
       "109       6  0.729842      absorb\n",
       "313       1  0.673428     account\n",
       "171       2  0.706212  accounting\n",
       "116       1  0.643436     accrual\n",
       "...     ...       ...         ...\n",
       "15        5  0.169612        year\n",
       "15        6  0.084806        year\n",
       "15        7  0.169612        year\n",
       "15        9  0.084806        year\n",
       "15       15  0.084806        year\n",
       "\n",
       "[605 rows x 3 columns], R=30, lambda_step=0.01, plot_opts={'xlab': 'PC1', 'ylab': 'PC2'}, topic_order=[11, 19, 15, 1, 5, 4, 13, 9, 14, 17, 3, 12, 8, 2, 18, 20, 7, 10, 16, 6])"
      ]
     },
     "execution_count": 32,
     "metadata": {},
     "output_type": "execute_result"
    }
   ],
   "source": [
    "vis = pyLDAvis.gensim.prepare(lda_model, corpus, id2word)\n",
    "vis"
   ]
  },
  {
   "cell_type": "markdown",
   "metadata": {},
   "source": [
    "So how to infer pyLDAvis’s output?\n",
    "\n",
    "Each bubble on the left-hand side plot represents a topic. The larger the bubble, the more prevalent is that topic.\n",
    "\n",
    "A good topic model will have fairly big, non-overlapping bubbles scattered throughout the chart instead of being clustered in one quadrant.\n",
    "\n",
    "A model with too many topics, will typically have many overlaps, small sized bubbles clustered in one region of the chart.\n",
    "\n",
    "Alright, if you move the cursor over one of the bubbles, the words and bars on the right-hand side will update. These words are the salient keywords that form the selected topic.\n",
    "\n",
    "We have successfully built a good looking topic model.\n",
    "\n",
    "Given our prior knowledge of the number of natural topics in the document, finding the best model was fairly straightforward.\n",
    "\n",
    "Upnext, we will improve upon this model by using Mallet’s version of LDA algorithm and then we will focus on how to arrive at the optimal number of topics given any large corpus of text."
   ]
  },
  {
   "cell_type": "markdown",
   "metadata": {},
   "source": [
    "# 16. Building LDA Mallet Model\n",
    "So far you have seen Gensim’s inbuilt version of the LDA algorithm. Mallet’s version, however, often gives a better quality of topics.\n",
    "\n",
    "Gensim provides a wrapper to implement Mallet’s LDA from within Gensim itself. You only need to download the zipfile, unzip it and provide the path to mallet in the unzipped directory to gensim.models.wrappers.LdaMallet. See how I have done this below."
   ]
  },
  {
   "cell_type": "code",
   "execution_count": 34,
   "metadata": {},
   "outputs": [],
   "source": [
    "# Download File: http://mallet.cs.umass.edu/dist/mallet-2.0.8.zip\n",
    "# mallet_path = '/mallet' # update this path for the zip file\n",
    "# ldamallet = gensim.models.wrappers.LdaMallet(mallet_path, corpus=corpus, num_topics=20, id2word=id2word)\n",
    "\n",
    "# Show Topics\n",
    "#pprint(ldamallet.show_topics(formatted=False))\n",
    "\n",
    "# Compute Coherence Score\n",
    "#coherence_model_ldamallet = CoherenceModel(model=ldamallet, texts=data_lemmatized, dictionary=id2word, coherence='c_v')\n",
    "#coherence_ldamallet = coherence_model_ldamallet.get_coherence()\n",
    "#print('\\nCoherence Score: ', coherence_ldamallet)"
   ]
  },
  {
   "cell_type": "markdown",
   "metadata": {},
   "source": [
    "# 17. How to find the optimal number of topics for LDA?\n",
    "My approach to finding the optimal number of topics is to build many LDA models with different values of number of topics (k) and pick the one that gives the highest coherence value.\n",
    "\n",
    "Choosing a ‘k’ that marks the end of a rapid growth of topic coherence usually offers meaningful and interpretable topics. Picking an even higher value can sometimes provide more granular sub-topics.\n",
    "\n",
    "If you see the same keywords being repeated in multiple topics, it’s probably a sign that the ‘k’ is too large.\n",
    "\n",
    "The compute_coherence_values() (see below) trains multiple LDA models and provides the models and their corresponding coherence scores."
   ]
  },
  {
   "cell_type": "code",
   "execution_count": 35,
   "metadata": {},
   "outputs": [],
   "source": [
    "def compute_coherence_values(dictionary, corpus, texts, limit, start=2, step=3):\n",
    "    \"\"\"\n",
    "    Compute c_v coherence for various number of topics\n",
    "\n",
    "    Parameters:\n",
    "    ----------\n",
    "    dictionary : Gensim dictionary\n",
    "    corpus : Gensim corpus\n",
    "    texts : List of input texts\n",
    "    limit : Max num of topics\n",
    "\n",
    "    Returns:\n",
    "    -------\n",
    "    model_list : List of LDA topic models\n",
    "    coherence_values : Coherence values corresponding to the LDA model with respective number of topics\n",
    "    \"\"\"\n",
    "    coherence_values = []\n",
    "    model_list = []\n",
    "\n",
    "    for num_topics in range(start, limit, step):\n",
    "        model = gensim.models.ldamodel.LdaModel(corpus=corpus, num_topics=num_topics, id2word=id2word)\n",
    "        model_list.append(model)\n",
    "        coherencemodel = CoherenceModel(model=model, texts=texts, dictionary=dictionary, coherence='c_v')\n",
    "        coherence_values.append(coherencemodel.get_coherence())\n",
    "\n",
    "    return model_list, coherence_values"
   ]
  },
  {
   "cell_type": "code",
   "execution_count": 36,
   "metadata": {},
   "outputs": [
    {
     "name": "stderr",
     "output_type": "stream",
     "text": [
      "/Users/briansum/opt/anaconda3/envs/TPML/lib/python3.7/site-packages/scipy/sparse/lil.py:504: FutureWarning: future versions will not create a writeable array from broadcast_array. Set the writable flag explicitly to avoid this warning.\n",
      "  if not i.flags.writeable or i.dtype not in (np.int32, np.int64):\n",
      "/Users/briansum/opt/anaconda3/envs/TPML/lib/python3.7/site-packages/scipy/sparse/lil.py:506: FutureWarning: future versions will not create a writeable array from broadcast_array. Set the writable flag explicitly to avoid this warning.\n",
      "  if not j.flags.writeable or j.dtype not in (np.int32, np.int64):\n"
     ]
    }
   ],
   "source": [
    "# Can take a long time to run.\n",
    "model_list, coherence_values = compute_coherence_values(dictionary=id2word, corpus=corpus, texts=data_lemmatized, start=2, limit=40, step=6)"
   ]
  },
  {
   "cell_type": "code",
   "execution_count": 37,
   "metadata": {},
   "outputs": [
    {
     "data": {
      "image/png": "[encoded data removed]",
      "text/plain": [
       "<Figure size 432x288 with 1 Axes>"
      ]
     },
     "metadata": {
      "needs_background": "light"
     },
     "output_type": "display_data"
    }
   ],
   "source": [
    "# Show graph\n",
    "limit=40; start=2; step=6;\n",
    "x = range(start, limit, step)\n",
    "plt.plot(x, coherence_values)\n",
    "plt.xlabel(\"Num Topics\")\n",
    "plt.ylabel(\"Coherence score\")\n",
    "plt.legend((\"coherence_values\"), loc='best')\n",
    "plt.show()"
   ]
  },
  {
   "cell_type": "code",
   "execution_count": 38,
   "metadata": {},
   "outputs": [
    {
     "name": "stdout",
     "output_type": "stream",
     "text": [
      "Num Topics = 2  has Coherence Value of 0.3301\n",
      "Num Topics = 8  has Coherence Value of 0.3439\n",
      "Num Topics = 14  has Coherence Value of 0.3921\n",
      "Num Topics = 20  has Coherence Value of 0.3659\n",
      "Num Topics = 26  has Coherence Value of 0.4255\n",
      "Num Topics = 32  has Coherence Value of 0.4307\n",
      "Num Topics = 38  has Coherence Value of 0.4035\n"
     ]
    }
   ],
   "source": [
    "# Choosing the optimal number of LDA topics\n",
    "# Print the coherence scores\n",
    "for m, cv in zip(x, coherence_values):\n",
    "    print(\"Num Topics =\", m, \" has Coherence Value of\", round(cv, 4))"
   ]
  },
  {
   "cell_type": "markdown",
   "metadata": {},
   "source": [
    "If the coherence score seems to keep increasing, it may make better sense to pick the model that gave the highest CV before flattening out. This is exactly the case here.\n",
    "\n",
    "So for further steps I will choose the model with 32 topics itself."
   ]
  },
  {
   "cell_type": "code",
   "execution_count": 40,
   "metadata": {},
   "outputs": [
    {
     "name": "stdout",
     "output_type": "stream",
     "text": [
      "[(23,\n",
      "  '0.052*\"well\" + 0.041*\"margin\" + 0.041*\"business\" + 0.021*\"gross\" + '\n",
      "  '0.021*\"adjusted\" + 0.021*\"accrual\" + 0.021*\"discuss\" + 0.021*\"see\" + '\n",
      "  '0.021*\"operate\" + 0.021*\"cite\"'),\n",
      " (21,\n",
      "  '0.044*\"work\" + 0.023*\"place\" + 0.023*\"point\" + 0.023*\"range\" + '\n",
      "  '0.023*\"sense\" + 0.023*\"hand\" + 0.023*\"look\" + 0.023*\"eventually\" + '\n",
      "  '0.023*\"buy\" + 0.023*\"experiment\"'),\n",
      " (18,\n",
      "  '0.073*\"expense\" + 0.073*\"non\" + 0.037*\"exclude\" + 0.037*\"gaap\" + '\n",
      "  '0.037*\"turn\" + 0.037*\"margin\" + 0.037*\"adjust\" + 0.037*\"result\" + '\n",
      "  '0.037*\"cash\" + 0.037*\"item\"'),\n",
      " (19,\n",
      "  '0.040*\"subsequent\" + 0.040*\"earning\" + 0.040*\"share\" + 0.040*\"result\" + '\n",
      "  '0.040*\"reference\" + 0.040*\"flow\" + 0.040*\"stockholder\" + 0.040*\"free\" + '\n",
      "  '0.040*\"income\" + 0.040*\"net\"'),\n",
      " (16,\n",
      "  '0.029*\"impact\" + 0.029*\"approximately\" + 0.029*\"authorization\" + '\n",
      "  '0.029*\"quarter\" + 0.029*\"share\" + 0.029*\"point\" + 0.029*\"remain\" + '\n",
      "  '0.029*\"announce\" + 0.029*\"sure\" + 0.029*\"gain\"'),\n",
      " (22,\n",
      "  '0.049*\"compensation\" + 0.049*\"margin\" + 0.026*\"impact\" + 0.025*\"sequential\" '\n",
      "  '+ 0.025*\"sequentially\" + 0.025*\"decrease\" + 0.025*\"exclude\" + 0.025*\"see\" + '\n",
      "  '0.025*\"basis\" + 0.025*\"variable\"'),\n",
      " (5,\n",
      "  '0.041*\"result\" + 0.031*\"margin\" + 0.031*\"include\" + 0.031*\"cash\" + '\n",
      "  '0.029*\"rate\" + 0.029*\"report\" + 0.026*\"impact\" + 0.026*\"gaap\" + '\n",
      "  '0.016*\"consolidated\" + 0.016*\"investment\"'),\n",
      " (1,\n",
      "  '0.076*\"basis\" + 0.076*\"point\" + 0.038*\"gross\" + 0.038*\"adjust\" + '\n",
      "  '0.038*\"product\" + 0.038*\"family\" + 0.038*\"transition\" + '\n",
      "  '0.038*\"sequentially\" + 0.038*\"reserve\" + 0.038*\"low\"'),\n",
      " (6,\n",
      "  '0.007*\"lease\" + 0.006*\"capital\" + 0.006*\"additional\" + 0.006*\"landlord\" + '\n",
      "  '0.006*\"property\" + 0.006*\"expenditure\" + 0.005*\"build\" + 0.005*\"report\" + '\n",
      "  '0.005*\"pay\" + 0.005*\"record\"'),\n",
      " (30,\n",
      "  '0.075*\"question\" + 0.075*\"session\" + 0.075*\"answer\" + 0.002*\"currency\" + '\n",
      "  '0.002*\"sale\" + 0.002*\"company\" + 0.002*\"number\" + 0.002*\"contribution\" + '\n",
      "  '0.002*\"headwind\" + 0.002*\"current\"'),\n",
      " (12,\n",
      "  '0.032*\"miniseq\" + 0.029*\"equipment\" + 0.029*\"increase\" + 0.029*\"accounting\" '\n",
      "  '+ 0.029*\"suit\" + 0.029*\"expense\" + 0.029*\"record\" + 0.029*\"pay\" + '\n",
      "  '0.029*\"report\" + 0.029*\"build\"'),\n",
      " (20,\n",
      "  '0.073*\"dozen\" + 0.073*\"end\" + 0.037*\"upper\" + 0.037*\"range\" + '\n",
      "  '0.037*\"manufacture\" + 0.037*\"recognize\" + 0.037*\"low\" + 0.037*\"revenue\" + '\n",
      "  '0.037*\"guidance\" + 0.037*\"novaseqs\"'),\n",
      " (0,\n",
      "  '0.003*\"prior\" + 0.003*\"hence\" + 0.003*\"less\" + 0.003*\"headwind\" + '\n",
      "  '0.003*\"current\" + 0.003*\"currency\" + 0.003*\"contribution\" + 0.003*\"company\" '\n",
      "  '+ 0.003*\"sale\" + 0.003*\"full\"'),\n",
      " (28,\n",
      "  '0.003*\"prior\" + 0.003*\"hence\" + 0.003*\"less\" + 0.003*\"headwind\" + '\n",
      "  '0.003*\"current\" + 0.003*\"currency\" + 0.003*\"contribution\" + 0.003*\"company\" '\n",
      "  '+ 0.003*\"sale\" + 0.003*\"full\"'),\n",
      " (8,\n",
      "  '0.064*\"quarter\" + 0.028*\"investment\" + 0.028*\"several\" + 0.028*\"fully\" + '\n",
      "  '0.028*\"support\" + 0.028*\"fourth\" + 0.028*\"report\" + 0.028*\"clarify\" + '\n",
      "  '0.028*\"gaap\" + 0.028*\"share\"'),\n",
      " (27,\n",
      "  '0.043*\"bear\" + 0.043*\"close\" + 0.043*\"would\" + 0.043*\"get\" + 0.043*\"update\" '\n",
      "  '+ 0.043*\"mind\" + 0.043*\"customer\" + 0.040*\"miniseq\" + 0.022*\"project\" + '\n",
      "  '0.021*\"consumable\"'),\n",
      " (2,\n",
      "  '0.065*\"see\" + 0.065*\"sight\" + 0.065*\"may\" + 0.065*\"end\" + 0.065*\"depend\" + '\n",
      "  '0.002*\"contribution\" + 0.002*\"headwind\" + 0.002*\"current\" + '\n",
      "  '0.002*\"currency\" + 0.002*\"prior\"'),\n",
      " (13,\n",
      "  '0.071*\"instrument\" + 0.036*\"contract\" + 0.036*\"customer\" + '\n",
      "  '0.035*\"decommission\" + 0.035*\"hiseq\" + 0.035*\"stop\" + 0.035*\"service\" + '\n",
      "  '0.018*\"combine\" + 0.018*\"respective\" + 0.018*\"decline\"'),\n",
      " (9,\n",
      "  '0.075*\"revenue\" + 0.075*\"service\" + 0.075*\"equal\" + 0.002*\"contribution\" + '\n",
      "  '0.002*\"currency\" + 0.002*\"company\" + 0.002*\"assume\" + 0.002*\"sale\" + '\n",
      "  '0.002*\"less\" + 0.002*\"headwind\"'),\n",
      " (31,\n",
      "  '0.050*\"quarter\" + 0.033*\"expense\" + 0.033*\"increase\" + 0.033*\"include\" + '\n",
      "  '0.033*\"full\" + 0.033*\"dilution\" + 0.033*\"year\" + 0.033*\"revenue\" + '\n",
      "  '0.026*\"time\" + 0.021*\"sequentially\"')]\n"
     ]
    }
   ],
   "source": [
    "# Select the model and print the topics\n",
    "optimal_model = model_list[5] # Count from index 0 (top)\n",
    "model_topics = optimal_model.show_topics(formatted=False)\n",
    "pprint(optimal_model.print_topics(num_words=10))"
   ]
  },
  {
   "cell_type": "markdown",
   "metadata": {},
   "source": [
    "Those were the topics for the chosen LDA model."
   ]
  },
  {
   "cell_type": "markdown",
   "metadata": {},
   "source": [
    "# 18. Finding the dominant topic in each sentence\n",
    "One of the practical application of topic modeling is to determine what topic a given document is about.\n",
    "\n",
    "To find that, we find the topic number that has the highest percentage contribution in that document.\n",
    "\n",
    "The format_topics_sentences() function below nicely aggregates this information in a presentable table."
   ]
  },
  {
   "cell_type": "code",
   "execution_count": 41,
   "metadata": {},
   "outputs": [],
   "source": [
    "def format_topics_sentences(ldamodel=lda_model, corpus=corpus, texts=data):\n",
    "    # Init output\n",
    "    sent_topics_df = pd.DataFrame()\n",
    "\n",
    "    # Get main topic in each document\n",
    "    for i, row in enumerate(ldamodel[corpus]):\n",
    "        row = sorted(row, key=lambda x: (x[1]), reverse=True)\n",
    "        # Get the Dominant topic, Perc Contribution and Keywords for each document\n",
    "        for j, (topic_num, prop_topic) in enumerate(row):\n",
    "            if j == 0:  # => dominant topic\n",
    "                wp = ldamodel.show_topic(topic_num)\n",
    "                topic_keywords = \", \".join([word for word, prop in wp])\n",
    "                sent_topics_df = sent_topics_df.append(pd.Series([int(topic_num), round(prop_topic,4), topic_keywords]), ignore_index=True)\n",
    "            else:\n",
    "                break\n",
    "    sent_topics_df.columns = ['Dominant_Topic', 'Perc_Contribution', 'Topic_Keywords']\n",
    "\n",
    "    # Add original text to the end of the output\n",
    "    contents = pd.Series(texts)\n",
    "    sent_topics_df = pd.concat([sent_topics_df, contents], axis=1)\n",
    "    return(sent_topics_df)"
   ]
  },
  {
   "cell_type": "code",
   "execution_count": 42,
   "metadata": {},
   "outputs": [],
   "source": [
    "df_topic_sents_keywords = format_topics_sentences(ldamodel=optimal_model, corpus=corpus, texts=data)"
   ]
  },
  {
   "cell_type": "code",
   "execution_count": 43,
   "metadata": {},
   "outputs": [],
   "source": [
    "# Format\n",
    "df_dominant_topic = df_topic_sents_keywords.reset_index()\n",
    "df_dominant_topic.columns = ['Document_No', 'Dominant_Topic', 'Topic_Perc_Contrib', 'Keywords', 'Text']"
   ]
  },
  {
   "cell_type": "code",
   "execution_count": 44,
   "metadata": {},
   "outputs": [
    {
     "name": "stdout",
     "output_type": "stream",
     "text": [
      "   Document_No  Dominant_Topic  Topic_Perc_Contrib  \\\n",
      "0            0             0.0              0.0312   \n",
      "1            1            10.0              0.9627   \n",
      "2            2            11.0              0.9354   \n",
      "3            3            12.0              0.9395   \n",
      "4            4            13.0              0.9579   \n",
      "5            5             5.0              0.9031   \n",
      "6            6             9.0              0.7578   \n",
      "7            7            26.0              0.9395   \n",
      "8            8            18.0              0.9462   \n",
      "9            9            17.0              0.9255   \n",
      "\n",
      "                                            Keywords  \\\n",
      "0  prior, hence, less, headwind, current, currenc...   \n",
      "1  year, revenue, fourth, grow, quarter, consumab...   \n",
      "2  gain, range, base, utilization, guidance, grow...   \n",
      "3  miniseq, equipment, increase, accounting, suit...   \n",
      "4  instrument, contract, customer, decommission, ...   \n",
      "5  result, margin, include, cash, rate, report, i...   \n",
      "6  revenue, service, equal, contribution, currenc...   \n",
      "7  service, instrument, migrate, decommission, ex...   \n",
      "8  expense, non, exclude, gaap, turn, margin, adj...   \n",
      "9  gaap, earning, non, diluted, share, sample, ne...   \n",
      "\n",
      "                                                Text  \n",
      "0                                 Thank you, Francis  \n",
      "1  As Francis mentioned, Q4 revenue grew 5% year-...  \n",
      "2  As a result of growth in our installed base, i...  \n",
      "3  MiSeq pull-through was in our projected range ...  \n",
      "4  HiSeq and HiSeq X utilization were within thei...  \n",
      "5  Utilization on the HiSeq family of instruments...  \n",
      "6     Services and other revenue equaled $94 million  \n",
      "7  Strength in genotyping services and sequencing...  \n",
      "8  Turning now to gross margin and operating expe...  \n",
      "9  I encourage you to review the GAAP reconciliat...  \n"
     ]
    }
   ],
   "source": [
    "# Show Dominant Topic For Each Document\n",
    "print(df_dominant_topic.head(10))"
   ]
  },
  {
   "cell_type": "markdown",
   "metadata": {},
   "source": [
    "# 19. Find the most representative document for each topic\n",
    "Sometimes just the topic keywords may not be enough to make sense of what a topic is about. So, to help with understanding the topic, you can find the documents a given topic has contributed to the most and infer the topic by reading that document. Whew!!"
   ]
  },
  {
   "cell_type": "code",
   "execution_count": 45,
   "metadata": {},
   "outputs": [],
   "source": [
    "# Group top 5 sentences under each topic\n",
    "sent_topics_sorteddf_mallet = pd.DataFrame()\n",
    "\n",
    "sent_topics_outdf_grpd = df_topic_sents_keywords.groupby('Dominant_Topic')\n",
    "\n",
    "for i, grp in sent_topics_outdf_grpd:\n",
    "    sent_topics_sorteddf_mallet = pd.concat([sent_topics_sorteddf_mallet, \n",
    "                                             grp.sort_values(['Perc_Contribution'], ascending=[0]).head(1)], \n",
    "                                            axis=0)"
   ]
  },
  {
   "cell_type": "code",
   "execution_count": 46,
   "metadata": {},
   "outputs": [],
   "source": [
    "# Reset Index    \n",
    "sent_topics_sorteddf_mallet.reset_index(drop=True, inplace=True)"
   ]
  },
  {
   "cell_type": "code",
   "execution_count": 47,
   "metadata": {},
   "outputs": [],
   "source": [
    "# Format\n",
    "sent_topics_sorteddf_mallet.columns = ['Topic_Num', \"Topic_Perc_Contrib\", \"Keywords\", \"Text\"]"
   ]
  },
  {
   "cell_type": "code",
   "execution_count": 48,
   "metadata": {},
   "outputs": [
    {
     "name": "stdout",
     "output_type": "stream",
     "text": [
      "   Topic_Num  Topic_Perc_Contrib  \\\n",
      "0        0.0              0.0312   \n",
      "1        1.0              0.9430   \n",
      "2        2.0              0.7578   \n",
      "3        3.0              0.9308   \n",
      "4        4.0              0.7578   \n",
      "\n",
      "                                            Keywords  \\\n",
      "0  prior, hence, less, headwind, current, currenc...   \n",
      "1  basis, point, gross, adjust, product, family, ...   \n",
      "2  see, sight, may, end, depend, contribution, he...   \n",
      "3  day, total, collection, compare, due, benefit,...   \n",
      "4  factor, depend, lot, currency, contribution, s...   \n",
      "\n",
      "                                                Text  \n",
      "0                                 Thank you, Francis  \n",
      "1  Our adjusted gross margin for the fourth quart...  \n",
      "2                We dont see an end in sight to that  \n",
      "3  Q4 DSO totaled 56 days, down slightly compared...  \n",
      "4             I mean, it depends on a lot of factors  \n"
     ]
    }
   ],
   "source": [
    "# Show Most Representative Topic For Each Document\n",
    "print(sent_topics_sorteddf_mallet.head()) "
   ]
  },
  {
   "cell_type": "markdown",
   "metadata": {},
   "source": [
    "The tabular output above actually has 20 rows, one each for a topic. It has the topic number, the keywords, and the most representative document. The Perc_Contribution column is nothing but the percentage contribution of the topic in the given document."
   ]
  },
  {
   "cell_type": "markdown",
   "metadata": {},
   "source": [
    "# 20. Topic distribution across documents\n",
    "Finally, we want to understand the volume and distribution of topics in order to judge how widely it was discussed. The below table exposes that information."
   ]
  },
  {
   "cell_type": "code",
   "execution_count": 49,
   "metadata": {},
   "outputs": [],
   "source": [
    "# Number of Documents for Each Topic\n",
    "topic_counts = df_topic_sents_keywords['Dominant_Topic'].value_counts()"
   ]
  },
  {
   "cell_type": "code",
   "execution_count": 50,
   "metadata": {},
   "outputs": [],
   "source": [
    "# Percentage of Documents for Each Topic\n",
    "topic_contribution = round(topic_counts/topic_counts.sum(), 4)"
   ]
  },
  {
   "cell_type": "code",
   "execution_count": 51,
   "metadata": {},
   "outputs": [],
   "source": [
    "# Topic Number and Keywords\n",
    "topic_num_keywords = sent_topics_sorteddf_mallet[['Topic_Num', 'Keywords']]"
   ]
  },
  {
   "cell_type": "code",
   "execution_count": 52,
   "metadata": {},
   "outputs": [],
   "source": [
    "# Concatenate Column wise\n",
    "df_dominant_topics = pd.concat([topic_num_keywords, topic_counts.sort_index(), topic_contribution.sort_index()], axis=1)"
   ]
  },
  {
   "cell_type": "code",
   "execution_count": 53,
   "metadata": {},
   "outputs": [],
   "source": [
    "# Change Column names\n",
    "df_dominant_topics.columns = ['Dominant_Topic', 'Topic_Keywords', 'Num_Documents', 'Perc_Documents']"
   ]
  },
  {
   "cell_type": "code",
   "execution_count": 54,
   "metadata": {},
   "outputs": [
    {
     "data": {
      "text/html": [
       "<div>\n",
       "<style scoped>\n",
       "    .dataframe tbody tr th:only-of-type {\n",
       "        vertical-align: middle;\n",
       "    }\n",
       "\n",
       "    .dataframe tbody tr th {\n",
       "        vertical-align: top;\n",
       "    }\n",
       "\n",
       "    .dataframe thead th {\n",
       "        text-align: right;\n",
       "    }\n",
       "</style>\n",
       "<table border=\"1\" class=\"dataframe\">\n",
       "  <thead>\n",
       "    <tr style=\"text-align: right;\">\n",
       "      <th></th>\n",
       "      <th>Dominant_Topic</th>\n",
       "      <th>Topic_Keywords</th>\n",
       "      <th>Num_Documents</th>\n",
       "      <th>Perc_Documents</th>\n",
       "    </tr>\n",
       "  </thead>\n",
       "  <tbody>\n",
       "    <tr>\n",
       "      <th>0.0</th>\n",
       "      <td>0.0</td>\n",
       "      <td>prior, hence, less, headwind, current, currenc...</td>\n",
       "      <td>1.0</td>\n",
       "      <td>0.0154</td>\n",
       "    </tr>\n",
       "    <tr>\n",
       "      <th>1.0</th>\n",
       "      <td>1.0</td>\n",
       "      <td>basis, point, gross, adjust, product, family, ...</td>\n",
       "      <td>1.0</td>\n",
       "      <td>0.0154</td>\n",
       "    </tr>\n",
       "    <tr>\n",
       "      <th>2.0</th>\n",
       "      <td>2.0</td>\n",
       "      <td>see, sight, may, end, depend, contribution, he...</td>\n",
       "      <td>2.0</td>\n",
       "      <td>0.0308</td>\n",
       "    </tr>\n",
       "    <tr>\n",
       "      <th>3.0</th>\n",
       "      <td>3.0</td>\n",
       "      <td>day, total, collection, compare, due, benefit,...</td>\n",
       "      <td>1.0</td>\n",
       "      <td>0.0154</td>\n",
       "    </tr>\n",
       "    <tr>\n",
       "      <th>4.0</th>\n",
       "      <td>4.0</td>\n",
       "      <td>factor, depend, lot, currency, contribution, s...</td>\n",
       "      <td>1.0</td>\n",
       "      <td>0.0154</td>\n",
       "    </tr>\n",
       "    <tr>\n",
       "      <th>5.0</th>\n",
       "      <td>5.0</td>\n",
       "      <td>result, margin, include, cash, rate, report, i...</td>\n",
       "      <td>4.0</td>\n",
       "      <td>0.0615</td>\n",
       "    </tr>\n",
       "    <tr>\n",
       "      <th>6.0</th>\n",
       "      <td>7.0</td>\n",
       "      <td>s, hiseq, growth, expect, there, grail, agency...</td>\n",
       "      <td>NaN</td>\n",
       "      <td>NaN</td>\n",
       "    </tr>\n",
       "    <tr>\n",
       "      <th>7.0</th>\n",
       "      <td>8.0</td>\n",
       "      <td>quarter, investment, several, fully, support, ...</td>\n",
       "      <td>4.0</td>\n",
       "      <td>0.0615</td>\n",
       "    </tr>\n",
       "    <tr>\n",
       "      <th>8.0</th>\n",
       "      <td>9.0</td>\n",
       "      <td>revenue, service, equal, contribution, currenc...</td>\n",
       "      <td>3.0</td>\n",
       "      <td>0.0462</td>\n",
       "    </tr>\n",
       "    <tr>\n",
       "      <th>9.0</th>\n",
       "      <td>10.0</td>\n",
       "      <td>year, revenue, fourth, grow, quarter, consumab...</td>\n",
       "      <td>1.0</td>\n",
       "      <td>0.0154</td>\n",
       "    </tr>\n",
       "    <tr>\n",
       "      <th>10.0</th>\n",
       "      <td>11.0</td>\n",
       "      <td>gain, range, base, utilization, guidance, grow...</td>\n",
       "      <td>1.0</td>\n",
       "      <td>0.0154</td>\n",
       "    </tr>\n",
       "    <tr>\n",
       "      <th>11.0</th>\n",
       "      <td>12.0</td>\n",
       "      <td>miniseq, equipment, increase, accounting, suit...</td>\n",
       "      <td>1.0</td>\n",
       "      <td>0.0154</td>\n",
       "    </tr>\n",
       "    <tr>\n",
       "      <th>12.0</th>\n",
       "      <td>13.0</td>\n",
       "      <td>instrument, contract, customer, decommission, ...</td>\n",
       "      <td>2.0</td>\n",
       "      <td>0.0308</td>\n",
       "    </tr>\n",
       "    <tr>\n",
       "      <th>13.0</th>\n",
       "      <td>14.0</td>\n",
       "      <td>consumable, think, impact, sequence, year, rea...</td>\n",
       "      <td>3.0</td>\n",
       "      <td>0.0462</td>\n",
       "    </tr>\n",
       "    <tr>\n",
       "      <th>14.0</th>\n",
       "      <td>16.0</td>\n",
       "      <td>impact, approximately, authorization, quarter,...</td>\n",
       "      <td>4.0</td>\n",
       "      <td>0.0615</td>\n",
       "    </tr>\n",
       "    <tr>\n",
       "      <th>15.0</th>\n",
       "      <td>17.0</td>\n",
       "      <td>gaap, earning, non, diluted, share, sample, ne...</td>\n",
       "      <td>NaN</td>\n",
       "      <td>NaN</td>\n",
       "    </tr>\n",
       "    <tr>\n",
       "      <th>16.0</th>\n",
       "      <td>18.0</td>\n",
       "      <td>expense, non, exclude, gaap, turn, margin, adj...</td>\n",
       "      <td>2.0</td>\n",
       "      <td>0.0308</td>\n",
       "    </tr>\n",
       "    <tr>\n",
       "      <th>17.0</th>\n",
       "      <td>19.0</td>\n",
       "      <td>subsequent, earning, share, result, reference,...</td>\n",
       "      <td>4.0</td>\n",
       "      <td>0.0615</td>\n",
       "    </tr>\n",
       "    <tr>\n",
       "      <th>18.0</th>\n",
       "      <td>20.0</td>\n",
       "      <td>dozen, end, upper, range, manufacture, recogni...</td>\n",
       "      <td>1.0</td>\n",
       "      <td>0.0154</td>\n",
       "    </tr>\n",
       "    <tr>\n",
       "      <th>19.0</th>\n",
       "      <td>21.0</td>\n",
       "      <td>work, place, point, range, sense, hand, look, ...</td>\n",
       "      <td>2.0</td>\n",
       "      <td>0.0308</td>\n",
       "    </tr>\n",
       "    <tr>\n",
       "      <th>20.0</th>\n",
       "      <td>22.0</td>\n",
       "      <td>compensation, margin, impact, sequential, sequ...</td>\n",
       "      <td>1.0</td>\n",
       "      <td>0.0154</td>\n",
       "    </tr>\n",
       "    <tr>\n",
       "      <th>21.0</th>\n",
       "      <td>23.0</td>\n",
       "      <td>well, margin, business, gross, adjusted, accru...</td>\n",
       "      <td>3.0</td>\n",
       "      <td>0.0462</td>\n",
       "    </tr>\n",
       "    <tr>\n",
       "      <th>22.0</th>\n",
       "      <td>24.0</td>\n",
       "      <td>question, margin, allow, rejoin, full, ask, ad...</td>\n",
       "      <td>1.0</td>\n",
       "      <td>0.0154</td>\n",
       "    </tr>\n",
       "    <tr>\n",
       "      <th>23.0</th>\n",
       "      <td>25.0</td>\n",
       "      <td>quarter, time, revenue, year, due, see, prior,...</td>\n",
       "      <td>3.0</td>\n",
       "      <td>0.0462</td>\n",
       "    </tr>\n",
       "    <tr>\n",
       "      <th>24.0</th>\n",
       "      <td>26.0</td>\n",
       "      <td>service, instrument, migrate, decommission, ex...</td>\n",
       "      <td>2.0</td>\n",
       "      <td>0.0308</td>\n",
       "    </tr>\n",
       "    <tr>\n",
       "      <th>25.0</th>\n",
       "      <td>27.0</td>\n",
       "      <td>bear, close, would, get, update, mind, custome...</td>\n",
       "      <td>5.0</td>\n",
       "      <td>0.0769</td>\n",
       "    </tr>\n",
       "    <tr>\n",
       "      <th>26.0</th>\n",
       "      <td>29.0</td>\n",
       "      <td>ep, complete, well, repurchase, dilution, eval...</td>\n",
       "      <td>4.0</td>\n",
       "      <td>0.0615</td>\n",
       "    </tr>\n",
       "    <tr>\n",
       "      <th>27.0</th>\n",
       "      <td>30.0</td>\n",
       "      <td>question, session, answer, currency, sale, com...</td>\n",
       "      <td>1.0</td>\n",
       "      <td>0.0154</td>\n",
       "    </tr>\n",
       "    <tr>\n",
       "      <th>28.0</th>\n",
       "      <td>31.0</td>\n",
       "      <td>quarter, expense, increase, include, full, dil...</td>\n",
       "      <td>NaN</td>\n",
       "      <td>NaN</td>\n",
       "    </tr>\n",
       "    <tr>\n",
       "      <th>29.0</th>\n",
       "      <td>NaN</td>\n",
       "      <td>NaN</td>\n",
       "      <td>2.0</td>\n",
       "      <td>0.0308</td>\n",
       "    </tr>\n",
       "    <tr>\n",
       "      <th>30.0</th>\n",
       "      <td>NaN</td>\n",
       "      <td>NaN</td>\n",
       "      <td>2.0</td>\n",
       "      <td>0.0308</td>\n",
       "    </tr>\n",
       "    <tr>\n",
       "      <th>31.0</th>\n",
       "      <td>NaN</td>\n",
       "      <td>NaN</td>\n",
       "      <td>3.0</td>\n",
       "      <td>0.0462</td>\n",
       "    </tr>\n",
       "  </tbody>\n",
       "</table>\n",
       "</div>"
      ],
      "text/plain": [
       "      Dominant_Topic                                     Topic_Keywords  \\\n",
       "0.0              0.0  prior, hence, less, headwind, current, currenc...   \n",
       "1.0              1.0  basis, point, gross, adjust, product, family, ...   \n",
       "2.0              2.0  see, sight, may, end, depend, contribution, he...   \n",
       "3.0              3.0  day, total, collection, compare, due, benefit,...   \n",
       "4.0              4.0  factor, depend, lot, currency, contribution, s...   \n",
       "5.0              5.0  result, margin, include, cash, rate, report, i...   \n",
       "6.0              7.0  s, hiseq, growth, expect, there, grail, agency...   \n",
       "7.0              8.0  quarter, investment, several, fully, support, ...   \n",
       "8.0              9.0  revenue, service, equal, contribution, currenc...   \n",
       "9.0             10.0  year, revenue, fourth, grow, quarter, consumab...   \n",
       "10.0            11.0  gain, range, base, utilization, guidance, grow...   \n",
       "11.0            12.0  miniseq, equipment, increase, accounting, suit...   \n",
       "12.0            13.0  instrument, contract, customer, decommission, ...   \n",
       "13.0            14.0  consumable, think, impact, sequence, year, rea...   \n",
       "14.0            16.0  impact, approximately, authorization, quarter,...   \n",
       "15.0            17.0  gaap, earning, non, diluted, share, sample, ne...   \n",
       "16.0            18.0  expense, non, exclude, gaap, turn, margin, adj...   \n",
       "17.0            19.0  subsequent, earning, share, result, reference,...   \n",
       "18.0            20.0  dozen, end, upper, range, manufacture, recogni...   \n",
       "19.0            21.0  work, place, point, range, sense, hand, look, ...   \n",
       "20.0            22.0  compensation, margin, impact, sequential, sequ...   \n",
       "21.0            23.0  well, margin, business, gross, adjusted, accru...   \n",
       "22.0            24.0  question, margin, allow, rejoin, full, ask, ad...   \n",
       "23.0            25.0  quarter, time, revenue, year, due, see, prior,...   \n",
       "24.0            26.0  service, instrument, migrate, decommission, ex...   \n",
       "25.0            27.0  bear, close, would, get, update, mind, custome...   \n",
       "26.0            29.0  ep, complete, well, repurchase, dilution, eval...   \n",
       "27.0            30.0  question, session, answer, currency, sale, com...   \n",
       "28.0            31.0  quarter, expense, increase, include, full, dil...   \n",
       "29.0             NaN                                                NaN   \n",
       "30.0             NaN                                                NaN   \n",
       "31.0             NaN                                                NaN   \n",
       "\n",
       "      Num_Documents  Perc_Documents  \n",
       "0.0             1.0          0.0154  \n",
       "1.0             1.0          0.0154  \n",
       "2.0             2.0          0.0308  \n",
       "3.0             1.0          0.0154  \n",
       "4.0             1.0          0.0154  \n",
       "5.0             4.0          0.0615  \n",
       "6.0             NaN             NaN  \n",
       "7.0             4.0          0.0615  \n",
       "8.0             3.0          0.0462  \n",
       "9.0             1.0          0.0154  \n",
       "10.0            1.0          0.0154  \n",
       "11.0            1.0          0.0154  \n",
       "12.0            2.0          0.0308  \n",
       "13.0            3.0          0.0462  \n",
       "14.0            4.0          0.0615  \n",
       "15.0            NaN             NaN  \n",
       "16.0            2.0          0.0308  \n",
       "17.0            4.0          0.0615  \n",
       "18.0            1.0          0.0154  \n",
       "19.0            2.0          0.0308  \n",
       "20.0            1.0          0.0154  \n",
       "21.0            3.0          0.0462  \n",
       "22.0            1.0          0.0154  \n",
       "23.0            3.0          0.0462  \n",
       "24.0            2.0          0.0308  \n",
       "25.0            5.0          0.0769  \n",
       "26.0            4.0          0.0615  \n",
       "27.0            1.0          0.0154  \n",
       "28.0            NaN             NaN  \n",
       "29.0            2.0          0.0308  \n",
       "30.0            2.0          0.0308  \n",
       "31.0            3.0          0.0462  "
      ]
     },
     "execution_count": 54,
     "metadata": {},
     "output_type": "execute_result"
    }
   ],
   "source": [
    "# Show Topic Volume Distribution\n",
    "df_dominant_topics"
   ]
  },
  {
   "cell_type": "markdown",
   "metadata": {},
   "source": [
    "# 21. Conclusion\n",
    "We started with understanding what topic modeling can do. We built a basic topic model using Gensim’s LDA and visualize the topics using pyLDAvis. Then we built mallet’s LDA implementation. You saw how to find the optimal number of topics using coherence scores and how you can come to a logical understanding of how to choose the optimal model.\n",
    "\n",
    "Finally we saw how to aggregate and present the results to generate insights that may be in a more actionable.\n",
    "\n",
    "Hope you enjoyed reading this. I would appreciate if you leave your thoughts in the comments section below.\n",
    "\n",
    "Edit: I see some of you are experiencing errors while using the LDA Mallet and I don’t have a solution for some of the issues. So, I’ve implemented a workaround and more useful topic model visualizations. Hope you will find it helpful."
   ]
  }
 ],
 "metadata": {
  "kernelspec": {
   "display_name": "Python 3",
   "language": "python",
   "name": "python3"
  },
  "language_info": {
   "codemirror_mode": {
    "name": "ipython",
    "version": 3
   },
   "file_extension": ".py",
   "mimetype": "text/x-python",
   "name": "python",
   "nbconvert_exporter": "python",
   "pygments_lexer": "ipython3",
   "version": "3.7.6"
  }
 },
 "nbformat": 4,
 "nbformat_minor": 4
}
